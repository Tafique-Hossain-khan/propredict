{
 "cells": [
  {
   "cell_type": "code",
   "execution_count": 4,
   "metadata": {},
   "outputs": [
    {
     "name": "stdout",
     "output_type": "stream",
     "text": [
      "Concatenation completed. Output saved to: D:\\scrape\\concatenated_data.csv\n"
     ]
    }
   ],
   "source": [
    "import os\n",
    "import pandas as pd\n",
    "\n",
    "# Specify the directory containing your CSV files\n",
    "directory_path = 'D:\\scrape'\n",
    "\n",
    "# Get a list of all CSV files in the directory\n",
    "csv_files = [file for file in os.listdir(directory_path) if file.endswith('.csv')]\n",
    "\n",
    "# Create an empty DataFrame to store the concatenated data\n",
    "concatenated_df = pd.DataFrame()\n",
    "\n",
    "# Iterate through each CSV file and concatenate its data to the main DataFrame\n",
    "for csv_file in csv_files:\n",
    "    file_path = os.path.join(directory_path, csv_file)\n",
    "    df = pd.read_csv(file_path)\n",
    "    concatenated_df = pd.concat([concatenated_df, df], ignore_index=True)\n",
    "\n",
    "# Choose a different output directory (e.g., user's home directory)\n",
    "output_file_path = os.path.expanduser('D:\\scrape\\concatenated_data.csv')\n",
    "\n",
    "# Save the concatenated DataFrame to a new CSV file\n",
    "concatenated_df.to_csv(output_file_path, index=False)\n",
    "\n",
    "print(\"Concatenation completed. Output saved to:\", output_file_path)\n"
   ]
  },
  {
   "cell_type": "code",
   "execution_count": 5,
   "metadata": {},
   "outputs": [],
   "source": [
    "import pandas as pd"
   ]
  },
  {
   "cell_type": "code",
   "execution_count": 6,
   "metadata": {},
   "outputs": [
    {
     "data": {
      "text/html": [
       "<div>\n",
       "<style scoped>\n",
       "    .dataframe tbody tr th:only-of-type {\n",
       "        vertical-align: middle;\n",
       "    }\n",
       "\n",
       "    .dataframe tbody tr th {\n",
       "        vertical-align: top;\n",
       "    }\n",
       "\n",
       "    .dataframe thead th {\n",
       "        text-align: right;\n",
       "    }\n",
       "</style>\n",
       "<table border=\"1\" class=\"dataframe\">\n",
       "  <thead>\n",
       "    <tr style=\"text-align: right;\">\n",
       "      <th></th>\n",
       "      <th>Unnamed: 0</th>\n",
       "      <th>name</th>\n",
       "      <th>price</th>\n",
       "      <th>dispaly_size</th>\n",
       "      <th>display_resolution</th>\n",
       "      <th>dispaly_res_type</th>\n",
       "      <th>os</th>\n",
       "      <th>processor_brand</th>\n",
       "      <th>processor_type</th>\n",
       "      <th>processor_core</th>\n",
       "      <th>connectivity_feature</th>\n",
       "      <th>battery</th>\n",
       "      <th>camrea</th>\n",
       "      <th>ram</th>\n",
       "      <th>internal_storgar</th>\n",
       "    </tr>\n",
       "  </thead>\n",
       "  <tbody>\n",
       "    <tr>\n",
       "      <th>0</th>\n",
       "      <td>0</td>\n",
       "      <td>Google Pixel 7 Pro (Obsidian, 128 GB)  (12 GB ...</td>\n",
       "      <td>₹65,999</td>\n",
       "      <td>17.02 cm (6.7 inch)</td>\n",
       "      <td>3120 x 1440 Pixels</td>\n",
       "      <td>Quad HD+</td>\n",
       "      <td>Android 13</td>\n",
       "      <td>Google</td>\n",
       "      <td>Google Tensor G2</td>\n",
       "      <td>2G GSM/EDGE: Quad Band (850/900/1800/1900 MHz)...</td>\n",
       "      <td>5G, 4G, 3G, 2G</td>\n",
       "      <td>4926 mAh</td>\n",
       "      <td>50MP + 48MP + 12MP | 10.8MP Front Camera</td>\n",
       "      <td>12 GB</td>\n",
       "      <td>128 GB</td>\n",
       "    </tr>\n",
       "    <tr>\n",
       "      <th>1</th>\n",
       "      <td>1</td>\n",
       "      <td>Google Pixel 7a (Coral, 128 GB)  (8 GB RAM)</td>\n",
       "      <td>₹39,999</td>\n",
       "      <td>15.49 cm (6.1 inch)</td>\n",
       "      <td>2400 x 1080 Pixels</td>\n",
       "      <td>Full HD+</td>\n",
       "      <td>Android 13</td>\n",
       "      <td>Google</td>\n",
       "      <td>Tensor G2</td>\n",
       "      <td>2G GSM: 850 MHz/900 MHz/1800 MHz/1900 MHz, 3G ...</td>\n",
       "      <td>5G</td>\n",
       "      <td>4300 mAh</td>\n",
       "      <td>64MP (OIS) + 13MP | 13MP Front Camera</td>\n",
       "      <td>8 GB</td>\n",
       "      <td>128 GB</td>\n",
       "    </tr>\n",
       "    <tr>\n",
       "      <th>2</th>\n",
       "      <td>2</td>\n",
       "      <td>Google Pixel 7a (Charcoal, 128 GB)  (8 GB RAM)</td>\n",
       "      <td>₹39,999</td>\n",
       "      <td>15.49 cm (6.1 inch)</td>\n",
       "      <td>2400 x 1080 Pixels</td>\n",
       "      <td>Full HD+</td>\n",
       "      <td>Android 13</td>\n",
       "      <td>Google</td>\n",
       "      <td>Tensor G2</td>\n",
       "      <td>2G GSM: 850 MHz/900 MHz/1800 MHz/1900 MHz, 3G ...</td>\n",
       "      <td>5G</td>\n",
       "      <td>4300 mAh</td>\n",
       "      <td>64MP (OIS) + 13MP | 13MP Front Camera</td>\n",
       "      <td>8 GB</td>\n",
       "      <td>128 GB</td>\n",
       "    </tr>\n",
       "    <tr>\n",
       "      <th>3</th>\n",
       "      <td>3</td>\n",
       "      <td>Google Pixel 7a (Snow, 128 GB)  (8 GB RAM)</td>\n",
       "      <td>₹39,999</td>\n",
       "      <td>15.49 cm (6.1 inch)</td>\n",
       "      <td>2400 x 1080 Pixels</td>\n",
       "      <td>Full HD+</td>\n",
       "      <td>Android 13</td>\n",
       "      <td>Google</td>\n",
       "      <td>Tensor G2</td>\n",
       "      <td>2G GSM: 850 MHz/900 MHz/1800 MHz/1900 MHz, 3G ...</td>\n",
       "      <td>5G</td>\n",
       "      <td>4300 mAh</td>\n",
       "      <td>64MP (OIS) + 13MP | 13MP Front Camera</td>\n",
       "      <td>8 GB</td>\n",
       "      <td>128 GB</td>\n",
       "    </tr>\n",
       "    <tr>\n",
       "      <th>4</th>\n",
       "      <td>4</td>\n",
       "      <td>Google Pixel 7 (Obsidian, 128 GB)  (8 GB RAM)</td>\n",
       "      <td>₹46,999</td>\n",
       "      <td>16.0 cm (6.3 inch)</td>\n",
       "      <td>2400 x 1080 Pixels</td>\n",
       "      <td>Full HD+</td>\n",
       "      <td>Android 13</td>\n",
       "      <td>Google</td>\n",
       "      <td>Google Tensor G2</td>\n",
       "      <td>2G GSM/EDGE: Quad Band (850/900/1800/1900 MHz)...</td>\n",
       "      <td>5G, 4G, 3G, 2G</td>\n",
       "      <td>4270 mAh</td>\n",
       "      <td>50MP + 12MP | 10.8MP Front Camera</td>\n",
       "      <td>8 GB</td>\n",
       "      <td>128 GB</td>\n",
       "    </tr>\n",
       "  </tbody>\n",
       "</table>\n",
       "</div>"
      ],
      "text/plain": [
       "   Unnamed: 0                                               name    price  \\\n",
       "0           0  Google Pixel 7 Pro (Obsidian, 128 GB)  (12 GB ...  ₹65,999   \n",
       "1           1        Google Pixel 7a (Coral, 128 GB)  (8 GB RAM)  ₹39,999   \n",
       "2           2     Google Pixel 7a (Charcoal, 128 GB)  (8 GB RAM)  ₹39,999   \n",
       "3           3         Google Pixel 7a (Snow, 128 GB)  (8 GB RAM)  ₹39,999   \n",
       "4           4      Google Pixel 7 (Obsidian, 128 GB)  (8 GB RAM)  ₹46,999   \n",
       "\n",
       "          dispaly_size  display_resolution dispaly_res_type          os  \\\n",
       "0  17.02 cm (6.7 inch)  3120 x 1440 Pixels         Quad HD+  Android 13   \n",
       "1  15.49 cm (6.1 inch)  2400 x 1080 Pixels         Full HD+  Android 13   \n",
       "2  15.49 cm (6.1 inch)  2400 x 1080 Pixels         Full HD+  Android 13   \n",
       "3  15.49 cm (6.1 inch)  2400 x 1080 Pixels         Full HD+  Android 13   \n",
       "4   16.0 cm (6.3 inch)  2400 x 1080 Pixels         Full HD+  Android 13   \n",
       "\n",
       "  processor_brand    processor_type  \\\n",
       "0          Google  Google Tensor G2   \n",
       "1          Google         Tensor G2   \n",
       "2          Google         Tensor G2   \n",
       "3          Google         Tensor G2   \n",
       "4          Google  Google Tensor G2   \n",
       "\n",
       "                                      processor_core connectivity_feature  \\\n",
       "0  2G GSM/EDGE: Quad Band (850/900/1800/1900 MHz)...       5G, 4G, 3G, 2G   \n",
       "1  2G GSM: 850 MHz/900 MHz/1800 MHz/1900 MHz, 3G ...                   5G   \n",
       "2  2G GSM: 850 MHz/900 MHz/1800 MHz/1900 MHz, 3G ...                   5G   \n",
       "3  2G GSM: 850 MHz/900 MHz/1800 MHz/1900 MHz, 3G ...                   5G   \n",
       "4  2G GSM/EDGE: Quad Band (850/900/1800/1900 MHz)...       5G, 4G, 3G, 2G   \n",
       "\n",
       "    battery                                    camrea    ram internal_storgar  \n",
       "0  4926 mAh  50MP + 48MP + 12MP | 10.8MP Front Camera  12 GB           128 GB  \n",
       "1  4300 mAh     64MP (OIS) + 13MP | 13MP Front Camera   8 GB           128 GB  \n",
       "2  4300 mAh     64MP (OIS) + 13MP | 13MP Front Camera   8 GB           128 GB  \n",
       "3  4300 mAh     64MP (OIS) + 13MP | 13MP Front Camera   8 GB           128 GB  \n",
       "4  4270 mAh         50MP + 12MP | 10.8MP Front Camera   8 GB           128 GB  "
      ]
     },
     "execution_count": 6,
     "metadata": {},
     "output_type": "execute_result"
    }
   ],
   "source": [
    "df = pd.read_csv('concatenated_data.csv')\n",
    "df.head()"
   ]
  },
  {
   "cell_type": "code",
   "execution_count": 7,
   "metadata": {},
   "outputs": [
    {
     "data": {
      "text/plain": [
       "(5910, 15)"
      ]
     },
     "execution_count": 7,
     "metadata": {},
     "output_type": "execute_result"
    }
   ],
   "source": [
    "df.shape"
   ]
  },
  {
   "cell_type": "code",
   "execution_count": 8,
   "metadata": {},
   "outputs": [
    {
     "data": {
      "text/plain": [
       "Unnamed: 0                 0\n",
       "name                       0\n",
       "price                      0\n",
       "dispaly_size               0\n",
       "display_resolution         0\n",
       "dispaly_res_type        1146\n",
       "os                         0\n",
       "processor_brand          267\n",
       "processor_type            18\n",
       "processor_core            84\n",
       "connectivity_feature       0\n",
       "battery                    0\n",
       "camrea                     0\n",
       "ram                        0\n",
       "internal_storgar           0\n",
       "dtype: int64"
      ]
     },
     "execution_count": 8,
     "metadata": {},
     "output_type": "execute_result"
    }
   ],
   "source": [
    "df.isnull().sum()"
   ]
  },
  {
   "cell_type": "code",
   "execution_count": 9,
   "metadata": {},
   "outputs": [
    {
     "data": {
      "text/plain": [
       "3943"
      ]
     },
     "execution_count": 9,
     "metadata": {},
     "output_type": "execute_result"
    }
   ],
   "source": [
    "df.duplicated().sum()"
   ]
  },
  {
   "cell_type": "code",
   "execution_count": 10,
   "metadata": {},
   "outputs": [],
   "source": [
    "df.drop_duplicates(inplace=True)"
   ]
  },
  {
   "cell_type": "code",
   "execution_count": 11,
   "metadata": {},
   "outputs": [
    {
     "name": "stdout",
     "output_type": "stream",
     "text": [
      "<class 'pandas.core.frame.DataFrame'>\n",
      "Int64Index: 1967 entries, 0 to 1969\n",
      "Data columns (total 15 columns):\n",
      " #   Column                Non-Null Count  Dtype \n",
      "---  ------                --------------  ----- \n",
      " 0   Unnamed: 0            1967 non-null   int64 \n",
      " 1   name                  1967 non-null   object\n",
      " 2   price                 1967 non-null   object\n",
      " 3   dispaly_size          1967 non-null   object\n",
      " 4   display_resolution    1967 non-null   object\n",
      " 5   dispaly_res_type      1587 non-null   object\n",
      " 6   os                    1967 non-null   object\n",
      " 7   processor_brand       1878 non-null   object\n",
      " 8   processor_type        1961 non-null   object\n",
      " 9   processor_core        1939 non-null   object\n",
      " 10  connectivity_feature  1967 non-null   object\n",
      " 11  battery               1967 non-null   object\n",
      " 12  camrea                1967 non-null   object\n",
      " 13  ram                   1967 non-null   object\n",
      " 14  internal_storgar      1967 non-null   object\n",
      "dtypes: int64(1), object(14)\n",
      "memory usage: 245.9+ KB\n"
     ]
    }
   ],
   "source": [
    "df.info()"
   ]
  },
  {
   "cell_type": "code",
   "execution_count": 12,
   "metadata": {},
   "outputs": [],
   "source": [
    "df.drop(columns=['Unnamed: 0'],inplace=True)"
   ]
  },
  {
   "cell_type": "code",
   "execution_count": 13,
   "metadata": {},
   "outputs": [
    {
     "name": "stdout",
     "output_type": "stream",
     "text": [
      "DataFrame with rows having null values:\n"
     ]
    },
    {
     "data": {
      "text/html": [
       "<div>\n",
       "<style scoped>\n",
       "    .dataframe tbody tr th:only-of-type {\n",
       "        vertical-align: middle;\n",
       "    }\n",
       "\n",
       "    .dataframe tbody tr th {\n",
       "        vertical-align: top;\n",
       "    }\n",
       "\n",
       "    .dataframe thead th {\n",
       "        text-align: right;\n",
       "    }\n",
       "</style>\n",
       "<table border=\"1\" class=\"dataframe\">\n",
       "  <thead>\n",
       "    <tr style=\"text-align: right;\">\n",
       "      <th></th>\n",
       "      <th>name</th>\n",
       "      <th>price</th>\n",
       "      <th>dispaly_size</th>\n",
       "      <th>display_resolution</th>\n",
       "      <th>dispaly_res_type</th>\n",
       "      <th>os</th>\n",
       "      <th>processor_brand</th>\n",
       "      <th>processor_type</th>\n",
       "      <th>processor_core</th>\n",
       "      <th>connectivity_feature</th>\n",
       "      <th>battery</th>\n",
       "      <th>camrea</th>\n",
       "      <th>ram</th>\n",
       "      <th>internal_storgar</th>\n",
       "    </tr>\n",
       "  </thead>\n",
       "  <tbody>\n",
       "    <tr>\n",
       "      <th>23</th>\n",
       "      <td>MI 11X 5G (CELESTIAL SILVER, 128 GB)  (6 GB RAM)</td>\n",
       "      <td>₹24,999</td>\n",
       "      <td>16.94 cm (6.67 inch)</td>\n",
       "      <td>1080 x 2400$$pixels</td>\n",
       "      <td>NaN</td>\n",
       "      <td>Android Nougat 11</td>\n",
       "      <td>Huawei</td>\n",
       "      <td>Octa Core</td>\n",
       "      <td>3.2 GHz</td>\n",
       "      <td>4G VOLTE, 5G</td>\n",
       "      <td>4520 mAh</td>\n",
       "      <td>48MP Rear Camera</td>\n",
       "      <td>6 GB</td>\n",
       "      <td>128 GB</td>\n",
       "    </tr>\n",
       "    <tr>\n",
       "      <th>31</th>\n",
       "      <td>Honor 90 5G (Diamond Silver, 256 GB)  (8 GB RAM)</td>\n",
       "      <td>₹25,890</td>\n",
       "      <td>17.02 cm (6.7 inch)</td>\n",
       "      <td>1200 x 2664 pixels</td>\n",
       "      <td>NaN</td>\n",
       "      <td>Android Android 13.0, Tiramisu</td>\n",
       "      <td>Qualcomm</td>\n",
       "      <td>Octa Core</td>\n",
       "      <td>120 GHz</td>\n",
       "      <td>5G</td>\n",
       "      <td>5000 mAh</td>\n",
       "      <td>200MP Rear Camera</td>\n",
       "      <td>8 GB</td>\n",
       "      <td>256 GB</td>\n",
       "    </tr>\n",
       "    <tr>\n",
       "      <th>32</th>\n",
       "      <td>Honor 90 5G (Emerald Green, 512 GB)  (12 GB RAM)</td>\n",
       "      <td>₹27,790</td>\n",
       "      <td>17.02 cm (6.7 inch)</td>\n",
       "      <td>1200 x 2664 pixels</td>\n",
       "      <td>NaN</td>\n",
       "      <td>Android Android 13.0, MagicOS 7.1</td>\n",
       "      <td>Qualcomm</td>\n",
       "      <td>Octa Core</td>\n",
       "      <td>120 MHz</td>\n",
       "      <td>5G</td>\n",
       "      <td>5000 mAh</td>\n",
       "      <td>200MP Rear Camera</td>\n",
       "      <td>12 GB</td>\n",
       "      <td>512 GB</td>\n",
       "    </tr>\n",
       "    <tr>\n",
       "      <th>33</th>\n",
       "      <td>Honor 90 5G (Midnight Black, 512 GB)  (12 GB RAM)</td>\n",
       "      <td>₹28,880</td>\n",
       "      <td>17.02 cm (6.7 inch)</td>\n",
       "      <td>1200 x 2664 pixels</td>\n",
       "      <td>NaN</td>\n",
       "      <td>Android Android 13.0, MagicOS 7.1</td>\n",
       "      <td>Qualcomm</td>\n",
       "      <td>Octa Core</td>\n",
       "      <td>120 MHz</td>\n",
       "      <td>5G</td>\n",
       "      <td>5000 mAh</td>\n",
       "      <td>200MP Rear Camera</td>\n",
       "      <td>12 GB</td>\n",
       "      <td>512 GB</td>\n",
       "    </tr>\n",
       "    <tr>\n",
       "      <th>36</th>\n",
       "      <td>Honor 90 5G (Midnight Black, 256 GB)  (8 GB RAM)</td>\n",
       "      <td>₹33,999</td>\n",
       "      <td>17.02 cm (6.7 inch)</td>\n",
       "      <td>1200 x 2664 pixels</td>\n",
       "      <td>NaN</td>\n",
       "      <td>Android Android 13.0, MagicOS 7.1</td>\n",
       "      <td>Qualcomm</td>\n",
       "      <td>Octa Core</td>\n",
       "      <td>120 MHz</td>\n",
       "      <td>5G</td>\n",
       "      <td>5000 mAh</td>\n",
       "      <td>200MP Rear Camera</td>\n",
       "      <td>8 GB</td>\n",
       "      <td>256 GB</td>\n",
       "    </tr>\n",
       "    <tr>\n",
       "      <th>...</th>\n",
       "      <td>...</td>\n",
       "      <td>...</td>\n",
       "      <td>...</td>\n",
       "      <td>...</td>\n",
       "      <td>...</td>\n",
       "      <td>...</td>\n",
       "      <td>...</td>\n",
       "      <td>...</td>\n",
       "      <td>...</td>\n",
       "      <td>...</td>\n",
       "      <td>...</td>\n",
       "      <td>...</td>\n",
       "      <td>...</td>\n",
       "      <td>...</td>\n",
       "    </tr>\n",
       "    <tr>\n",
       "      <th>1953</th>\n",
       "      <td>Redmi 9A Sport (Coral Green, 32 GB)  (3 GB RAM)</td>\n",
       "      <td>₹8,333</td>\n",
       "      <td>16.59 cm (6.53 inch)</td>\n",
       "      <td>1600 x 720 pixel</td>\n",
       "      <td>NaN</td>\n",
       "      <td>Android Q 10</td>\n",
       "      <td>Mediatek</td>\n",
       "      <td>Octa Core</td>\n",
       "      <td>2 GHz</td>\n",
       "      <td>4G VOLTE, 4G</td>\n",
       "      <td>5000 mAh</td>\n",
       "      <td>13MP Rear Camera</td>\n",
       "      <td>3 GB</td>\n",
       "      <td>32 GB</td>\n",
       "    </tr>\n",
       "    <tr>\n",
       "      <th>1954</th>\n",
       "      <td>Redmi 9A Sport (Carbon Black, 32 GB)  (3 GB RAM)</td>\n",
       "      <td>₹7,990</td>\n",
       "      <td>16.59 cm (6.53 inch)</td>\n",
       "      <td>1600 x 720 pixel</td>\n",
       "      <td>NaN</td>\n",
       "      <td>Android Q 10</td>\n",
       "      <td>Mediatek</td>\n",
       "      <td>Octa Core</td>\n",
       "      <td>2 GHz</td>\n",
       "      <td>4G VOLTE, 4G</td>\n",
       "      <td>5000 mAh</td>\n",
       "      <td>13MP Rear Camera</td>\n",
       "      <td>3 GB</td>\n",
       "      <td>32 GB</td>\n",
       "    </tr>\n",
       "    <tr>\n",
       "      <th>1955</th>\n",
       "      <td>Redmi 9A Sport (Carbon Black, 32 GB)  (2 GB RAM)</td>\n",
       "      <td>₹7,790</td>\n",
       "      <td>16.59 cm (6.53 inch)</td>\n",
       "      <td>720 x 1600 pixel</td>\n",
       "      <td>NaN</td>\n",
       "      <td>Android Q 10</td>\n",
       "      <td>Mediatek</td>\n",
       "      <td>Octa Core</td>\n",
       "      <td>2 GHz</td>\n",
       "      <td>4G VOLTE, 4G</td>\n",
       "      <td>5000 mAh</td>\n",
       "      <td>13MP Rear Camera</td>\n",
       "      <td>2 GB</td>\n",
       "      <td>32 GB</td>\n",
       "    </tr>\n",
       "    <tr>\n",
       "      <th>1960</th>\n",
       "      <td>REDMI A2+ (?Aqua Blue, 64 GB)  (4 GB RAM)</td>\n",
       "      <td>₹7,999</td>\n",
       "      <td>16.56 cm (6.52 inch)</td>\n",
       "      <td>1600x720$$Pixels</td>\n",
       "      <td>NaN</td>\n",
       "      <td>Android Android 13</td>\n",
       "      <td>Mediatek</td>\n",
       "      <td>Octa Core</td>\n",
       "      <td>2.2 GHz</td>\n",
       "      <td>4G VOLTE</td>\n",
       "      <td>5000 mAh</td>\n",
       "      <td>8MP Rear Camera</td>\n",
       "      <td>4 GB</td>\n",
       "      <td>64 GB</td>\n",
       "    </tr>\n",
       "    <tr>\n",
       "      <th>1967</th>\n",
       "      <td>REDMI 10 Prime 2022 (Phantom Black, 64 GB)  (4...</td>\n",
       "      <td>₹9,990</td>\n",
       "      <td>16.51 cm (6.5 inch)</td>\n",
       "      <td>2400x1080</td>\n",
       "      <td>NaN</td>\n",
       "      <td>Android Q Android Q 12.5</td>\n",
       "      <td>Mediatek</td>\n",
       "      <td>Octa Core</td>\n",
       "      <td>2 GHz</td>\n",
       "      <td>4G VOLTE</td>\n",
       "      <td>6000 mAh</td>\n",
       "      <td>50MP Rear Camera</td>\n",
       "      <td>4 GB</td>\n",
       "      <td>64 GB</td>\n",
       "    </tr>\n",
       "  </tbody>\n",
       "</table>\n",
       "<p>414 rows × 14 columns</p>\n",
       "</div>"
      ],
      "text/plain": [
       "                                                   name    price  \\\n",
       "23     MI 11X 5G (CELESTIAL SILVER, 128 GB)  (6 GB RAM)  ₹24,999   \n",
       "31     Honor 90 5G (Diamond Silver, 256 GB)  (8 GB RAM)  ₹25,890   \n",
       "32     Honor 90 5G (Emerald Green, 512 GB)  (12 GB RAM)  ₹27,790   \n",
       "33    Honor 90 5G (Midnight Black, 512 GB)  (12 GB RAM)  ₹28,880   \n",
       "36     Honor 90 5G (Midnight Black, 256 GB)  (8 GB RAM)  ₹33,999   \n",
       "...                                                 ...      ...   \n",
       "1953    Redmi 9A Sport (Coral Green, 32 GB)  (3 GB RAM)   ₹8,333   \n",
       "1954   Redmi 9A Sport (Carbon Black, 32 GB)  (3 GB RAM)   ₹7,990   \n",
       "1955   Redmi 9A Sport (Carbon Black, 32 GB)  (2 GB RAM)   ₹7,790   \n",
       "1960          REDMI A2+ (?Aqua Blue, 64 GB)  (4 GB RAM)   ₹7,999   \n",
       "1967  REDMI 10 Prime 2022 (Phantom Black, 64 GB)  (4...   ₹9,990   \n",
       "\n",
       "              dispaly_size   display_resolution dispaly_res_type  \\\n",
       "23    16.94 cm (6.67 inch)  1080 x 2400$$pixels              NaN   \n",
       "31     17.02 cm (6.7 inch)   1200 x 2664 pixels              NaN   \n",
       "32     17.02 cm (6.7 inch)   1200 x 2664 pixels              NaN   \n",
       "33     17.02 cm (6.7 inch)   1200 x 2664 pixels              NaN   \n",
       "36     17.02 cm (6.7 inch)   1200 x 2664 pixels              NaN   \n",
       "...                    ...                  ...              ...   \n",
       "1953  16.59 cm (6.53 inch)     1600 x 720 pixel              NaN   \n",
       "1954  16.59 cm (6.53 inch)     1600 x 720 pixel              NaN   \n",
       "1955  16.59 cm (6.53 inch)     720 x 1600 pixel              NaN   \n",
       "1960  16.56 cm (6.52 inch)     1600x720$$Pixels              NaN   \n",
       "1967   16.51 cm (6.5 inch)            2400x1080              NaN   \n",
       "\n",
       "                                     os processor_brand processor_type  \\\n",
       "23                    Android Nougat 11          Huawei      Octa Core   \n",
       "31       Android Android 13.0, Tiramisu        Qualcomm      Octa Core   \n",
       "32    Android Android 13.0, MagicOS 7.1        Qualcomm      Octa Core   \n",
       "33    Android Android 13.0, MagicOS 7.1        Qualcomm      Octa Core   \n",
       "36    Android Android 13.0, MagicOS 7.1        Qualcomm      Octa Core   \n",
       "...                                 ...             ...            ...   \n",
       "1953                       Android Q 10        Mediatek      Octa Core   \n",
       "1954                       Android Q 10        Mediatek      Octa Core   \n",
       "1955                       Android Q 10        Mediatek      Octa Core   \n",
       "1960                 Android Android 13        Mediatek      Octa Core   \n",
       "1967           Android Q Android Q 12.5        Mediatek      Octa Core   \n",
       "\n",
       "     processor_core connectivity_feature   battery             camrea    ram  \\\n",
       "23          3.2 GHz         4G VOLTE, 5G  4520 mAh   48MP Rear Camera   6 GB   \n",
       "31          120 GHz                   5G  5000 mAh  200MP Rear Camera   8 GB   \n",
       "32          120 MHz                   5G  5000 mAh  200MP Rear Camera  12 GB   \n",
       "33          120 MHz                   5G  5000 mAh  200MP Rear Camera  12 GB   \n",
       "36          120 MHz                   5G  5000 mAh  200MP Rear Camera   8 GB   \n",
       "...             ...                  ...       ...                ...    ...   \n",
       "1953          2 GHz         4G VOLTE, 4G  5000 mAh   13MP Rear Camera   3 GB   \n",
       "1954          2 GHz         4G VOLTE, 4G  5000 mAh   13MP Rear Camera   3 GB   \n",
       "1955          2 GHz         4G VOLTE, 4G  5000 mAh   13MP Rear Camera   2 GB   \n",
       "1960        2.2 GHz             4G VOLTE  5000 mAh    8MP Rear Camera   4 GB   \n",
       "1967          2 GHz             4G VOLTE  6000 mAh   50MP Rear Camera   4 GB   \n",
       "\n",
       "     internal_storgar  \n",
       "23             128 GB  \n",
       "31             256 GB  \n",
       "32             512 GB  \n",
       "33             512 GB  \n",
       "36             256 GB  \n",
       "...               ...  \n",
       "1953            32 GB  \n",
       "1954            32 GB  \n",
       "1955            32 GB  \n",
       "1960            64 GB  \n",
       "1967            64 GB  \n",
       "\n",
       "[414 rows x 14 columns]"
      ]
     },
     "execution_count": 13,
     "metadata": {},
     "output_type": "execute_result"
    }
   ],
   "source": [
    "import pandas as pd\n",
    "\n",
    "# Assuming df is your DataFrame\n",
    "# Replace df with your actual DataFrame\n",
    "\n",
    "# Create a new DataFrame containing only rows with null values\n",
    "df_with_null = df[df.isnull().any(axis=1)]\n",
    "\n",
    "# Display the DataFrame with rows having null values\n",
    "print(\"DataFrame with rows having null values:\")\n",
    "df_with_null\n"
   ]
  },
  {
   "cell_type": "code",
   "execution_count": 14,
   "metadata": {},
   "outputs": [],
   "source": [
    "df.dropna(inplace=True)"
   ]
  },
  {
   "cell_type": "code",
   "execution_count": 15,
   "metadata": {},
   "outputs": [
    {
     "data": {
      "text/plain": [
       "(1553, 14)"
      ]
     },
     "execution_count": 15,
     "metadata": {},
     "output_type": "execute_result"
    }
   ],
   "source": [
    "df.shape"
   ]
  },
  {
   "cell_type": "code",
   "execution_count": 16,
   "metadata": {},
   "outputs": [
    {
     "data": {
      "text/plain": [
       "name                    0\n",
       "price                   0\n",
       "dispaly_size            0\n",
       "display_resolution      0\n",
       "dispaly_res_type        0\n",
       "os                      0\n",
       "processor_brand         0\n",
       "processor_type          0\n",
       "processor_core          0\n",
       "connectivity_feature    0\n",
       "battery                 0\n",
       "camrea                  0\n",
       "ram                     0\n",
       "internal_storgar        0\n",
       "dtype: int64"
      ]
     },
     "execution_count": 16,
     "metadata": {},
     "output_type": "execute_result"
    }
   ],
   "source": [
    "df.isnull().sum()"
   ]
  },
  {
   "cell_type": "code",
   "execution_count": 17,
   "metadata": {},
   "outputs": [],
   "source": [
    "df[\"mobile_brand\"] = df['name'].apply(lambda x:x.split(\" \")[0])"
   ]
  },
  {
   "cell_type": "code",
   "execution_count": 18,
   "metadata": {},
   "outputs": [
    {
     "data": {
      "text/html": [
       "<div>\n",
       "<style scoped>\n",
       "    .dataframe tbody tr th:only-of-type {\n",
       "        vertical-align: middle;\n",
       "    }\n",
       "\n",
       "    .dataframe tbody tr th {\n",
       "        vertical-align: top;\n",
       "    }\n",
       "\n",
       "    .dataframe thead th {\n",
       "        text-align: right;\n",
       "    }\n",
       "</style>\n",
       "<table border=\"1\" class=\"dataframe\">\n",
       "  <thead>\n",
       "    <tr style=\"text-align: right;\">\n",
       "      <th></th>\n",
       "      <th>name</th>\n",
       "      <th>price</th>\n",
       "      <th>dispaly_size</th>\n",
       "      <th>display_resolution</th>\n",
       "      <th>dispaly_res_type</th>\n",
       "      <th>os</th>\n",
       "      <th>processor_brand</th>\n",
       "      <th>processor_type</th>\n",
       "      <th>processor_core</th>\n",
       "      <th>connectivity_feature</th>\n",
       "      <th>battery</th>\n",
       "      <th>camrea</th>\n",
       "      <th>ram</th>\n",
       "      <th>internal_storgar</th>\n",
       "      <th>mobile_brand</th>\n",
       "    </tr>\n",
       "  </thead>\n",
       "  <tbody>\n",
       "    <tr>\n",
       "      <th>116</th>\n",
       "      <td>Honor 4C (Gold, 8 GB)  (2 GB RAM)</td>\n",
       "      <td>₹9,499</td>\n",
       "      <td>Quick Start Guide, Charger, USB Cable, Handset</td>\n",
       "      <td>CHM-U01</td>\n",
       "      <td>4C</td>\n",
       "      <td>12.7 cm (5 inch)</td>\n",
       "      <td>1280 x 720 Pixels</td>\n",
       "      <td>HD</td>\n",
       "      <td>Mali-450 MP4</td>\n",
       "      <td>3G</td>\n",
       "      <td>2550 mAh</td>\n",
       "      <td>13MP Rear Camera | 5MP Front Camera</td>\n",
       "      <td>2 GB</td>\n",
       "      <td>8 GB</td>\n",
       "      <td>Honor</td>\n",
       "    </tr>\n",
       "  </tbody>\n",
       "</table>\n",
       "</div>"
      ],
      "text/plain": [
       "                                  name   price  \\\n",
       "116  Honor 4C (Gold, 8 GB)  (2 GB RAM)  ₹9,499   \n",
       "\n",
       "                                       dispaly_size display_resolution  \\\n",
       "116  Quick Start Guide, Charger, USB Cable, Handset            CHM-U01   \n",
       "\n",
       "    dispaly_res_type                os    processor_brand processor_type  \\\n",
       "116               4C  12.7 cm (5 inch)  1280 x 720 Pixels             HD   \n",
       "\n",
       "    processor_core connectivity_feature   battery  \\\n",
       "116   Mali-450 MP4                   3G  2550 mAh   \n",
       "\n",
       "                                  camrea   ram internal_storgar mobile_brand  \n",
       "116  13MP Rear Camera | 5MP Front Camera  2 GB             8 GB        Honor  "
      ]
     },
     "execution_count": 18,
     "metadata": {},
     "output_type": "execute_result"
    }
   ],
   "source": [
    "df.sample()"
   ]
  },
  {
   "cell_type": "markdown",
   "metadata": {},
   "source": [
    "# price"
   ]
  },
  {
   "cell_type": "code",
   "execution_count": 19,
   "metadata": {},
   "outputs": [
    {
     "data": {
      "text/plain": [
       "0       ₹65,999\n",
       "1       ₹39,999\n",
       "2       ₹39,999\n",
       "3       ₹39,999\n",
       "4       ₹46,999\n",
       "         ...   \n",
       "1964    ₹13,999\n",
       "1965     ₹6,690\n",
       "1966    ₹47,999\n",
       "1968    ₹24,999\n",
       "1969    ₹10,999\n",
       "Name: price, Length: 1553, dtype: object"
      ]
     },
     "execution_count": 19,
     "metadata": {},
     "output_type": "execute_result"
    }
   ],
   "source": [
    "df['price']"
   ]
  },
  {
   "cell_type": "code",
   "execution_count": 20,
   "metadata": {},
   "outputs": [],
   "source": [
    "df['price'] = df['price'].apply(lambda x:x.replace(\",\",\"\"))\n",
    "df['price'] = df['price'].apply(lambda x:x.replace(\"₹\",\"\"))"
   ]
  },
  {
   "cell_type": "code",
   "execution_count": 21,
   "metadata": {},
   "outputs": [],
   "source": [
    "df['price'] = df['price'].astype('Int32')"
   ]
  },
  {
   "cell_type": "code",
   "execution_count": 22,
   "metadata": {},
   "outputs": [
    {
     "name": "stdout",
     "output_type": "stream",
     "text": [
      "<class 'pandas.core.frame.DataFrame'>\n",
      "Int64Index: 1553 entries, 0 to 1969\n",
      "Data columns (total 15 columns):\n",
      " #   Column                Non-Null Count  Dtype \n",
      "---  ------                --------------  ----- \n",
      " 0   name                  1553 non-null   object\n",
      " 1   price                 1553 non-null   Int32 \n",
      " 2   dispaly_size          1553 non-null   object\n",
      " 3   display_resolution    1553 non-null   object\n",
      " 4   dispaly_res_type      1553 non-null   object\n",
      " 5   os                    1553 non-null   object\n",
      " 6   processor_brand       1553 non-null   object\n",
      " 7   processor_type        1553 non-null   object\n",
      " 8   processor_core        1553 non-null   object\n",
      " 9   connectivity_feature  1553 non-null   object\n",
      " 10  battery               1553 non-null   object\n",
      " 11  camrea                1553 non-null   object\n",
      " 12  ram                   1553 non-null   object\n",
      " 13  internal_storgar      1553 non-null   object\n",
      " 14  mobile_brand          1553 non-null   object\n",
      "dtypes: Int32(1), object(14)\n",
      "memory usage: 189.6+ KB\n"
     ]
    }
   ],
   "source": [
    "df.info()"
   ]
  },
  {
   "cell_type": "markdown",
   "metadata": {},
   "source": [
    "# ram and internal storage"
   ]
  },
  {
   "cell_type": "code",
   "execution_count": 23,
   "metadata": {},
   "outputs": [
    {
     "data": {
      "text/plain": [
       "8 GB      455\n",
       "4 GB      396\n",
       "6 GB      327\n",
       "3 GB      127\n",
       "12 GB     120\n",
       "2 GB      117\n",
       "1 GB        7\n",
       "16 GB       3\n",
       "512 MB      1\n",
       "Name: ram, dtype: int64"
      ]
     },
     "execution_count": 23,
     "metadata": {},
     "output_type": "execute_result"
    }
   ],
   "source": [
    "df['ram'].value_counts()"
   ]
  },
  {
   "cell_type": "code",
   "execution_count": 24,
   "metadata": {},
   "outputs": [
    {
     "data": {
      "text/plain": [
       "128 GB    706\n",
       "64 GB     341\n",
       "256 GB    261\n",
       "32 GB     157\n",
       "16 GB      44\n",
       "512 GB     29\n",
       "8 GB       12\n",
       "4 GB        2\n",
       "1 TB        1\n",
       "Name: internal_storgar, dtype: int64"
      ]
     },
     "execution_count": 24,
     "metadata": {},
     "output_type": "execute_result"
    }
   ],
   "source": [
    "df['internal_storgar'].value_counts()"
   ]
  },
  {
   "cell_type": "code",
   "execution_count": 25,
   "metadata": {},
   "outputs": [
    {
     "data": {
      "text/html": [
       "<div>\n",
       "<style scoped>\n",
       "    .dataframe tbody tr th:only-of-type {\n",
       "        vertical-align: middle;\n",
       "    }\n",
       "\n",
       "    .dataframe tbody tr th {\n",
       "        vertical-align: top;\n",
       "    }\n",
       "\n",
       "    .dataframe thead th {\n",
       "        text-align: right;\n",
       "    }\n",
       "</style>\n",
       "<table border=\"1\" class=\"dataframe\">\n",
       "  <thead>\n",
       "    <tr style=\"text-align: right;\">\n",
       "      <th></th>\n",
       "      <th>name</th>\n",
       "      <th>price</th>\n",
       "      <th>dispaly_size</th>\n",
       "      <th>display_resolution</th>\n",
       "      <th>dispaly_res_type</th>\n",
       "      <th>os</th>\n",
       "      <th>processor_brand</th>\n",
       "      <th>processor_type</th>\n",
       "      <th>processor_core</th>\n",
       "      <th>connectivity_feature</th>\n",
       "      <th>battery</th>\n",
       "      <th>camrea</th>\n",
       "      <th>ram</th>\n",
       "      <th>internal_storgar</th>\n",
       "      <th>mobile_brand</th>\n",
       "    </tr>\n",
       "  </thead>\n",
       "  <tbody>\n",
       "    <tr>\n",
       "      <th>85</th>\n",
       "      <td>Huawei Ascend Y600 (White, 4 GB)  (512 MB RAM)</td>\n",
       "      <td>9990</td>\n",
       "      <td>12.7 cm (5 inch)</td>\n",
       "      <td>480 x 854 Pixels</td>\n",
       "      <td>FWVGA</td>\n",
       "      <td>Android Jelly Bean 4.2</td>\n",
       "      <td>MediaTek MT6572</td>\n",
       "      <td>Dual Core</td>\n",
       "      <td>1.3 GHz</td>\n",
       "      <td>3G</td>\n",
       "      <td>2100 mAh</td>\n",
       "      <td>5MP Rear Camera | 0.3MP Front Camera</td>\n",
       "      <td>512 MB</td>\n",
       "      <td>4 GB</td>\n",
       "      <td>Huawei</td>\n",
       "    </tr>\n",
       "  </tbody>\n",
       "</table>\n",
       "</div>"
      ],
      "text/plain": [
       "                                              name  price      dispaly_size  \\\n",
       "85  Huawei Ascend Y600 (White, 4 GB)  (512 MB RAM)   9990  12.7 cm (5 inch)   \n",
       "\n",
       "   display_resolution dispaly_res_type                      os  \\\n",
       "85   480 x 854 Pixels            FWVGA  Android Jelly Bean 4.2   \n",
       "\n",
       "    processor_brand processor_type processor_core connectivity_feature  \\\n",
       "85  MediaTek MT6572      Dual Core        1.3 GHz                   3G   \n",
       "\n",
       "     battery                                camrea     ram internal_storgar  \\\n",
       "85  2100 mAh  5MP Rear Camera | 0.3MP Front Camera  512 MB             4 GB   \n",
       "\n",
       "   mobile_brand  \n",
       "85       Huawei  "
      ]
     },
     "execution_count": 25,
     "metadata": {},
     "output_type": "execute_result"
    }
   ],
   "source": [
    "df[df['ram'] == \"512 MB\"]"
   ]
  },
  {
   "cell_type": "code",
   "execution_count": 26,
   "metadata": {},
   "outputs": [
    {
     "data": {
      "text/html": [
       "<div>\n",
       "<style scoped>\n",
       "    .dataframe tbody tr th:only-of-type {\n",
       "        vertical-align: middle;\n",
       "    }\n",
       "\n",
       "    .dataframe tbody tr th {\n",
       "        vertical-align: top;\n",
       "    }\n",
       "\n",
       "    .dataframe thead th {\n",
       "        text-align: right;\n",
       "    }\n",
       "</style>\n",
       "<table border=\"1\" class=\"dataframe\">\n",
       "  <thead>\n",
       "    <tr style=\"text-align: right;\">\n",
       "      <th></th>\n",
       "      <th>name</th>\n",
       "      <th>price</th>\n",
       "      <th>dispaly_size</th>\n",
       "      <th>display_resolution</th>\n",
       "      <th>dispaly_res_type</th>\n",
       "      <th>os</th>\n",
       "      <th>processor_brand</th>\n",
       "      <th>processor_type</th>\n",
       "      <th>processor_core</th>\n",
       "      <th>connectivity_feature</th>\n",
       "      <th>battery</th>\n",
       "      <th>camrea</th>\n",
       "      <th>ram</th>\n",
       "      <th>internal_storgar</th>\n",
       "      <th>mobile_brand</th>\n",
       "    </tr>\n",
       "  </thead>\n",
       "  <tbody>\n",
       "    <tr>\n",
       "      <th>1558</th>\n",
       "      <td>SAMSUNG Galaxy S24 Ultra 5G (Titanium Gray, 1 ...</td>\n",
       "      <td>159999</td>\n",
       "      <td>17.27 cm (6.8 inch)</td>\n",
       "      <td>3120 x 1440 Pixels</td>\n",
       "      <td>Quad HD+</td>\n",
       "      <td>Android 14</td>\n",
       "      <td>Snapdragon</td>\n",
       "      <td>Snapdragon 8 Gen 3</td>\n",
       "      <td>Octa Core</td>\n",
       "      <td>5G, 4G, 3G, 2G</td>\n",
       "      <td>5000 mAh</td>\n",
       "      <td>200MP + 50MP + 12MP + 10MP | 12MP Front Camera</td>\n",
       "      <td>12 GB</td>\n",
       "      <td>1 TB</td>\n",
       "      <td>SAMSUNG</td>\n",
       "    </tr>\n",
       "  </tbody>\n",
       "</table>\n",
       "</div>"
      ],
      "text/plain": [
       "                                                   name   price  \\\n",
       "1558  SAMSUNG Galaxy S24 Ultra 5G (Titanium Gray, 1 ...  159999   \n",
       "\n",
       "             dispaly_size  display_resolution dispaly_res_type          os  \\\n",
       "1558  17.27 cm (6.8 inch)  3120 x 1440 Pixels         Quad HD+  Android 14   \n",
       "\n",
       "     processor_brand      processor_type processor_core connectivity_feature  \\\n",
       "1558      Snapdragon  Snapdragon 8 Gen 3      Octa Core       5G, 4G, 3G, 2G   \n",
       "\n",
       "       battery                                          camrea    ram  \\\n",
       "1558  5000 mAh  200MP + 50MP + 12MP + 10MP | 12MP Front Camera  12 GB   \n",
       "\n",
       "     internal_storgar mobile_brand  \n",
       "1558             1 TB      SAMSUNG  "
      ]
     },
     "execution_count": 26,
     "metadata": {},
     "output_type": "execute_result"
    }
   ],
   "source": [
    "df[df['internal_storgar'] == \"1 TB\"]"
   ]
  },
  {
   "cell_type": "code",
   "execution_count": 27,
   "metadata": {},
   "outputs": [],
   "source": [
    "df.drop(index=85,inplace=True)"
   ]
  },
  {
   "cell_type": "code",
   "execution_count": 28,
   "metadata": {},
   "outputs": [],
   "source": [
    "df.drop(index=1397,inplace=True)"
   ]
  },
  {
   "cell_type": "code",
   "execution_count": 29,
   "metadata": {},
   "outputs": [
    {
     "data": {
      "text/plain": [
       "8 GB     454\n",
       "4 GB     396\n",
       "6 GB     327\n",
       "3 GB     127\n",
       "12 GB    120\n",
       "2 GB     117\n",
       "1 GB       7\n",
       "16 GB      3\n",
       "Name: ram, dtype: int64"
      ]
     },
     "execution_count": 29,
     "metadata": {},
     "output_type": "execute_result"
    }
   ],
   "source": [
    "df['ram'].value_counts()"
   ]
  },
  {
   "cell_type": "code",
   "execution_count": 30,
   "metadata": {},
   "outputs": [
    {
     "data": {
      "text/plain": [
       "128 GB    706\n",
       "64 GB     341\n",
       "256 GB    260\n",
       "32 GB     157\n",
       "16 GB      44\n",
       "512 GB     29\n",
       "8 GB       12\n",
       "4 GB        1\n",
       "1 TB        1\n",
       "Name: internal_storgar, dtype: int64"
      ]
     },
     "execution_count": 30,
     "metadata": {},
     "output_type": "execute_result"
    }
   ],
   "source": [
    "df['internal_storgar'].value_counts()"
   ]
  },
  {
   "cell_type": "code",
   "execution_count": 31,
   "metadata": {},
   "outputs": [
    {
     "data": {
      "text/html": [
       "<div>\n",
       "<style scoped>\n",
       "    .dataframe tbody tr th:only-of-type {\n",
       "        vertical-align: middle;\n",
       "    }\n",
       "\n",
       "    .dataframe tbody tr th {\n",
       "        vertical-align: top;\n",
       "    }\n",
       "\n",
       "    .dataframe thead th {\n",
       "        text-align: right;\n",
       "    }\n",
       "</style>\n",
       "<table border=\"1\" class=\"dataframe\">\n",
       "  <thead>\n",
       "    <tr style=\"text-align: right;\">\n",
       "      <th></th>\n",
       "      <th>name</th>\n",
       "      <th>price</th>\n",
       "      <th>dispaly_size</th>\n",
       "      <th>display_resolution</th>\n",
       "      <th>dispaly_res_type</th>\n",
       "      <th>os</th>\n",
       "      <th>processor_brand</th>\n",
       "      <th>processor_type</th>\n",
       "      <th>processor_core</th>\n",
       "      <th>connectivity_feature</th>\n",
       "      <th>battery</th>\n",
       "      <th>camrea</th>\n",
       "      <th>ram</th>\n",
       "      <th>internal_storgar</th>\n",
       "      <th>mobile_brand</th>\n",
       "    </tr>\n",
       "  </thead>\n",
       "  <tbody>\n",
       "    <tr>\n",
       "      <th>1558</th>\n",
       "      <td>SAMSUNG Galaxy S24 Ultra 5G (Titanium Gray, 1 ...</td>\n",
       "      <td>159999</td>\n",
       "      <td>17.27 cm (6.8 inch)</td>\n",
       "      <td>3120 x 1440 Pixels</td>\n",
       "      <td>Quad HD+</td>\n",
       "      <td>Android 14</td>\n",
       "      <td>Snapdragon</td>\n",
       "      <td>Snapdragon 8 Gen 3</td>\n",
       "      <td>Octa Core</td>\n",
       "      <td>5G, 4G, 3G, 2G</td>\n",
       "      <td>5000 mAh</td>\n",
       "      <td>200MP + 50MP + 12MP + 10MP | 12MP Front Camera</td>\n",
       "      <td>12 GB</td>\n",
       "      <td>1 TB</td>\n",
       "      <td>SAMSUNG</td>\n",
       "    </tr>\n",
       "  </tbody>\n",
       "</table>\n",
       "</div>"
      ],
      "text/plain": [
       "                                                   name   price  \\\n",
       "1558  SAMSUNG Galaxy S24 Ultra 5G (Titanium Gray, 1 ...  159999   \n",
       "\n",
       "             dispaly_size  display_resolution dispaly_res_type          os  \\\n",
       "1558  17.27 cm (6.8 inch)  3120 x 1440 Pixels         Quad HD+  Android 14   \n",
       "\n",
       "     processor_brand      processor_type processor_core connectivity_feature  \\\n",
       "1558      Snapdragon  Snapdragon 8 Gen 3      Octa Core       5G, 4G, 3G, 2G   \n",
       "\n",
       "       battery                                          camrea    ram  \\\n",
       "1558  5000 mAh  200MP + 50MP + 12MP + 10MP | 12MP Front Camera  12 GB   \n",
       "\n",
       "     internal_storgar mobile_brand  \n",
       "1558             1 TB      SAMSUNG  "
      ]
     },
     "execution_count": 31,
     "metadata": {},
     "output_type": "execute_result"
    }
   ],
   "source": [
    "df[df['internal_storgar'] == \"1 TB\"]"
   ]
  },
  {
   "cell_type": "code",
   "execution_count": 32,
   "metadata": {},
   "outputs": [],
   "source": [
    "df.drop(index=1558,inplace=True)"
   ]
  },
  {
   "cell_type": "code",
   "execution_count": 33,
   "metadata": {},
   "outputs": [
    {
     "data": {
      "text/plain": [
       "0       128 GB\n",
       "1       128 GB\n",
       "2       128 GB\n",
       "3       128 GB\n",
       "4       128 GB\n",
       "         ...  \n",
       "1964     64 GB\n",
       "1965     32 GB\n",
       "1966    128 GB\n",
       "1968    128 GB\n",
       "1969     64 GB\n",
       "Name: internal_storgar, Length: 1550, dtype: object"
      ]
     },
     "execution_count": 33,
     "metadata": {},
     "output_type": "execute_result"
    }
   ],
   "source": [
    "df['internal_storgar']"
   ]
  },
  {
   "cell_type": "code",
   "execution_count": 34,
   "metadata": {},
   "outputs": [],
   "source": [
    "df['ram'] = df['ram'].apply(lambda x:x.replace(\"GB\",''))\n",
    "df['internal_storgar'] = df['internal_storgar'].apply(lambda x:x.replace(\"GB\",''))"
   ]
  },
  {
   "cell_type": "code",
   "execution_count": 35,
   "metadata": {},
   "outputs": [],
   "source": [
    "df['ram'] = df['ram'].astype('Int32')\n",
    "df['internal_storgar'] = df['internal_storgar'].astype('Int32')"
   ]
  },
  {
   "cell_type": "code",
   "execution_count": 36,
   "metadata": {},
   "outputs": [
    {
     "name": "stdout",
     "output_type": "stream",
     "text": [
      "<class 'pandas.core.frame.DataFrame'>\n",
      "Int64Index: 1550 entries, 0 to 1969\n",
      "Data columns (total 15 columns):\n",
      " #   Column                Non-Null Count  Dtype \n",
      "---  ------                --------------  ----- \n",
      " 0   name                  1550 non-null   object\n",
      " 1   price                 1550 non-null   Int32 \n",
      " 2   dispaly_size          1550 non-null   object\n",
      " 3   display_resolution    1550 non-null   object\n",
      " 4   dispaly_res_type      1550 non-null   object\n",
      " 5   os                    1550 non-null   object\n",
      " 6   processor_brand       1550 non-null   object\n",
      " 7   processor_type        1550 non-null   object\n",
      " 8   processor_core        1550 non-null   object\n",
      " 9   connectivity_feature  1550 non-null   object\n",
      " 10  battery               1550 non-null   object\n",
      " 11  camrea                1550 non-null   object\n",
      " 12  ram                   1550 non-null   Int32 \n",
      " 13  internal_storgar      1550 non-null   Int32 \n",
      " 14  mobile_brand          1550 non-null   object\n",
      "dtypes: Int32(3), object(12)\n",
      "memory usage: 180.1+ KB\n"
     ]
    }
   ],
   "source": [
    "df.info()"
   ]
  },
  {
   "cell_type": "markdown",
   "metadata": {},
   "source": [
    "# Display size"
   ]
  },
  {
   "cell_type": "code",
   "execution_count": 37,
   "metadata": {},
   "outputs": [
    {
     "data": {
      "text/plain": [
       "0        17.02 cm (6.7 inch)\n",
       "1        15.49 cm (6.1 inch)\n",
       "2        15.49 cm (6.1 inch)\n",
       "3        15.49 cm (6.1 inch)\n",
       "4         16.0 cm (6.3 inch)\n",
       "                ...         \n",
       "1964      16.0 cm (6.3 inch)\n",
       "1965    13.84 cm (5.45 inch)\n",
       "1966    16.94 cm (6.67 inch)\n",
       "1968     16.76 cm (6.6 inch)\n",
       "1969     17.02 cm (6.7 inch)\n",
       "Name: dispaly_size, Length: 1550, dtype: object"
      ]
     },
     "execution_count": 37,
     "metadata": {},
     "output_type": "execute_result"
    }
   ],
   "source": [
    "df['dispaly_size']"
   ]
  },
  {
   "cell_type": "code",
   "execution_count": 38,
   "metadata": {},
   "outputs": [
    {
     "data": {
      "text/plain": [
       "(1550, 15)"
      ]
     },
     "execution_count": 38,
     "metadata": {},
     "output_type": "execute_result"
    }
   ],
   "source": [
    "df.shape"
   ]
  },
  {
   "cell_type": "code",
   "execution_count": 39,
   "metadata": {},
   "outputs": [],
   "source": [
    "df['dispaly_size'] = df['dispaly_size'].apply(lambda x:x.split(\" \")[2])"
   ]
  },
  {
   "cell_type": "code",
   "execution_count": 40,
   "metadata": {},
   "outputs": [],
   "source": [
    "df['dispaly_size_in_inches'] = df['dispaly_size'].apply(lambda x:x.replace(\"(\",\"\"))"
   ]
  },
  {
   "cell_type": "code",
   "execution_count": 41,
   "metadata": {},
   "outputs": [
    {
     "data": {
      "text/plain": [
       "(1550, 16)"
      ]
     },
     "execution_count": 41,
     "metadata": {},
     "output_type": "execute_result"
    }
   ],
   "source": [
    "df.shape"
   ]
  },
  {
   "cell_type": "code",
   "execution_count": 42,
   "metadata": {},
   "outputs": [],
   "source": [
    "df['dispaly_size_in_inches'] = pd.to_numeric(df['dispaly_size_in_inches'], errors='coerce')"
   ]
  },
  {
   "cell_type": "code",
   "execution_count": 43,
   "metadata": {},
   "outputs": [],
   "source": [
    "df = df[~df['dispaly_size_in_inches'].isna()]"
   ]
  },
  {
   "cell_type": "code",
   "execution_count": 44,
   "metadata": {},
   "outputs": [],
   "source": [
    "df.drop(columns=['dispaly_size'],axis=0,inplace=True)"
   ]
  },
  {
   "cell_type": "code",
   "execution_count": 45,
   "metadata": {},
   "outputs": [
    {
     "data": {
      "text/html": [
       "<div>\n",
       "<style scoped>\n",
       "    .dataframe tbody tr th:only-of-type {\n",
       "        vertical-align: middle;\n",
       "    }\n",
       "\n",
       "    .dataframe tbody tr th {\n",
       "        vertical-align: top;\n",
       "    }\n",
       "\n",
       "    .dataframe thead th {\n",
       "        text-align: right;\n",
       "    }\n",
       "</style>\n",
       "<table border=\"1\" class=\"dataframe\">\n",
       "  <thead>\n",
       "    <tr style=\"text-align: right;\">\n",
       "      <th></th>\n",
       "      <th>name</th>\n",
       "      <th>price</th>\n",
       "      <th>display_resolution</th>\n",
       "      <th>dispaly_res_type</th>\n",
       "      <th>os</th>\n",
       "      <th>processor_brand</th>\n",
       "      <th>processor_type</th>\n",
       "      <th>processor_core</th>\n",
       "      <th>connectivity_feature</th>\n",
       "      <th>battery</th>\n",
       "      <th>camrea</th>\n",
       "      <th>ram</th>\n",
       "      <th>internal_storgar</th>\n",
       "      <th>mobile_brand</th>\n",
       "      <th>dispaly_size_in_inches</th>\n",
       "    </tr>\n",
       "  </thead>\n",
       "  <tbody>\n",
       "    <tr>\n",
       "      <th>1869</th>\n",
       "      <td>REDMI 12C (Royal Blue, 128 GB)  (4 GB RAM)</td>\n",
       "      <td>8684</td>\n",
       "      <td>1650 x 720 Pixels</td>\n",
       "      <td>HD+</td>\n",
       "      <td>Android 12</td>\n",
       "      <td>Mediatek</td>\n",
       "      <td>Helio G85</td>\n",
       "      <td>Octa Core</td>\n",
       "      <td>4G, 3G, 2G</td>\n",
       "      <td>5000 mAh</td>\n",
       "      <td>50MP Rear Camera | 5MP Front Camera</td>\n",
       "      <td>4</td>\n",
       "      <td>128</td>\n",
       "      <td>REDMI</td>\n",
       "      <td>6.71</td>\n",
       "    </tr>\n",
       "  </tbody>\n",
       "</table>\n",
       "</div>"
      ],
      "text/plain": [
       "                                            name  price display_resolution  \\\n",
       "1869  REDMI 12C (Royal Blue, 128 GB)  (4 GB RAM)   8684  1650 x 720 Pixels   \n",
       "\n",
       "     dispaly_res_type          os processor_brand processor_type  \\\n",
       "1869              HD+  Android 12        Mediatek      Helio G85   \n",
       "\n",
       "     processor_core connectivity_feature   battery  \\\n",
       "1869      Octa Core           4G, 3G, 2G  5000 mAh   \n",
       "\n",
       "                                   camrea  ram  internal_storgar mobile_brand  \\\n",
       "1869  50MP Rear Camera | 5MP Front Camera    4               128        REDMI   \n",
       "\n",
       "      dispaly_size_in_inches  \n",
       "1869                    6.71  "
      ]
     },
     "execution_count": 45,
     "metadata": {},
     "output_type": "execute_result"
    }
   ],
   "source": [
    "df.sample()"
   ]
  },
  {
   "cell_type": "code",
   "execution_count": 46,
   "metadata": {},
   "outputs": [
    {
     "name": "stdout",
     "output_type": "stream",
     "text": [
      "<class 'pandas.core.frame.DataFrame'>\n",
      "Int64Index: 1511 entries, 0 to 1969\n",
      "Data columns (total 15 columns):\n",
      " #   Column                  Non-Null Count  Dtype  \n",
      "---  ------                  --------------  -----  \n",
      " 0   name                    1511 non-null   object \n",
      " 1   price                   1511 non-null   Int32  \n",
      " 2   display_resolution      1511 non-null   object \n",
      " 3   dispaly_res_type        1511 non-null   object \n",
      " 4   os                      1511 non-null   object \n",
      " 5   processor_brand         1511 non-null   object \n",
      " 6   processor_type          1511 non-null   object \n",
      " 7   processor_core          1511 non-null   object \n",
      " 8   connectivity_feature    1511 non-null   object \n",
      " 9   battery                 1511 non-null   object \n",
      " 10  camrea                  1511 non-null   object \n",
      " 11  ram                     1511 non-null   Int32  \n",
      " 12  internal_storgar        1511 non-null   Int32  \n",
      " 13  mobile_brand            1511 non-null   object \n",
      " 14  dispaly_size_in_inches  1511 non-null   float64\n",
      "dtypes: Int32(3), float64(1), object(11)\n",
      "memory usage: 175.6+ KB\n"
     ]
    }
   ],
   "source": [
    "df.info()"
   ]
  },
  {
   "cell_type": "markdown",
   "metadata": {},
   "source": [
    "# dispaly_res_type        "
   ]
  },
  {
   "cell_type": "code",
   "execution_count": 47,
   "metadata": {},
   "outputs": [],
   "source": [
    "to_drop1 = df[df['dispaly_res_type'] == \"Adreno GPU A710\"].index\n",
    "df.drop(index=to_drop1,inplace=True,axis=1)"
   ]
  },
  {
   "cell_type": "code",
   "execution_count": 48,
   "metadata": {},
   "outputs": [
    {
     "data": {
      "text/plain": [
       "(1495, 15)"
      ]
     },
     "execution_count": 48,
     "metadata": {},
     "output_type": "execute_result"
    }
   ],
   "source": [
    "df.shape"
   ]
  },
  {
   "cell_type": "code",
   "execution_count": 49,
   "metadata": {},
   "outputs": [],
   "source": [
    "to_drop2 = df[df['dispaly_res_type'] == \"Adreno GPU A710\"].index\n",
    "df.drop(index=to_drop2,inplace=True,axis=1)"
   ]
  },
  {
   "cell_type": "code",
   "execution_count": 50,
   "metadata": {},
   "outputs": [
    {
     "data": {
      "text/plain": [
       "(1495, 15)"
      ]
     },
     "execution_count": 50,
     "metadata": {},
     "output_type": "execute_result"
    }
   ],
   "source": [
    "df.shape"
   ]
  },
  {
   "cell_type": "code",
   "execution_count": 51,
   "metadata": {},
   "outputs": [],
   "source": [
    "to_drop3 = df[df['dispaly_res_type'] == \"ARM G610 MC4 \"].index\n",
    "df.drop(index=to_drop3,inplace=True,axis=1)"
   ]
  },
  {
   "cell_type": "code",
   "execution_count": 52,
   "metadata": {},
   "outputs": [],
   "source": [
    "names = [\n",
    "    'TFT',\n",
    "    'IMG 8322',\n",
    "    '16.55cm (6.5\") HD+ Infinity-V Display',\n",
    "    'Adreno GPU 512',\n",
    "    '16M',\n",
    "    '16.7M',\n",
    "    'Adreno 640',\n",
    "    'Adreno 630',\n",
    "    'Mali-G57',\n",
    "    'ARM Mali-G57 MC2',\n",
    "    'FWVGA',\n",
    "    'Adreno 616',\n",
    "    'Adreno GPU 610',\n",
    "    'TFT-LCD',\n",
    "    'Adreno 610',\n",
    "    'ARM G610 MC4'\n",
    "]\n"
   ]
  },
  {
   "cell_type": "code",
   "execution_count": null,
   "metadata": {},
   "outputs": [],
   "source": []
  },
  {
   "cell_type": "code",
   "execution_count": 53,
   "metadata": {},
   "outputs": [],
   "source": [
    "to_drop4 = []\n",
    "for name in names:\n",
    "    to_drop4.append(df[df['dispaly_res_type'] == name ].index)"
   ]
  },
  {
   "cell_type": "code",
   "execution_count": 54,
   "metadata": {},
   "outputs": [],
   "source": [
    "for i in to_drop4:\n",
    "    df.drop(index=i,axis=1,inplace=True)"
   ]
  },
  {
   "cell_type": "code",
   "execution_count": 55,
   "metadata": {},
   "outputs": [],
   "source": [
    "to_drop5 = df[df['dispaly_res_type'] == \"Yes\"].index\n",
    "df.drop(index=to_drop5,inplace=True,axis=True)"
   ]
  },
  {
   "cell_type": "code",
   "execution_count": 56,
   "metadata": {},
   "outputs": [],
   "source": [
    "value_count = df['dispaly_res_type'].value_counts()\n",
    "top_5 = value_count.head(5)"
   ]
  },
  {
   "cell_type": "code",
   "execution_count": 57,
   "metadata": {},
   "outputs": [],
   "source": [
    "df['dispaly_res_type'] = df['dispaly_res_type'].apply(lambda x: x if x in top_5 else \"other\")"
   ]
  },
  {
   "cell_type": "code",
   "execution_count": 58,
   "metadata": {},
   "outputs": [
    {
     "data": {
      "text/plain": [
       "Full HD+                   694\n",
       "HD+                        466\n",
       "Full HD+ AMOLED Display    104\n",
       "HD                          48\n",
       "Full HD                     32\n",
       "Name: dispaly_res_type, dtype: int64"
      ]
     },
     "execution_count": 58,
     "metadata": {},
     "output_type": "execute_result"
    }
   ],
   "source": [
    "top_5"
   ]
  },
  {
   "cell_type": "code",
   "execution_count": 59,
   "metadata": {},
   "outputs": [
    {
     "data": {
      "text/plain": [
       "Full HD+                   694\n",
       "HD+                        466\n",
       "Full HD+ AMOLED Display    104\n",
       "other                       95\n",
       "HD                          48\n",
       "Full HD                     32\n",
       "Name: dispaly_res_type, dtype: int64"
      ]
     },
     "execution_count": 59,
     "metadata": {},
     "output_type": "execute_result"
    }
   ],
   "source": [
    "df['dispaly_res_type'].value_counts()"
   ]
  },
  {
   "cell_type": "markdown",
   "metadata": {},
   "source": [
    "# display resoultion 🟥🟥"
   ]
  },
  {
   "cell_type": "code",
   "execution_count": 60,
   "metadata": {},
   "outputs": [
    {
     "data": {
      "text/plain": [
       "0       3120 x 1440 Pixels\n",
       "1       2400 x 1080 Pixels\n",
       "2       2400 x 1080 Pixels\n",
       "3       2400 x 1080 Pixels\n",
       "4       2400 x 1080 Pixels\n",
       "               ...        \n",
       "1964    2340 x 1080 pixels\n",
       "1965     720 x 1440 Pixels\n",
       "1966    2400 x 1080 Pixels\n",
       "1968    2460 x 1080 Pixels\n",
       "1969     1650 x 720 Pixels\n",
       "Name: display_resolution, Length: 1439, dtype: object"
      ]
     },
     "execution_count": 60,
     "metadata": {},
     "output_type": "execute_result"
    }
   ],
   "source": [
    "df['display_resolution']"
   ]
  },
  {
   "cell_type": "code",
   "execution_count": 61,
   "metadata": {},
   "outputs": [
    {
     "name": "stdout",
     "output_type": "stream",
     "text": [
      "<class 'pandas.core.frame.DataFrame'>\n",
      "Int64Index: 1439 entries, 0 to 1969\n",
      "Data columns (total 15 columns):\n",
      " #   Column                  Non-Null Count  Dtype  \n",
      "---  ------                  --------------  -----  \n",
      " 0   name                    1439 non-null   object \n",
      " 1   price                   1439 non-null   Int32  \n",
      " 2   display_resolution      1439 non-null   object \n",
      " 3   dispaly_res_type        1439 non-null   object \n",
      " 4   os                      1439 non-null   object \n",
      " 5   processor_brand         1439 non-null   object \n",
      " 6   processor_type          1439 non-null   object \n",
      " 7   processor_core          1439 non-null   object \n",
      " 8   connectivity_feature    1439 non-null   object \n",
      " 9   battery                 1439 non-null   object \n",
      " 10  camrea                  1439 non-null   object \n",
      " 11  ram                     1439 non-null   Int32  \n",
      " 12  internal_storgar        1439 non-null   Int32  \n",
      " 13  mobile_brand            1439 non-null   object \n",
      " 14  dispaly_size_in_inches  1439 non-null   float64\n",
      "dtypes: Int32(3), float64(1), object(11)\n",
      "memory usage: 167.2+ KB\n"
     ]
    }
   ],
   "source": [
    "df.info()"
   ]
  },
  {
   "cell_type": "markdown",
   "metadata": {},
   "source": [
    "# os"
   ]
  },
  {
   "cell_type": "code",
   "execution_count": 62,
   "metadata": {},
   "outputs": [
    {
     "data": {
      "text/plain": [
       "Android 13                                                                    362\n",
       "Android 12                                                                    292\n",
       "Android 11                                                                    226\n",
       "Android 10                                                                    157\n",
       "Android 14                                                                    106\n",
       "Android Pie 9                                                                  51\n",
       "Android Pie 9.0                                                                30\n",
       "Android 13 Go                                                                  30\n",
       "Android Oreo 8.1                                                               29\n",
       "Android Nougat 7                                                               11\n",
       "Android 13 (Go Edition)                                                        11\n",
       "Android Oreo 8.1.0                                                             11\n",
       "Android Marshmallow 6                                                          10\n",
       "Android Oreo 8                                                                 10\n",
       "Android Q 10                                                                    7\n",
       "Android Pie 10                                                                  7\n",
       "Android 12 Go                                                                   7\n",
       "Android Nougat 7.1.1                                                            5\n",
       "Android Android 13 Go, Android 13.0                                             5\n",
       "Android Q 11                                                                    5\n",
       "Android Lollipop 5.1                                                            4\n",
       "Android Q Android 12                                                            4\n",
       "Android KitKat 4.4                                                              4\n",
       "Q 10                                                                            4\n",
       "Android Q 12                                                                    3\n",
       "Android Marshmallow v6.0                                                        3\n",
       "Android Nougat 7.1                                                              3\n",
       "Android Marshmallow 6.0.1                                                       3\n",
       "Android 10 (Go Edition)                                                         3\n",
       "Android 12 (Go Edition)                                                         3\n",
       "Android Jelly Bean 4.2                                                          3\n",
       "Android MIUI 14 With Android 13                                                 2\n",
       "Android Oreo 8.0                                                                2\n",
       "Android Nougat 7.1.2                                                            2\n",
       "Android Q 11.1                                                                  2\n",
       "Android Lollipop 5.1.1                                                          2\n",
       "Android Q Android 11                                                            2\n",
       "Android Oreo 10                                                                 2\n",
       "Android Android 13, v13.0 Operating System having One UI Core 5.1               2\n",
       "Android Android 11                                                              2\n",
       "Android 13.0                                                                    2\n",
       "Android Android 12                                                              2\n",
       "Android Q Android 13                                                            1\n",
       "Android Android 13, v13.0 Operating System having One UI Core 5.1 platform      1\n",
       "Android Android Oxygen Android 12                                               1\n",
       "Android Android 13                                                              1\n",
       "Android Android 13 OxygenOS                                                     1\n",
       "Android Oxygen Android 12                                                       1\n",
       "Android Oreo v8.1                                                               1\n",
       "Android Q Funtouch OS 13 (Based on Android 13)                                  1\n",
       "Name: os, dtype: int64"
      ]
     },
     "execution_count": 62,
     "metadata": {},
     "output_type": "execute_result"
    }
   ],
   "source": [
    "df['os'].value_counts()"
   ]
  },
  {
   "cell_type": "code",
   "execution_count": 63,
   "metadata": {},
   "outputs": [],
   "source": [
    "def android(s):\n",
    "\n",
    "    if '10' in s:\n",
    "        return 'Android 10'\n",
    "    if '11' in s:\n",
    "        return 'Android 11'\n",
    "    if '12' in s:\n",
    "        return'Android 12'\n",
    "    if '13' in s:\n",
    "        return 'Android 13'\n",
    "    if '14' in s:\n",
    "        return 'Android 14'\n",
    "    else:\n",
    "        return s\n",
    "            \n"
   ]
  },
  {
   "cell_type": "code",
   "execution_count": 64,
   "metadata": {},
   "outputs": [],
   "source": [
    "df['os'] = df['os'].apply(android)"
   ]
  },
  {
   "cell_type": "code",
   "execution_count": 65,
   "metadata": {},
   "outputs": [],
   "source": [
    "value_count = df['os'].value_counts()\n",
    "top_5 = value_count.head(5)\n"
   ]
  },
  {
   "cell_type": "code",
   "execution_count": 66,
   "metadata": {},
   "outputs": [
    {
     "data": {
      "text/plain": [
       "Android 13    419\n",
       "Android 12    313\n",
       "Android 11    237\n",
       "Android 10    180\n",
       "Android 14    106\n",
       "Name: os, dtype: int64"
      ]
     },
     "execution_count": 66,
     "metadata": {},
     "output_type": "execute_result"
    }
   ],
   "source": [
    "top_5"
   ]
  },
  {
   "cell_type": "code",
   "execution_count": 67,
   "metadata": {},
   "outputs": [],
   "source": [
    "df['os'] = df['os'].apply(lambda x: x if x in top_5 else \"other\")"
   ]
  },
  {
   "cell_type": "code",
   "execution_count": 68,
   "metadata": {},
   "outputs": [
    {
     "data": {
      "text/plain": [
       "Android 13    419\n",
       "Android 12    313\n",
       "Android 11    237\n",
       "other         184\n",
       "Android 10    180\n",
       "Android 14    106\n",
       "Name: os, dtype: int64"
      ]
     },
     "execution_count": 68,
     "metadata": {},
     "output_type": "execute_result"
    }
   ],
   "source": [
    "df['os'].value_counts()"
   ]
  },
  {
   "cell_type": "code",
   "execution_count": 69,
   "metadata": {},
   "outputs": [
    {
     "name": "stdout",
     "output_type": "stream",
     "text": [
      "<class 'pandas.core.frame.DataFrame'>\n",
      "Int64Index: 1439 entries, 0 to 1969\n",
      "Data columns (total 15 columns):\n",
      " #   Column                  Non-Null Count  Dtype  \n",
      "---  ------                  --------------  -----  \n",
      " 0   name                    1439 non-null   object \n",
      " 1   price                   1439 non-null   Int32  \n",
      " 2   display_resolution      1439 non-null   object \n",
      " 3   dispaly_res_type        1439 non-null   object \n",
      " 4   os                      1439 non-null   object \n",
      " 5   processor_brand         1439 non-null   object \n",
      " 6   processor_type          1439 non-null   object \n",
      " 7   processor_core          1439 non-null   object \n",
      " 8   connectivity_feature    1439 non-null   object \n",
      " 9   battery                 1439 non-null   object \n",
      " 10  camrea                  1439 non-null   object \n",
      " 11  ram                     1439 non-null   Int32  \n",
      " 12  internal_storgar        1439 non-null   Int32  \n",
      " 13  mobile_brand            1439 non-null   object \n",
      " 14  dispaly_size_in_inches  1439 non-null   float64\n",
      "dtypes: Int32(3), float64(1), object(11)\n",
      "memory usage: 167.2+ KB\n"
     ]
    }
   ],
   "source": [
    "df.info()"
   ]
  },
  {
   "cell_type": "markdown",
   "metadata": {},
   "source": [
    "# processor_brand         "
   ]
  },
  {
   "cell_type": "code",
   "execution_count": 70,
   "metadata": {},
   "outputs": [
    {
     "data": {
      "text/plain": [
       "Mediatek                                                 710\n",
       "Snapdragon                                               490\n",
       "Exynos                                                    81\n",
       "Unisoc                                                    69\n",
       "HiSilicon                                                 25\n",
       "Huawei                                                    23\n",
       "Google                                                    19\n",
       "Qualcomm                                                   5\n",
       "Spreadtrum                                                 4\n",
       "Qualcomm Snapdragon 410 MSM8916                            2\n",
       "Qualcomm Snapdragon 616 MSM8939V2                          2\n",
       "MT6582                                                     1\n",
       "Qualcomm Snapdragon 410 MSM8916 64-bit                     1\n",
       "0 QualcommÂ Snapdragon 616 MSM8939V2 Octa Core 1.5GHz      1\n",
       "Octa Core                                                  1\n",
       "MT6589                                                     1\n",
       "Cortex-A7                                                  1\n",
       "Qualcomm Snapdragon                                        1\n",
       "Mediatek MT6750 Octa Core 1.5 GHz                          1\n",
       "Mediatek MT6755 or MTK7650                                 1\n",
       "Name: processor_brand, dtype: int64"
      ]
     },
     "execution_count": 70,
     "metadata": {},
     "output_type": "execute_result"
    }
   ],
   "source": [
    "df['processor_brand'].value_counts()"
   ]
  },
  {
   "cell_type": "code",
   "execution_count": null,
   "metadata": {},
   "outputs": [],
   "source": []
  },
  {
   "cell_type": "code",
   "execution_count": 71,
   "metadata": {},
   "outputs": [],
   "source": [
    "info_list = [\n",
    "    'MT6582',\n",
    "    'MT6589',\n",
    "    'Cortex-A7',\n",
    "    'Octa Core'\n",
    "]\n"
   ]
  },
  {
   "cell_type": "code",
   "execution_count": 72,
   "metadata": {},
   "outputs": [],
   "source": [
    "to_drop4 = []\n",
    "for name in info_list:\n",
    "    to_drop4.append(df[df['processor_brand'] == name ].index)"
   ]
  },
  {
   "cell_type": "code",
   "execution_count": 73,
   "metadata": {},
   "outputs": [
    {
     "data": {
      "text/plain": [
       "[Int64Index([93], dtype='int64'),\n",
       " Int64Index([82], dtype='int64'),\n",
       " Int64Index([76], dtype='int64'),\n",
       " Int64Index([83], dtype='int64')]"
      ]
     },
     "execution_count": 73,
     "metadata": {},
     "output_type": "execute_result"
    }
   ],
   "source": [
    "to_drop4"
   ]
  },
  {
   "cell_type": "code",
   "execution_count": 74,
   "metadata": {},
   "outputs": [],
   "source": [
    "for i in to_drop4:\n",
    "    df.drop(index=i,axis=1,inplace=True)"
   ]
  },
  {
   "cell_type": "code",
   "execution_count": 75,
   "metadata": {},
   "outputs": [],
   "source": [
    "def processor(s):\n",
    "    if 'Mediatek' in s:\n",
    "        return 'Mediatek'\n",
    "    if 'Snapdragon'  in s:\n",
    "        return 'Snapdragon'\n",
    "    if 'Qualcomm' in s:\n",
    "        return \"Snapdragon\"\n",
    "    else:\n",
    "        return s"
   ]
  },
  {
   "cell_type": "code",
   "execution_count": 76,
   "metadata": {},
   "outputs": [],
   "source": [
    "df['processor_brand'] = df['processor_brand'].apply(processor)"
   ]
  },
  {
   "cell_type": "code",
   "execution_count": 77,
   "metadata": {},
   "outputs": [],
   "source": [
    "df.drop(columns=['processor_core'],axis='columns',inplace=True)"
   ]
  },
  {
   "cell_type": "code",
   "execution_count": 78,
   "metadata": {},
   "outputs": [],
   "source": [
    "df.drop(columns=['processor_type'],axis='columns',inplace=True)"
   ]
  },
  {
   "cell_type": "code",
   "execution_count": 79,
   "metadata": {},
   "outputs": [
    {
     "name": "stdout",
     "output_type": "stream",
     "text": [
      "<class 'pandas.core.frame.DataFrame'>\n",
      "Int64Index: 1435 entries, 0 to 1969\n",
      "Data columns (total 13 columns):\n",
      " #   Column                  Non-Null Count  Dtype  \n",
      "---  ------                  --------------  -----  \n",
      " 0   name                    1435 non-null   object \n",
      " 1   price                   1435 non-null   Int32  \n",
      " 2   display_resolution      1435 non-null   object \n",
      " 3   dispaly_res_type        1435 non-null   object \n",
      " 4   os                      1435 non-null   object \n",
      " 5   processor_brand         1435 non-null   object \n",
      " 6   connectivity_feature    1435 non-null   object \n",
      " 7   battery                 1435 non-null   object \n",
      " 8   camrea                  1435 non-null   object \n",
      " 9   ram                     1435 non-null   Int32  \n",
      " 10  internal_storgar        1435 non-null   Int32  \n",
      " 11  mobile_brand            1435 non-null   object \n",
      " 12  dispaly_size_in_inches  1435 non-null   float64\n",
      "dtypes: Int32(3), float64(1), object(9)\n",
      "memory usage: 144.3+ KB\n"
     ]
    }
   ],
   "source": [
    "df.info()"
   ]
  },
  {
   "cell_type": "markdown",
   "metadata": {},
   "source": [
    "# connectivity feature"
   ]
  },
  {
   "cell_type": "code",
   "execution_count": 80,
   "metadata": {},
   "outputs": [],
   "source": [
    "df['connectivity_feature'] = df['connectivity_feature'].apply(lambda x:x.replace('VOLTE',''))"
   ]
  },
  {
   "cell_type": "code",
   "execution_count": 81,
   "metadata": {},
   "outputs": [],
   "source": [
    "df['connectivity_feature'] = df['connectivity_feature'].apply(lambda x:x.replace('G',''))"
   ]
  },
  {
   "cell_type": "code",
   "execution_count": 82,
   "metadata": {},
   "outputs": [],
   "source": [
    "df['connectivity_feature'] = df['connectivity_feature'].apply(lambda x:x.replace(',',''))"
   ]
  },
  {
   "cell_type": "code",
   "execution_count": 83,
   "metadata": {},
   "outputs": [],
   "source": [
    "df['connectivity_feature'] = df['connectivity_feature'].apply(lambda x:x.split(\" \"))"
   ]
  },
  {
   "cell_type": "code",
   "execution_count": 105,
   "metadata": {},
   "outputs": [
    {
     "data": {
      "text/plain": [
       "4    847\n",
       "5    586\n",
       "2      1\n",
       "Name: connectivity_feature, dtype: int64"
      ]
     },
     "execution_count": 105,
     "metadata": {},
     "output_type": "execute_result"
    }
   ],
   "source": [
    "df['connectivity_feature'].value_counts()"
   ]
  },
  {
   "cell_type": "code",
   "execution_count": 85,
   "metadata": {},
   "outputs": [
    {
     "data": {
      "text/plain": [
       "'5'"
      ]
     },
     "execution_count": 85,
     "metadata": {},
     "output_type": "execute_result"
    }
   ],
   "source": [
    "max(l)"
   ]
  },
  {
   "cell_type": "code",
   "execution_count": 86,
   "metadata": {},
   "outputs": [],
   "source": [
    "df['connectivity_feature'] = df['connectivity_feature'].apply(lambda x: [int(i) for i in x if i.strip()])\n"
   ]
  },
  {
   "cell_type": "code",
   "execution_count": 87,
   "metadata": {},
   "outputs": [],
   "source": [
    "df['connectivity_feature'] = df['connectivity_feature'].apply(lambda x:max(x))"
   ]
  },
  {
   "cell_type": "code",
   "execution_count": 88,
   "metadata": {},
   "outputs": [
    {
     "name": "stdout",
     "output_type": "stream",
     "text": [
      "<class 'pandas.core.frame.DataFrame'>\n",
      "Int64Index: 1435 entries, 0 to 1969\n",
      "Data columns (total 13 columns):\n",
      " #   Column                  Non-Null Count  Dtype  \n",
      "---  ------                  --------------  -----  \n",
      " 0   name                    1435 non-null   object \n",
      " 1   price                   1435 non-null   Int32  \n",
      " 2   display_resolution      1435 non-null   object \n",
      " 3   dispaly_res_type        1435 non-null   object \n",
      " 4   os                      1435 non-null   object \n",
      " 5   processor_brand         1435 non-null   object \n",
      " 6   connectivity_feature    1435 non-null   int64  \n",
      " 7   battery                 1435 non-null   object \n",
      " 8   camrea                  1435 non-null   object \n",
      " 9   ram                     1435 non-null   Int32  \n",
      " 10  internal_storgar        1435 non-null   Int32  \n",
      " 11  mobile_brand            1435 non-null   object \n",
      " 12  dispaly_size_in_inches  1435 non-null   float64\n",
      "dtypes: Int32(3), float64(1), int64(1), object(8)\n",
      "memory usage: 144.3+ KB\n"
     ]
    }
   ],
   "source": [
    "df.info()"
   ]
  },
  {
   "cell_type": "markdown",
   "metadata": {},
   "source": [
    "# battery                 "
   ]
  },
  {
   "cell_type": "code",
   "execution_count": 89,
   "metadata": {},
   "outputs": [],
   "source": [
    "df['battery'] = df['battery'].apply(lambda x:x.replace(\"mAh\",''))\n",
    "df['battery'] = df['battery'].apply(lambda x:x.replace(\"mAH\",''))\n"
   ]
  },
  {
   "cell_type": "code",
   "execution_count": 90,
   "metadata": {},
   "outputs": [],
   "source": [
    "df['battery'] = df['battery'].astype('Int32')"
   ]
  },
  {
   "cell_type": "code",
   "execution_count": 91,
   "metadata": {},
   "outputs": [
    {
     "name": "stdout",
     "output_type": "stream",
     "text": [
      "<class 'pandas.core.frame.DataFrame'>\n",
      "Int64Index: 1435 entries, 0 to 1969\n",
      "Data columns (total 13 columns):\n",
      " #   Column                  Non-Null Count  Dtype  \n",
      "---  ------                  --------------  -----  \n",
      " 0   name                    1435 non-null   object \n",
      " 1   price                   1435 non-null   Int32  \n",
      " 2   display_resolution      1435 non-null   object \n",
      " 3   dispaly_res_type        1435 non-null   object \n",
      " 4   os                      1435 non-null   object \n",
      " 5   processor_brand         1435 non-null   object \n",
      " 6   connectivity_feature    1435 non-null   int64  \n",
      " 7   battery                 1435 non-null   Int32  \n",
      " 8   camrea                  1435 non-null   object \n",
      " 9   ram                     1435 non-null   Int32  \n",
      " 10  internal_storgar        1435 non-null   Int32  \n",
      " 11  mobile_brand            1435 non-null   object \n",
      " 12  dispaly_size_in_inches  1435 non-null   float64\n",
      "dtypes: Int32(4), float64(1), int64(1), object(7)\n",
      "memory usage: 140.1+ KB\n"
     ]
    }
   ],
   "source": [
    "df.info()"
   ]
  },
  {
   "cell_type": "markdown",
   "metadata": {},
   "source": [
    "# camera"
   ]
  },
  {
   "cell_type": "code",
   "execution_count": 92,
   "metadata": {},
   "outputs": [],
   "source": [
    "df['back_camera']=df['camrea'].apply(lambda x:x.split(\"|\")[0])"
   ]
  },
  {
   "cell_type": "code",
   "execution_count": 93,
   "metadata": {},
   "outputs": [],
   "source": [
    "import re\n",
    "import numpy as np\n",
    "\n",
    "def front_camrea(text):\n",
    "    #text = \"13MP Front Camera\"\n",
    "\n",
    "    pattern = r'(\\d+\\.?\\d*)MP Front Camera'\n",
    "    match = re.search(pattern, text)\n",
    "    if match:\n",
    "        return float(match.group(1))\n",
    "    else:\n",
    "        return np.nan"
   ]
  },
  {
   "cell_type": "code",
   "execution_count": 94,
   "metadata": {},
   "outputs": [],
   "source": [
    "df['front_camera'] = df['camrea'].apply(front_camrea)"
   ]
  },
  {
   "cell_type": "code",
   "execution_count": 95,
   "metadata": {},
   "outputs": [
    {
     "name": "stdout",
     "output_type": "stream",
     "text": [
      "<class 'pandas.core.frame.DataFrame'>\n",
      "Int64Index: 1435 entries, 0 to 1969\n",
      "Data columns (total 15 columns):\n",
      " #   Column                  Non-Null Count  Dtype  \n",
      "---  ------                  --------------  -----  \n",
      " 0   name                    1435 non-null   object \n",
      " 1   price                   1435 non-null   Int32  \n",
      " 2   display_resolution      1435 non-null   object \n",
      " 3   dispaly_res_type        1435 non-null   object \n",
      " 4   os                      1435 non-null   object \n",
      " 5   processor_brand         1435 non-null   object \n",
      " 6   connectivity_feature    1435 non-null   int64  \n",
      " 7   battery                 1435 non-null   Int32  \n",
      " 8   camrea                  1435 non-null   object \n",
      " 9   ram                     1435 non-null   Int32  \n",
      " 10  internal_storgar        1435 non-null   Int32  \n",
      " 11  mobile_brand            1435 non-null   object \n",
      " 12  dispaly_size_in_inches  1435 non-null   float64\n",
      " 13  back_camera             1435 non-null   object \n",
      " 14  front_camera            1325 non-null   float64\n",
      "dtypes: Int32(4), float64(2), int64(1), object(8)\n",
      "memory usage: 162.6+ KB\n"
     ]
    }
   ],
   "source": [
    "df.info()"
   ]
  },
  {
   "cell_type": "code",
   "execution_count": 96,
   "metadata": {},
   "outputs": [],
   "source": [
    "df['back_camera'] = df['back_camera'].apply(lambda x:x.split(' ')[0])"
   ]
  },
  {
   "cell_type": "code",
   "execution_count": 97,
   "metadata": {},
   "outputs": [],
   "source": [
    "df.drop(index=df[df['back_camera'] == 'Rear'].index,inplace=True)"
   ]
  },
  {
   "cell_type": "code",
   "execution_count": 98,
   "metadata": {},
   "outputs": [],
   "source": [
    "df['back_camera'] = df['back_camera'].apply(lambda x:x.replace(\"MP\",''))"
   ]
  },
  {
   "cell_type": "code",
   "execution_count": 99,
   "metadata": {},
   "outputs": [],
   "source": [
    "df['back_camera'] = df['back_camera'].astype('float32')"
   ]
  },
  {
   "cell_type": "code",
   "execution_count": 100,
   "metadata": {},
   "outputs": [
    {
     "name": "stdout",
     "output_type": "stream",
     "text": [
      "<class 'pandas.core.frame.DataFrame'>\n",
      "Int64Index: 1434 entries, 0 to 1969\n",
      "Data columns (total 15 columns):\n",
      " #   Column                  Non-Null Count  Dtype  \n",
      "---  ------                  --------------  -----  \n",
      " 0   name                    1434 non-null   object \n",
      " 1   price                   1434 non-null   Int32  \n",
      " 2   display_resolution      1434 non-null   object \n",
      " 3   dispaly_res_type        1434 non-null   object \n",
      " 4   os                      1434 non-null   object \n",
      " 5   processor_brand         1434 non-null   object \n",
      " 6   connectivity_feature    1434 non-null   int64  \n",
      " 7   battery                 1434 non-null   Int32  \n",
      " 8   camrea                  1434 non-null   object \n",
      " 9   ram                     1434 non-null   Int32  \n",
      " 10  internal_storgar        1434 non-null   Int32  \n",
      " 11  mobile_brand            1434 non-null   object \n",
      " 12  dispaly_size_in_inches  1434 non-null   float64\n",
      " 13  back_camera             1434 non-null   float32\n",
      " 14  front_camera            1324 non-null   float64\n",
      "dtypes: Int32(4), float32(1), float64(2), int64(1), object(7)\n",
      "memory usage: 156.8+ KB\n"
     ]
    }
   ],
   "source": [
    "df.info()"
   ]
  },
  {
   "cell_type": "code",
   "execution_count": 101,
   "metadata": {},
   "outputs": [],
   "source": [
    "df.drop(columns=['camrea'],axis='columns',inplace=True)"
   ]
  },
  {
   "cell_type": "code",
   "execution_count": 103,
   "metadata": {},
   "outputs": [],
   "source": [
    "#df.to_csv(\"phone_data.csv\")\n"
   ]
  },
  {
   "cell_type": "code",
   "execution_count": null,
   "metadata": {},
   "outputs": [],
   "source": []
  }
 ],
 "metadata": {
  "kernelspec": {
   "display_name": "Python 3",
   "language": "python",
   "name": "python3"
  },
  "language_info": {
   "codemirror_mode": {
    "name": "ipython",
    "version": 3
   },
   "file_extension": ".py",
   "mimetype": "text/x-python",
   "name": "python",
   "nbconvert_exporter": "python",
   "pygments_lexer": "ipython3",
   "version": "3.10.7"
  }
 },
 "nbformat": 4,
 "nbformat_minor": 2
}
