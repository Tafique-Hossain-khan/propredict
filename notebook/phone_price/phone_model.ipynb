{
 "cells": [
  {
   "cell_type": "code",
   "execution_count": 1,
   "metadata": {},
   "outputs": [],
   "source": [
    "import pandas as pd\n",
    "import numpy as np\n",
    "import matplotlib.pyplot as plt\n",
    "\n",
    "import seaborn as sns"
   ]
  },
  {
   "cell_type": "code",
   "execution_count": 2,
   "metadata": {},
   "outputs": [
    {
     "data": {
      "text/html": [
       "<div>\n",
       "<style scoped>\n",
       "    .dataframe tbody tr th:only-of-type {\n",
       "        vertical-align: middle;\n",
       "    }\n",
       "\n",
       "    .dataframe tbody tr th {\n",
       "        vertical-align: top;\n",
       "    }\n",
       "\n",
       "    .dataframe thead th {\n",
       "        text-align: right;\n",
       "    }\n",
       "</style>\n",
       "<table border=\"1\" class=\"dataframe\">\n",
       "  <thead>\n",
       "    <tr style=\"text-align: right;\">\n",
       "      <th></th>\n",
       "      <th>price</th>\n",
       "      <th>dispaly_res_type</th>\n",
       "      <th>os</th>\n",
       "      <th>processor_brand</th>\n",
       "      <th>connectivity_feature</th>\n",
       "      <th>battery</th>\n",
       "      <th>ram</th>\n",
       "      <th>internal_storgar</th>\n",
       "      <th>mobile_brand</th>\n",
       "      <th>dispaly_size_in_inches</th>\n",
       "      <th>back_camera</th>\n",
       "      <th>front_camera</th>\n",
       "    </tr>\n",
       "  </thead>\n",
       "  <tbody>\n",
       "    <tr>\n",
       "      <th>0</th>\n",
       "      <td>65999</td>\n",
       "      <td>other</td>\n",
       "      <td>Android 13</td>\n",
       "      <td>other</td>\n",
       "      <td>5</td>\n",
       "      <td>4926</td>\n",
       "      <td>12</td>\n",
       "      <td>128</td>\n",
       "      <td>Google</td>\n",
       "      <td>6.7</td>\n",
       "      <td>50.0</td>\n",
       "      <td>10.8</td>\n",
       "    </tr>\n",
       "    <tr>\n",
       "      <th>1</th>\n",
       "      <td>39999</td>\n",
       "      <td>Full HD+</td>\n",
       "      <td>Android 13</td>\n",
       "      <td>other</td>\n",
       "      <td>5</td>\n",
       "      <td>4300</td>\n",
       "      <td>8</td>\n",
       "      <td>128</td>\n",
       "      <td>Google</td>\n",
       "      <td>6.1</td>\n",
       "      <td>64.0</td>\n",
       "      <td>13.0</td>\n",
       "    </tr>\n",
       "    <tr>\n",
       "      <th>2</th>\n",
       "      <td>39999</td>\n",
       "      <td>Full HD+</td>\n",
       "      <td>Android 13</td>\n",
       "      <td>other</td>\n",
       "      <td>5</td>\n",
       "      <td>4300</td>\n",
       "      <td>8</td>\n",
       "      <td>128</td>\n",
       "      <td>Google</td>\n",
       "      <td>6.1</td>\n",
       "      <td>64.0</td>\n",
       "      <td>13.0</td>\n",
       "    </tr>\n",
       "    <tr>\n",
       "      <th>3</th>\n",
       "      <td>39999</td>\n",
       "      <td>Full HD+</td>\n",
       "      <td>Android 13</td>\n",
       "      <td>other</td>\n",
       "      <td>5</td>\n",
       "      <td>4300</td>\n",
       "      <td>8</td>\n",
       "      <td>128</td>\n",
       "      <td>Google</td>\n",
       "      <td>6.1</td>\n",
       "      <td>64.0</td>\n",
       "      <td>13.0</td>\n",
       "    </tr>\n",
       "    <tr>\n",
       "      <th>4</th>\n",
       "      <td>46999</td>\n",
       "      <td>Full HD+</td>\n",
       "      <td>Android 13</td>\n",
       "      <td>other</td>\n",
       "      <td>5</td>\n",
       "      <td>4270</td>\n",
       "      <td>8</td>\n",
       "      <td>128</td>\n",
       "      <td>Google</td>\n",
       "      <td>6.3</td>\n",
       "      <td>50.0</td>\n",
       "      <td>10.8</td>\n",
       "    </tr>\n",
       "  </tbody>\n",
       "</table>\n",
       "</div>"
      ],
      "text/plain": [
       "   price dispaly_res_type          os processor_brand  connectivity_feature  \\\n",
       "0  65999            other  Android 13           other                     5   \n",
       "1  39999         Full HD+  Android 13           other                     5   \n",
       "2  39999         Full HD+  Android 13           other                     5   \n",
       "3  39999         Full HD+  Android 13           other                     5   \n",
       "4  46999         Full HD+  Android 13           other                     5   \n",
       "\n",
       "   battery  ram  internal_storgar mobile_brand  dispaly_size_in_inches  \\\n",
       "0     4926   12               128       Google                     6.7   \n",
       "1     4300    8               128       Google                     6.1   \n",
       "2     4300    8               128       Google                     6.1   \n",
       "3     4300    8               128       Google                     6.1   \n",
       "4     4270    8               128       Google                     6.3   \n",
       "\n",
       "   back_camera  front_camera  \n",
       "0         50.0          10.8  \n",
       "1         64.0          13.0  \n",
       "2         64.0          13.0  \n",
       "3         64.0          13.0  \n",
       "4         50.0          10.8  "
      ]
     },
     "execution_count": 2,
     "metadata": {},
     "output_type": "execute_result"
    }
   ],
   "source": [
    "df = pd.read_csv('D:/propredict/notebook/phone_price/cleaned_phone_data.csv')\n",
    "df.head()"
   ]
  },
  {
   "cell_type": "code",
   "execution_count": 3,
   "metadata": {},
   "outputs": [
    {
     "data": {
      "text/plain": [
       "price                       0\n",
       "dispaly_res_type            0\n",
       "os                          0\n",
       "processor_brand             0\n",
       "connectivity_feature        0\n",
       "battery                     0\n",
       "ram                         0\n",
       "internal_storgar            0\n",
       "mobile_brand                0\n",
       "dispaly_size_in_inches      0\n",
       "back_camera                 0\n",
       "front_camera              110\n",
       "dtype: int64"
      ]
     },
     "execution_count": 3,
     "metadata": {},
     "output_type": "execute_result"
    }
   ],
   "source": [
    "df.isnull().sum()"
   ]
  },
  {
   "cell_type": "code",
   "execution_count": 4,
   "metadata": {},
   "outputs": [
    {
     "data": {
      "text/plain": [
       "mobile_brand\n",
       "REDMI       220\n",
       "vivo        176\n",
       "OPPO        174\n",
       "realme      167\n",
       "SAMSUNG     164\n",
       "POCO        154\n",
       "Motorola    130\n",
       "Infinix      61\n",
       "Honor        56\n",
       "MOTOROLA     36\n",
       "Redmi        29\n",
       "Google       20\n",
       "OnePlus      17\n",
       "Mi            9\n",
       "Samsung       8\n",
       "Xiaomi        5\n",
       "Pluzz         3\n",
       "Huawei        3\n",
       "Virat         1\n",
       "Name: count, dtype: int64"
      ]
     },
     "execution_count": 4,
     "metadata": {},
     "output_type": "execute_result"
    }
   ],
   "source": [
    "df['mobile_brand'].value_counts()"
   ]
  },
  {
   "cell_type": "markdown",
   "metadata": {},
   "source": [
    "# mobile brand"
   ]
  },
  {
   "cell_type": "code",
   "execution_count": 5,
   "metadata": {},
   "outputs": [
    {
     "data": {
      "text/html": [
       "<div>\n",
       "<style scoped>\n",
       "    .dataframe tbody tr th:only-of-type {\n",
       "        vertical-align: middle;\n",
       "    }\n",
       "\n",
       "    .dataframe tbody tr th {\n",
       "        vertical-align: top;\n",
       "    }\n",
       "\n",
       "    .dataframe thead th {\n",
       "        text-align: right;\n",
       "    }\n",
       "</style>\n",
       "<table border=\"1\" class=\"dataframe\">\n",
       "  <thead>\n",
       "    <tr style=\"text-align: right;\">\n",
       "      <th></th>\n",
       "      <th>price</th>\n",
       "      <th>dispaly_res_type</th>\n",
       "      <th>os</th>\n",
       "      <th>processor_brand</th>\n",
       "      <th>connectivity_feature</th>\n",
       "      <th>battery</th>\n",
       "      <th>ram</th>\n",
       "      <th>internal_storgar</th>\n",
       "      <th>mobile_brand</th>\n",
       "      <th>dispaly_size_in_inches</th>\n",
       "      <th>back_camera</th>\n",
       "      <th>front_camera</th>\n",
       "    </tr>\n",
       "  </thead>\n",
       "  <tbody>\n",
       "    <tr>\n",
       "      <th>309</th>\n",
       "      <td>16999</td>\n",
       "      <td>HD</td>\n",
       "      <td>other</td>\n",
       "      <td>Snapdragon</td>\n",
       "      <td>4</td>\n",
       "      <td>2470</td>\n",
       "      <td>2</td>\n",
       "      <td>16</td>\n",
       "      <td>Virat</td>\n",
       "      <td>5.0</td>\n",
       "      <td>13.0</td>\n",
       "      <td>5.0</td>\n",
       "    </tr>\n",
       "  </tbody>\n",
       "</table>\n",
       "</div>"
      ],
      "text/plain": [
       "     price dispaly_res_type     os processor_brand  connectivity_feature  \\\n",
       "309  16999               HD  other      Snapdragon                     4   \n",
       "\n",
       "     battery  ram  internal_storgar mobile_brand  dispaly_size_in_inches  \\\n",
       "309     2470    2                16        Virat                     5.0   \n",
       "\n",
       "     back_camera  front_camera  \n",
       "309         13.0           5.0  "
      ]
     },
     "execution_count": 5,
     "metadata": {},
     "output_type": "execute_result"
    }
   ],
   "source": [
    "df[df['mobile_brand'] == 'Virat']"
   ]
  },
  {
   "cell_type": "code",
   "execution_count": 6,
   "metadata": {},
   "outputs": [],
   "source": [
    "df.drop(index=309,inplace=True,axis=1)"
   ]
  },
  {
   "cell_type": "code",
   "execution_count": 7,
   "metadata": {},
   "outputs": [],
   "source": [
    "def mobile(text):\n",
    "    if text == 'MOTOROLA':\n",
    "        return 'Motorola'\n",
    "    else:\n",
    "        return text"
   ]
  },
  {
   "cell_type": "code",
   "execution_count": 8,
   "metadata": {},
   "outputs": [],
   "source": [
    "df['mobile_brand'] = df['mobile_brand'].apply(mobile)"
   ]
  },
  {
   "cell_type": "code",
   "execution_count": 9,
   "metadata": {},
   "outputs": [],
   "source": [
    "# take to 10 mobile brand\n",
    "\n",
    "top_10_mobile = df['mobile_brand'].value_counts()\n",
    "mobile = top_10_mobile.head(10)\n",
    "\n",
    "df['mobile_brand'] = df['mobile_brand'].apply(lambda x: x if x in mobile else \"other\") "
   ]
  },
  {
   "cell_type": "code",
   "execution_count": 10,
   "metadata": {},
   "outputs": [],
   "source": [
    "column_to_convert =df.select_dtypes(include=[int,float]).columns"
   ]
  },
  {
   "cell_type": "markdown",
   "metadata": {},
   "source": [
    "# processor"
   ]
  },
  {
   "cell_type": "code",
   "execution_count": 11,
   "metadata": {},
   "outputs": [],
   "source": [
    "x = df['processor_brand'].value_counts()\n",
    "top_3 =x.head(3)\n",
    "df['processor_brand'] = df['processor_brand'].apply(lambda x: x if x in top_3 else \"other\")"
   ]
  },
  {
   "cell_type": "code",
   "execution_count": 12,
   "metadata": {},
   "outputs": [
    {
     "data": {
      "text/plain": [
       "(1432, 12)"
      ]
     },
     "execution_count": 12,
     "metadata": {},
     "output_type": "execute_result"
    }
   ],
   "source": [
    "df.shape"
   ]
  },
  {
   "cell_type": "code",
   "execution_count": 13,
   "metadata": {},
   "outputs": [
    {
     "data": {
      "text/plain": [
       "(1432, 12)"
      ]
     },
     "execution_count": 13,
     "metadata": {},
     "output_type": "execute_result"
    }
   ],
   "source": [
    "df.shape"
   ]
  },
  {
   "cell_type": "code",
   "execution_count": 14,
   "metadata": {},
   "outputs": [
    {
     "name": "stdout",
     "output_type": "stream",
     "text": [
      "<class 'pandas.core.frame.DataFrame'>\n",
      "Index: 1432 entries, 0 to 1432\n",
      "Data columns (total 12 columns):\n",
      " #   Column                  Non-Null Count  Dtype  \n",
      "---  ------                  --------------  -----  \n",
      " 0   price                   1432 non-null   int64  \n",
      " 1   dispaly_res_type        1432 non-null   object \n",
      " 2   os                      1432 non-null   object \n",
      " 3   processor_brand         1432 non-null   object \n",
      " 4   connectivity_feature    1432 non-null   int64  \n",
      " 5   battery                 1432 non-null   int64  \n",
      " 6   ram                     1432 non-null   int64  \n",
      " 7   internal_storgar        1432 non-null   int64  \n",
      " 8   mobile_brand            1432 non-null   object \n",
      " 9   dispaly_size_in_inches  1432 non-null   float64\n",
      " 10  back_camera             1432 non-null   float64\n",
      " 11  front_camera            1322 non-null   float64\n",
      "dtypes: float64(3), int64(5), object(4)\n",
      "memory usage: 145.4+ KB\n"
     ]
    }
   ],
   "source": [
    "df.info()\n"
   ]
  },
  {
   "cell_type": "code",
   "execution_count": 15,
   "metadata": {},
   "outputs": [
    {
     "data": {
      "text/html": [
       "<div>\n",
       "<style scoped>\n",
       "    .dataframe tbody tr th:only-of-type {\n",
       "        vertical-align: middle;\n",
       "    }\n",
       "\n",
       "    .dataframe tbody tr th {\n",
       "        vertical-align: top;\n",
       "    }\n",
       "\n",
       "    .dataframe thead th {\n",
       "        text-align: right;\n",
       "    }\n",
       "</style>\n",
       "<table border=\"1\" class=\"dataframe\">\n",
       "  <thead>\n",
       "    <tr style=\"text-align: right;\">\n",
       "      <th></th>\n",
       "      <th>price</th>\n",
       "      <th>dispaly_res_type</th>\n",
       "      <th>os</th>\n",
       "      <th>processor_brand</th>\n",
       "      <th>connectivity_feature</th>\n",
       "      <th>battery</th>\n",
       "      <th>ram</th>\n",
       "      <th>internal_storgar</th>\n",
       "      <th>mobile_brand</th>\n",
       "      <th>dispaly_size_in_inches</th>\n",
       "      <th>back_camera</th>\n",
       "      <th>front_camera</th>\n",
       "    </tr>\n",
       "  </thead>\n",
       "  <tbody>\n",
       "  </tbody>\n",
       "</table>\n",
       "</div>"
      ],
      "text/plain": [
       "Empty DataFrame\n",
       "Columns: [price, dispaly_res_type, os, processor_brand, connectivity_feature, battery, ram, internal_storgar, mobile_brand, dispaly_size_in_inches, back_camera, front_camera]\n",
       "Index: []"
      ]
     },
     "execution_count": 15,
     "metadata": {},
     "output_type": "execute_result"
    }
   ],
   "source": [
    "df[df['connectivity_feature'] == 2]"
   ]
  },
  {
   "cell_type": "code",
   "execution_count": 16,
   "metadata": {},
   "outputs": [],
   "source": [
    "df.drop(index=947,inplace=True,axis=1)"
   ]
  },
  {
   "cell_type": "code",
   "execution_count": 17,
   "metadata": {},
   "outputs": [
    {
     "data": {
      "text/html": [
       "<div>\n",
       "<style scoped>\n",
       "    .dataframe tbody tr th:only-of-type {\n",
       "        vertical-align: middle;\n",
       "    }\n",
       "\n",
       "    .dataframe tbody tr th {\n",
       "        vertical-align: top;\n",
       "    }\n",
       "\n",
       "    .dataframe thead th {\n",
       "        text-align: right;\n",
       "    }\n",
       "</style>\n",
       "<table border=\"1\" class=\"dataframe\">\n",
       "  <thead>\n",
       "    <tr style=\"text-align: right;\">\n",
       "      <th></th>\n",
       "      <th>price</th>\n",
       "      <th>dispaly_res_type</th>\n",
       "      <th>os</th>\n",
       "      <th>processor_brand</th>\n",
       "      <th>connectivity_feature</th>\n",
       "      <th>battery</th>\n",
       "      <th>ram</th>\n",
       "      <th>internal_storgar</th>\n",
       "      <th>mobile_brand</th>\n",
       "      <th>dispaly_size_in_inches</th>\n",
       "      <th>back_camera</th>\n",
       "      <th>front_camera</th>\n",
       "    </tr>\n",
       "  </thead>\n",
       "  <tbody>\n",
       "  </tbody>\n",
       "</table>\n",
       "</div>"
      ],
      "text/plain": [
       "Empty DataFrame\n",
       "Columns: [price, dispaly_res_type, os, processor_brand, connectivity_feature, battery, ram, internal_storgar, mobile_brand, dispaly_size_in_inches, back_camera, front_camera]\n",
       "Index: []"
      ]
     },
     "execution_count": 17,
     "metadata": {},
     "output_type": "execute_result"
    }
   ],
   "source": [
    "df[df['connectivity_feature'] == 2]"
   ]
  },
  {
   "cell_type": "code",
   "execution_count": 18,
   "metadata": {},
   "outputs": [
    {
     "data": {
      "text/html": [
       "<div>\n",
       "<style scoped>\n",
       "    .dataframe tbody tr th:only-of-type {\n",
       "        vertical-align: middle;\n",
       "    }\n",
       "\n",
       "    .dataframe tbody tr th {\n",
       "        vertical-align: top;\n",
       "    }\n",
       "\n",
       "    .dataframe thead th {\n",
       "        text-align: right;\n",
       "    }\n",
       "</style>\n",
       "<table border=\"1\" class=\"dataframe\">\n",
       "  <thead>\n",
       "    <tr style=\"text-align: right;\">\n",
       "      <th></th>\n",
       "      <th>price</th>\n",
       "      <th>dispaly_res_type</th>\n",
       "      <th>os</th>\n",
       "      <th>processor_brand</th>\n",
       "      <th>connectivity_feature</th>\n",
       "      <th>battery</th>\n",
       "      <th>ram</th>\n",
       "      <th>internal_storgar</th>\n",
       "      <th>mobile_brand</th>\n",
       "      <th>dispaly_size_in_inches</th>\n",
       "      <th>back_camera</th>\n",
       "      <th>front_camera</th>\n",
       "    </tr>\n",
       "  </thead>\n",
       "  <tbody>\n",
       "    <tr>\n",
       "      <th>0</th>\n",
       "      <td>65999</td>\n",
       "      <td>other</td>\n",
       "      <td>Android 13</td>\n",
       "      <td>other</td>\n",
       "      <td>5</td>\n",
       "      <td>4926</td>\n",
       "      <td>12</td>\n",
       "      <td>128</td>\n",
       "      <td>other</td>\n",
       "      <td>6.7</td>\n",
       "      <td>50.0</td>\n",
       "      <td>10.8</td>\n",
       "    </tr>\n",
       "    <tr>\n",
       "      <th>1</th>\n",
       "      <td>39999</td>\n",
       "      <td>Full HD+</td>\n",
       "      <td>Android 13</td>\n",
       "      <td>other</td>\n",
       "      <td>5</td>\n",
       "      <td>4300</td>\n",
       "      <td>8</td>\n",
       "      <td>128</td>\n",
       "      <td>other</td>\n",
       "      <td>6.1</td>\n",
       "      <td>64.0</td>\n",
       "      <td>13.0</td>\n",
       "    </tr>\n",
       "    <tr>\n",
       "      <th>2</th>\n",
       "      <td>39999</td>\n",
       "      <td>Full HD+</td>\n",
       "      <td>Android 13</td>\n",
       "      <td>other</td>\n",
       "      <td>5</td>\n",
       "      <td>4300</td>\n",
       "      <td>8</td>\n",
       "      <td>128</td>\n",
       "      <td>other</td>\n",
       "      <td>6.1</td>\n",
       "      <td>64.0</td>\n",
       "      <td>13.0</td>\n",
       "    </tr>\n",
       "    <tr>\n",
       "      <th>3</th>\n",
       "      <td>39999</td>\n",
       "      <td>Full HD+</td>\n",
       "      <td>Android 13</td>\n",
       "      <td>other</td>\n",
       "      <td>5</td>\n",
       "      <td>4300</td>\n",
       "      <td>8</td>\n",
       "      <td>128</td>\n",
       "      <td>other</td>\n",
       "      <td>6.1</td>\n",
       "      <td>64.0</td>\n",
       "      <td>13.0</td>\n",
       "    </tr>\n",
       "    <tr>\n",
       "      <th>4</th>\n",
       "      <td>46999</td>\n",
       "      <td>Full HD+</td>\n",
       "      <td>Android 13</td>\n",
       "      <td>other</td>\n",
       "      <td>5</td>\n",
       "      <td>4270</td>\n",
       "      <td>8</td>\n",
       "      <td>128</td>\n",
       "      <td>other</td>\n",
       "      <td>6.3</td>\n",
       "      <td>50.0</td>\n",
       "      <td>10.8</td>\n",
       "    </tr>\n",
       "  </tbody>\n",
       "</table>\n",
       "</div>"
      ],
      "text/plain": [
       "   price dispaly_res_type          os processor_brand  connectivity_feature  \\\n",
       "0  65999            other  Android 13           other                     5   \n",
       "1  39999         Full HD+  Android 13           other                     5   \n",
       "2  39999         Full HD+  Android 13           other                     5   \n",
       "3  39999         Full HD+  Android 13           other                     5   \n",
       "4  46999         Full HD+  Android 13           other                     5   \n",
       "\n",
       "   battery  ram  internal_storgar mobile_brand  dispaly_size_in_inches  \\\n",
       "0     4926   12               128        other                     6.7   \n",
       "1     4300    8               128        other                     6.1   \n",
       "2     4300    8               128        other                     6.1   \n",
       "3     4300    8               128        other                     6.1   \n",
       "4     4270    8               128        other                     6.3   \n",
       "\n",
       "   back_camera  front_camera  \n",
       "0         50.0          10.8  \n",
       "1         64.0          13.0  \n",
       "2         64.0          13.0  \n",
       "3         64.0          13.0  \n",
       "4         50.0          10.8  "
      ]
     },
     "execution_count": 18,
     "metadata": {},
     "output_type": "execute_result"
    }
   ],
   "source": [
    "df.head()"
   ]
  },
  {
   "cell_type": "code",
   "execution_count": 19,
   "metadata": {},
   "outputs": [],
   "source": [
    "#df.to_csv('cleaned_phone_data.csv',index=False,header=True)"
   ]
  },
  {
   "cell_type": "code",
   "execution_count": 20,
   "metadata": {},
   "outputs": [
    {
     "name": "stdout",
     "output_type": "stream",
     "text": [
      "<class 'pandas.core.frame.DataFrame'>\n",
      "Index: 1431 entries, 0 to 1432\n",
      "Data columns (total 12 columns):\n",
      " #   Column                  Non-Null Count  Dtype  \n",
      "---  ------                  --------------  -----  \n",
      " 0   price                   1431 non-null   int64  \n",
      " 1   dispaly_res_type        1431 non-null   object \n",
      " 2   os                      1431 non-null   object \n",
      " 3   processor_brand         1431 non-null   object \n",
      " 4   connectivity_feature    1431 non-null   int64  \n",
      " 5   battery                 1431 non-null   int64  \n",
      " 6   ram                     1431 non-null   int64  \n",
      " 7   internal_storgar        1431 non-null   int64  \n",
      " 8   mobile_brand            1431 non-null   object \n",
      " 9   dispaly_size_in_inches  1431 non-null   float64\n",
      " 10  back_camera             1431 non-null   float64\n",
      " 11  front_camera            1321 non-null   float64\n",
      "dtypes: float64(3), int64(5), object(4)\n",
      "memory usage: 145.3+ KB\n"
     ]
    }
   ],
   "source": [
    "df.info()"
   ]
  },
  {
   "cell_type": "code",
   "execution_count": 21,
   "metadata": {},
   "outputs": [
    {
     "data": {
      "text/plain": [
       "mobile_brand\n",
       "REDMI       219\n",
       "vivo        176\n",
       "OPPO        174\n",
       "realme      167\n",
       "Motorola    166\n",
       "SAMSUNG     164\n",
       "POCO        154\n",
       "other        65\n",
       "Infinix      61\n",
       "Honor        56\n",
       "Redmi        29\n",
       "Name: count, dtype: int64"
      ]
     },
     "execution_count": 21,
     "metadata": {},
     "output_type": "execute_result"
    }
   ],
   "source": [
    "df['mobile_brand'].value_counts()"
   ]
  },
  {
   "cell_type": "markdown",
   "metadata": {},
   "source": [
    "# More data cleaning and transformation"
   ]
  },
  {
   "cell_type": "code",
   "execution_count": 22,
   "metadata": {},
   "outputs": [
    {
     "data": {
      "text/plain": [
       "'battery'"
      ]
     },
     "execution_count": 22,
     "metadata": {},
     "output_type": "execute_result"
    }
   ],
   "source": [
    "column_to_convert[2]"
   ]
  },
  {
   "cell_type": "markdown",
   "metadata": {},
   "source": [
    "# connectivity_feature"
   ]
  },
  {
   "cell_type": "code",
   "execution_count": 23,
   "metadata": {},
   "outputs": [],
   "source": [
    "df['connectivity_feature'] =df['connectivity_feature'].astype('Int32')"
   ]
  },
  {
   "cell_type": "code",
   "execution_count": 24,
   "metadata": {},
   "outputs": [
    {
     "data": {
      "text/plain": [
       "connectivity_feature\n",
       "4    846\n",
       "5    585\n",
       "Name: count, dtype: Int64"
      ]
     },
     "execution_count": 24,
     "metadata": {},
     "output_type": "execute_result"
    }
   ],
   "source": [
    "df['connectivity_feature'].value_counts()"
   ]
  },
  {
   "cell_type": "markdown",
   "metadata": {},
   "source": [
    "# battery"
   ]
  },
  {
   "cell_type": "code",
   "execution_count": 25,
   "metadata": {},
   "outputs": [
    {
     "data": {
      "text/plain": [
       "0       4926\n",
       "1       4300\n",
       "2       4300\n",
       "3       4300\n",
       "4       4270\n",
       "        ... \n",
       "1428    4000\n",
       "1429    3000\n",
       "1430    5000\n",
       "1431    5080\n",
       "1432    6000\n",
       "Name: battery, Length: 1431, dtype: int64"
      ]
     },
     "execution_count": 25,
     "metadata": {},
     "output_type": "execute_result"
    }
   ],
   "source": [
    "df['battery']"
   ]
  },
  {
   "cell_type": "code",
   "execution_count": 26,
   "metadata": {},
   "outputs": [],
   "source": [
    "battery_count = df['battery'].value_counts()"
   ]
  },
  {
   "cell_type": "code",
   "execution_count": 27,
   "metadata": {},
   "outputs": [
    {
     "data": {
      "text/plain": [
       "dtype('int64')"
      ]
     },
     "execution_count": 27,
     "metadata": {},
     "output_type": "execute_result"
    }
   ],
   "source": [
    "df['battery'].dtype"
   ]
  },
  {
   "cell_type": "code",
   "execution_count": 28,
   "metadata": {},
   "outputs": [],
   "source": [
    "bins = [0, 3000, 4000, 5000, 6000, float('inf')]  # Define your bin edges\n",
    "labels = ['<3000', '3000-4000', '4000-5000', '5000-6000', '6000+']\n",
    "\n",
    "# Apply binning to create a new column 'Battery_Category'\n",
    "df['Battery_Category'] = pd.cut(df['battery'], bins=bins, labels=labels, include_lowest=True)\n"
   ]
  },
  {
   "cell_type": "code",
   "execution_count": 29,
   "metadata": {},
   "outputs": [
    {
     "data": {
      "text/plain": [
       "Battery_Category\n",
       "4000-5000    1136\n",
       "5000-6000     138\n",
       "3000-4000     123\n",
       "<3000          34\n",
       "6000+           0\n",
       "Name: count, dtype: int64"
      ]
     },
     "execution_count": 29,
     "metadata": {},
     "output_type": "execute_result"
    }
   ],
   "source": [
    "df['Battery_Category'].value_counts()"
   ]
  },
  {
   "cell_type": "markdown",
   "metadata": {},
   "source": [
    "# ram"
   ]
  },
  {
   "cell_type": "code",
   "execution_count": 30,
   "metadata": {},
   "outputs": [
    {
     "name": "stdout",
     "output_type": "stream",
     "text": [
      "<class 'pandas.core.frame.DataFrame'>\n",
      "Index: 1431 entries, 0 to 1432\n",
      "Data columns (total 13 columns):\n",
      " #   Column                  Non-Null Count  Dtype   \n",
      "---  ------                  --------------  -----   \n",
      " 0   price                   1431 non-null   int64   \n",
      " 1   dispaly_res_type        1431 non-null   object  \n",
      " 2   os                      1431 non-null   object  \n",
      " 3   processor_brand         1431 non-null   object  \n",
      " 4   connectivity_feature    1431 non-null   Int32   \n",
      " 5   battery                 1431 non-null   int64   \n",
      " 6   ram                     1431 non-null   int64   \n",
      " 7   internal_storgar        1431 non-null   int64   \n",
      " 8   mobile_brand            1431 non-null   object  \n",
      " 9   dispaly_size_in_inches  1431 non-null   float64 \n",
      " 10  back_camera             1431 non-null   float64 \n",
      " 11  front_camera            1321 non-null   float64 \n",
      " 12  Battery_Category        1431 non-null   category\n",
      "dtypes: Int32(1), category(1), float64(3), int64(4), object(4)\n",
      "memory usage: 142.7+ KB\n"
     ]
    }
   ],
   "source": [
    "df.info()"
   ]
  },
  {
   "cell_type": "code",
   "execution_count": 31,
   "metadata": {},
   "outputs": [
    {
     "data": {
      "text/plain": [
       "ram\n",
       "8     433\n",
       "4     381\n",
       "6     315\n",
       "3     109\n",
       "12    101\n",
       "2      88\n",
       "16      3\n",
       "1       1\n",
       "Name: count, dtype: int64"
      ]
     },
     "execution_count": 31,
     "metadata": {},
     "output_type": "execute_result"
    }
   ],
   "source": [
    "df['ram'].value_counts()"
   ]
  },
  {
   "cell_type": "markdown",
   "metadata": {},
   "source": [
    "# internal_storgar"
   ]
  },
  {
   "cell_type": "code",
   "execution_count": 32,
   "metadata": {},
   "outputs": [
    {
     "data": {
      "text/plain": [
       "internal_storgar\n",
       "128    683\n",
       "64     331\n",
       "256    237\n",
       "32     132\n",
       "16      22\n",
       "512     22\n",
       "8        4\n",
       "Name: count, dtype: int64"
      ]
     },
     "execution_count": 32,
     "metadata": {},
     "output_type": "execute_result"
    }
   ],
   "source": [
    "df['internal_storgar'].value_counts()"
   ]
  },
  {
   "cell_type": "markdown",
   "metadata": {},
   "source": [
    "# dispaly_size_in_inches"
   ]
  },
  {
   "cell_type": "code",
   "execution_count": 33,
   "metadata": {},
   "outputs": [
    {
     "data": {
      "text/plain": [
       "dispaly_size_in_inches\n",
       "6.500     164\n",
       "6.670     143\n",
       "6.600     113\n",
       "6.700      83\n",
       "6.520      66\n",
       "6.400      57\n",
       "6.560      57\n",
       "6.740      57\n",
       "6.430      56\n",
       "6.780      51\n",
       "6.580      49\n",
       "6.510      48\n",
       "6.530      45\n",
       "6.710      44\n",
       "6.790      41\n",
       "6.550      32\n",
       "6.440      31\n",
       "5.500      31\n",
       "6.200      29\n",
       "6.720      26\n",
       "6.100      21\n",
       "6.300      20\n",
       "6.220      18\n",
       "6.800      18\n",
       "6.820      16\n",
       "5.450      12\n",
       "6.210      12\n",
       "6.380      11\n",
       "6.590       9\n",
       "6.620       6\n",
       "6.180       6\n",
       "5.000       6\n",
       "5.650       6\n",
       "6.640       5\n",
       "5.990       4\n",
       "5.200       4\n",
       "6.570       4\n",
       "5.700       3\n",
       "6.515       2\n",
       "6.140       2\n",
       "6.417       2\n",
       "6.000       2\n",
       "6.402       2\n",
       "16.510      2\n",
       "6.470       2\n",
       "5.930       2\n",
       "6.260       2\n",
       "5.840       2\n",
       "5.900       2\n",
       "6.693       1\n",
       "6.150       1\n",
       "7.600       1\n",
       "6.280       1\n",
       "6.350       1\n",
       "Name: count, dtype: int64"
      ]
     },
     "execution_count": 33,
     "metadata": {},
     "output_type": "execute_result"
    }
   ],
   "source": [
    "df['dispaly_size_in_inches'].value_counts()"
   ]
  },
  {
   "cell_type": "code",
   "execution_count": 34,
   "metadata": {},
   "outputs": [],
   "source": [
    "drop_index = df[df['dispaly_size_in_inches'] == 16.51]"
   ]
  },
  {
   "cell_type": "code",
   "execution_count": 35,
   "metadata": {},
   "outputs": [
    {
     "data": {
      "text/html": [
       "<div>\n",
       "<style scoped>\n",
       "    .dataframe tbody tr th:only-of-type {\n",
       "        vertical-align: middle;\n",
       "    }\n",
       "\n",
       "    .dataframe tbody tr th {\n",
       "        vertical-align: top;\n",
       "    }\n",
       "\n",
       "    .dataframe thead th {\n",
       "        text-align: right;\n",
       "    }\n",
       "</style>\n",
       "<table border=\"1\" class=\"dataframe\">\n",
       "  <thead>\n",
       "    <tr style=\"text-align: right;\">\n",
       "      <th></th>\n",
       "      <th>price</th>\n",
       "      <th>dispaly_res_type</th>\n",
       "      <th>os</th>\n",
       "      <th>processor_brand</th>\n",
       "      <th>connectivity_feature</th>\n",
       "      <th>battery</th>\n",
       "      <th>ram</th>\n",
       "      <th>internal_storgar</th>\n",
       "      <th>mobile_brand</th>\n",
       "      <th>dispaly_size_in_inches</th>\n",
       "      <th>back_camera</th>\n",
       "      <th>front_camera</th>\n",
       "      <th>Battery_Category</th>\n",
       "    </tr>\n",
       "  </thead>\n",
       "  <tbody>\n",
       "    <tr>\n",
       "      <th>282</th>\n",
       "      <td>11999</td>\n",
       "      <td>Full HD+</td>\n",
       "      <td>Android 12</td>\n",
       "      <td>Snapdragon</td>\n",
       "      <td>5</td>\n",
       "      <td>5000</td>\n",
       "      <td>8</td>\n",
       "      <td>128</td>\n",
       "      <td>Motorola</td>\n",
       "      <td>16.51</td>\n",
       "      <td>50.0</td>\n",
       "      <td>16.0</td>\n",
       "      <td>4000-5000</td>\n",
       "    </tr>\n",
       "    <tr>\n",
       "      <th>301</th>\n",
       "      <td>11999</td>\n",
       "      <td>Full HD+</td>\n",
       "      <td>Android 12</td>\n",
       "      <td>Snapdragon</td>\n",
       "      <td>5</td>\n",
       "      <td>5000</td>\n",
       "      <td>8</td>\n",
       "      <td>128</td>\n",
       "      <td>Motorola</td>\n",
       "      <td>16.51</td>\n",
       "      <td>50.0</td>\n",
       "      <td>16.0</td>\n",
       "      <td>4000-5000</td>\n",
       "    </tr>\n",
       "  </tbody>\n",
       "</table>\n",
       "</div>"
      ],
      "text/plain": [
       "     price dispaly_res_type          os processor_brand  connectivity_feature  \\\n",
       "282  11999         Full HD+  Android 12      Snapdragon                     5   \n",
       "301  11999         Full HD+  Android 12      Snapdragon                     5   \n",
       "\n",
       "     battery  ram  internal_storgar mobile_brand  dispaly_size_in_inches  \\\n",
       "282     5000    8               128     Motorola                   16.51   \n",
       "301     5000    8               128     Motorola                   16.51   \n",
       "\n",
       "     back_camera  front_camera Battery_Category  \n",
       "282         50.0          16.0        4000-5000  \n",
       "301         50.0          16.0        4000-5000  "
      ]
     },
     "execution_count": 35,
     "metadata": {},
     "output_type": "execute_result"
    }
   ],
   "source": [
    "drop_index"
   ]
  },
  {
   "cell_type": "code",
   "execution_count": 36,
   "metadata": {},
   "outputs": [],
   "source": [
    "df.drop(index=[282,301],axis=0,inplace=True)"
   ]
  },
  {
   "cell_type": "code",
   "execution_count": 37,
   "metadata": {},
   "outputs": [],
   "source": [
    "df['dispaly_size_in_inches'] = df['dispaly_size_in_inches'].astype('str')"
   ]
  },
  {
   "cell_type": "code",
   "execution_count": 38,
   "metadata": {},
   "outputs": [],
   "source": [
    "def display_size(text):\n",
    "\n",
    "    if '5.' in text:\n",
    "        return \"5\"\n",
    "    if '6.' in text:\n",
    "        return \"6\"\n",
    "    if \"7.\" in text:\n",
    "        return \"7\"\n",
    "    else:\n",
    "        return text"
   ]
  },
  {
   "cell_type": "code",
   "execution_count": 39,
   "metadata": {},
   "outputs": [],
   "source": [
    "df['dispaly_size_in_inches'] = df['dispaly_size_in_inches'].apply(display_size)"
   ]
  },
  {
   "cell_type": "code",
   "execution_count": 40,
   "metadata": {},
   "outputs": [
    {
     "data": {
      "text/plain": [
       "dispaly_size_in_inches\n",
       "6    1356\n",
       "5      72\n",
       "7       1\n",
       "Name: count, dtype: int64"
      ]
     },
     "execution_count": 40,
     "metadata": {},
     "output_type": "execute_result"
    }
   ],
   "source": [
    "df['dispaly_size_in_inches'].value_counts()"
   ]
  },
  {
   "cell_type": "code",
   "execution_count": 41,
   "metadata": {},
   "outputs": [],
   "source": [
    "df['dispaly_size_in_inches']  = df['dispaly_size_in_inches'].astype(\"Int64\")"
   ]
  },
  {
   "cell_type": "markdown",
   "metadata": {},
   "source": [
    "# back_camera"
   ]
  },
  {
   "cell_type": "code",
   "execution_count": 42,
   "metadata": {},
   "outputs": [
    {
     "data": {
      "text/plain": [
       "Index(['price', 'connectivity_feature', 'battery', 'ram', 'internal_storgar',\n",
       "       'dispaly_size_in_inches', 'back_camera', 'front_camera'],\n",
       "      dtype='object')"
      ]
     },
     "execution_count": 42,
     "metadata": {},
     "output_type": "execute_result"
    }
   ],
   "source": [
    "column_to_convert\n"
   ]
  },
  {
   "cell_type": "code",
   "execution_count": 43,
   "metadata": {},
   "outputs": [],
   "source": [
    "df['back_camera'] = df['back_camera'].astype('Float64')"
   ]
  },
  {
   "cell_type": "code",
   "execution_count": 44,
   "metadata": {},
   "outputs": [],
   "source": [
    "df['front_camera'] = df['front_camera'].astype('Float64')"
   ]
  },
  {
   "cell_type": "code",
   "execution_count": 45,
   "metadata": {},
   "outputs": [
    {
     "name": "stdout",
     "output_type": "stream",
     "text": [
      "<class 'pandas.core.frame.DataFrame'>\n",
      "Index: 1429 entries, 0 to 1432\n",
      "Data columns (total 13 columns):\n",
      " #   Column                  Non-Null Count  Dtype   \n",
      "---  ------                  --------------  -----   \n",
      " 0   price                   1429 non-null   int64   \n",
      " 1   dispaly_res_type        1429 non-null   object  \n",
      " 2   os                      1429 non-null   object  \n",
      " 3   processor_brand         1429 non-null   object  \n",
      " 4   connectivity_feature    1429 non-null   Int32   \n",
      " 5   battery                 1429 non-null   int64   \n",
      " 6   ram                     1429 non-null   int64   \n",
      " 7   internal_storgar        1429 non-null   int64   \n",
      " 8   mobile_brand            1429 non-null   object  \n",
      " 9   dispaly_size_in_inches  1429 non-null   Int64   \n",
      " 10  back_camera             1429 non-null   Float64 \n",
      " 11  front_camera            1319 non-null   Float64 \n",
      " 12  Battery_Category        1429 non-null   category\n",
      "dtypes: Float64(2), Int32(1), Int64(1), category(1), int64(4), object(4)\n",
      "memory usage: 146.7+ KB\n"
     ]
    }
   ],
   "source": [
    "df.info()"
   ]
  },
  {
   "cell_type": "code",
   "execution_count": 46,
   "metadata": {},
   "outputs": [
    {
     "data": {
      "text/plain": [
       "<FloatingArray>\n",
       "[10.8, 13.0, 10.5,  8.0, <NA>, 25.0, 16.0, 24.0, 32.0,  2.0,  5.0, 12.0, 60.0,\n",
       " 20.0, 10.0, 50.0, 44.0]\n",
       "Length: 17, dtype: Float64"
      ]
     },
     "execution_count": 46,
     "metadata": {},
     "output_type": "execute_result"
    }
   ],
   "source": [
    "df['front_camera'].unique()"
   ]
  },
  {
   "cell_type": "code",
   "execution_count": 47,
   "metadata": {},
   "outputs": [
    {
     "data": {
      "text/html": [
       "<div>\n",
       "<style scoped>\n",
       "    .dataframe tbody tr th:only-of-type {\n",
       "        vertical-align: middle;\n",
       "    }\n",
       "\n",
       "    .dataframe tbody tr th {\n",
       "        vertical-align: top;\n",
       "    }\n",
       "\n",
       "    .dataframe thead th {\n",
       "        text-align: right;\n",
       "    }\n",
       "</style>\n",
       "<table border=\"1\" class=\"dataframe\">\n",
       "  <thead>\n",
       "    <tr style=\"text-align: right;\">\n",
       "      <th></th>\n",
       "      <th>price</th>\n",
       "      <th>dispaly_res_type</th>\n",
       "      <th>os</th>\n",
       "      <th>processor_brand</th>\n",
       "      <th>connectivity_feature</th>\n",
       "      <th>battery</th>\n",
       "      <th>ram</th>\n",
       "      <th>internal_storgar</th>\n",
       "      <th>mobile_brand</th>\n",
       "      <th>dispaly_size_in_inches</th>\n",
       "      <th>back_camera</th>\n",
       "      <th>front_camera</th>\n",
       "      <th>Battery_Category</th>\n",
       "    </tr>\n",
       "  </thead>\n",
       "  <tbody>\n",
       "    <tr>\n",
       "      <th>237</th>\n",
       "      <td>34999</td>\n",
       "      <td>Full HD+ AMOLED Display</td>\n",
       "      <td>Android 12</td>\n",
       "      <td>Snapdragon</td>\n",
       "      <td>5</td>\n",
       "      <td>4800</td>\n",
       "      <td>8</td>\n",
       "      <td>128</td>\n",
       "      <td>Motorola</td>\n",
       "      <td>6</td>\n",
       "      <td>50.0</td>\n",
       "      <td>60.0</td>\n",
       "      <td>4000-5000</td>\n",
       "    </tr>\n",
       "    <tr>\n",
       "      <th>253</th>\n",
       "      <td>34999</td>\n",
       "      <td>Full HD+ AMOLED Display</td>\n",
       "      <td>Android 12</td>\n",
       "      <td>Snapdragon</td>\n",
       "      <td>5</td>\n",
       "      <td>4800</td>\n",
       "      <td>8</td>\n",
       "      <td>128</td>\n",
       "      <td>Motorola</td>\n",
       "      <td>6</td>\n",
       "      <td>50.0</td>\n",
       "      <td>60.0</td>\n",
       "      <td>4000-5000</td>\n",
       "    </tr>\n",
       "    <tr>\n",
       "      <th>294</th>\n",
       "      <td>39999</td>\n",
       "      <td>Full HD+</td>\n",
       "      <td>Android 12</td>\n",
       "      <td>Snapdragon</td>\n",
       "      <td>5</td>\n",
       "      <td>4610</td>\n",
       "      <td>12</td>\n",
       "      <td>256</td>\n",
       "      <td>Motorola</td>\n",
       "      <td>6</td>\n",
       "      <td>200.0</td>\n",
       "      <td>60.0</td>\n",
       "      <td>4000-5000</td>\n",
       "    </tr>\n",
       "    <tr>\n",
       "      <th>295</th>\n",
       "      <td>39999</td>\n",
       "      <td>Full HD+</td>\n",
       "      <td>Android 12</td>\n",
       "      <td>Snapdragon</td>\n",
       "      <td>5</td>\n",
       "      <td>4610</td>\n",
       "      <td>12</td>\n",
       "      <td>256</td>\n",
       "      <td>Motorola</td>\n",
       "      <td>6</td>\n",
       "      <td>200.0</td>\n",
       "      <td>60.0</td>\n",
       "      <td>4000-5000</td>\n",
       "    </tr>\n",
       "    <tr>\n",
       "      <th>300</th>\n",
       "      <td>34999</td>\n",
       "      <td>Full HD+</td>\n",
       "      <td>Android 12</td>\n",
       "      <td>Snapdragon</td>\n",
       "      <td>5</td>\n",
       "      <td>4610</td>\n",
       "      <td>8</td>\n",
       "      <td>128</td>\n",
       "      <td>Motorola</td>\n",
       "      <td>6</td>\n",
       "      <td>200.0</td>\n",
       "      <td>60.0</td>\n",
       "      <td>4000-5000</td>\n",
       "    </tr>\n",
       "  </tbody>\n",
       "</table>\n",
       "</div>"
      ],
      "text/plain": [
       "     price         dispaly_res_type          os processor_brand  \\\n",
       "237  34999  Full HD+ AMOLED Display  Android 12      Snapdragon   \n",
       "253  34999  Full HD+ AMOLED Display  Android 12      Snapdragon   \n",
       "294  39999                 Full HD+  Android 12      Snapdragon   \n",
       "295  39999                 Full HD+  Android 12      Snapdragon   \n",
       "300  34999                 Full HD+  Android 12      Snapdragon   \n",
       "\n",
       "     connectivity_feature  battery  ram  internal_storgar mobile_brand  \\\n",
       "237                     5     4800    8               128     Motorola   \n",
       "253                     5     4800    8               128     Motorola   \n",
       "294                     5     4610   12               256     Motorola   \n",
       "295                     5     4610   12               256     Motorola   \n",
       "300                     5     4610    8               128     Motorola   \n",
       "\n",
       "     dispaly_size_in_inches  back_camera  front_camera Battery_Category  \n",
       "237                       6         50.0          60.0        4000-5000  \n",
       "253                       6         50.0          60.0        4000-5000  \n",
       "294                       6        200.0          60.0        4000-5000  \n",
       "295                       6        200.0          60.0        4000-5000  \n",
       "300                       6        200.0          60.0        4000-5000  "
      ]
     },
     "execution_count": 47,
     "metadata": {},
     "output_type": "execute_result"
    }
   ],
   "source": [
    "df[df['front_camera']==60.0]"
   ]
  },
  {
   "cell_type": "code",
   "execution_count": 48,
   "metadata": {},
   "outputs": [],
   "source": [
    "df['Battery_Category'] = df['Battery_Category'].astype('object')"
   ]
  },
  {
   "cell_type": "code",
   "execution_count": 49,
   "metadata": {},
   "outputs": [],
   "source": [
    "df.drop(columns=['battery'],axis=1,inplace=True)"
   ]
  },
  {
   "cell_type": "code",
   "execution_count": 50,
   "metadata": {},
   "outputs": [
    {
     "data": {
      "text/html": [
       "<div>\n",
       "<style scoped>\n",
       "    .dataframe tbody tr th:only-of-type {\n",
       "        vertical-align: middle;\n",
       "    }\n",
       "\n",
       "    .dataframe tbody tr th {\n",
       "        vertical-align: top;\n",
       "    }\n",
       "\n",
       "    .dataframe thead th {\n",
       "        text-align: right;\n",
       "    }\n",
       "</style>\n",
       "<table border=\"1\" class=\"dataframe\">\n",
       "  <thead>\n",
       "    <tr style=\"text-align: right;\">\n",
       "      <th></th>\n",
       "      <th>price</th>\n",
       "      <th>dispaly_res_type</th>\n",
       "      <th>os</th>\n",
       "      <th>processor_brand</th>\n",
       "      <th>connectivity_feature</th>\n",
       "      <th>ram</th>\n",
       "      <th>internal_storgar</th>\n",
       "      <th>mobile_brand</th>\n",
       "      <th>dispaly_size_in_inches</th>\n",
       "      <th>back_camera</th>\n",
       "      <th>front_camera</th>\n",
       "      <th>Battery_Category</th>\n",
       "    </tr>\n",
       "  </thead>\n",
       "  <tbody>\n",
       "    <tr>\n",
       "      <th>486</th>\n",
       "      <td>9999</td>\n",
       "      <td>HD+</td>\n",
       "      <td>Android 11</td>\n",
       "      <td>Mediatek</td>\n",
       "      <td>4</td>\n",
       "      <td>4</td>\n",
       "      <td>64</td>\n",
       "      <td>OPPO</td>\n",
       "      <td>6</td>\n",
       "      <td>13.0</td>\n",
       "      <td>5.0</td>\n",
       "      <td>4000-5000</td>\n",
       "    </tr>\n",
       "  </tbody>\n",
       "</table>\n",
       "</div>"
      ],
      "text/plain": [
       "     price dispaly_res_type          os processor_brand  connectivity_feature  \\\n",
       "486   9999              HD+  Android 11        Mediatek                     4   \n",
       "\n",
       "     ram  internal_storgar mobile_brand  dispaly_size_in_inches  back_camera  \\\n",
       "486    4                64         OPPO                       6         13.0   \n",
       "\n",
       "     front_camera Battery_Category  \n",
       "486           5.0        4000-5000  "
      ]
     },
     "execution_count": 50,
     "metadata": {},
     "output_type": "execute_result"
    }
   ],
   "source": [
    "df.sample()"
   ]
  },
  {
   "cell_type": "code",
   "execution_count": 95,
   "metadata": {},
   "outputs": [
    {
     "name": "stdout",
     "output_type": "stream",
     "text": [
      "dispaly_res_type\n",
      "['other' 'Full HD+' 'Full HD+ AMOLED Display' 'Full HD' 'HD' 'HD+']\n",
      "****************************************************************************************************\n",
      "os\n",
      "['Android 13' 'Android 14' 'Android 12' 'other' 'Android 11' 'Android 10']\n",
      "****************************************************************************************************\n",
      "processor_brand\n",
      "['other' 'Snapdragon' 'Mediatek']\n",
      "****************************************************************************************************\n",
      "connectivity_feature\n",
      "<IntegerArray>\n",
      "[5, 4]\n",
      "Length: 2, dtype: Int32\n",
      "****************************************************************************************************\n",
      "ram\n",
      "[12  8  6  4  3  2  1 16]\n",
      "****************************************************************************************************\n",
      "internal_storgar\n",
      "[128 256  64  32  16   8 512]\n",
      "****************************************************************************************************\n",
      "mobile_brand\n",
      "['other' 'Honor' 'Infinix' 'Motorola' 'OPPO' 'POCO' 'realme' 'REDMI'\n",
      " 'Redmi' 'SAMSUNG' 'vivo']\n",
      "****************************************************************************************************\n",
      "dispaly_size_in_inches\n",
      "<IntegerArray>\n",
      "[6, 5, 7]\n",
      "Length: 3, dtype: Int64\n",
      "****************************************************************************************************\n",
      "back_camera\n",
      "<FloatingArray>\n",
      "[50.0, 64.0, 12.2, 48.0, 16.0, 108.0, 13.0, 24.0, 20.0, 12.0, 8.0, 200.0,\n",
      " 100.0]\n",
      "Length: 13, dtype: Float64\n",
      "****************************************************************************************************\n",
      "front_camera\n",
      "<FloatingArray>\n",
      "[              10.8,               13.0,               10.5,\n",
      "                8.0, 14.093100833965124,               25.0,\n",
      "               16.0,               24.0,               32.0,\n",
      "                2.0,                5.0,               12.0,\n",
      "               60.0,               20.0,               10.0,\n",
      "               50.0,               44.0]\n",
      "Length: 17, dtype: Float64\n",
      "****************************************************************************************************\n",
      "Battery_Category\n",
      "['4000-5000' '5000-6000' '<3000' '3000-4000']\n",
      "****************************************************************************************************\n"
     ]
    }
   ],
   "source": [
    "for col in df.columns:\n",
    "    if col == 'price':\n",
    "        pass\n",
    "    else:\n",
    "        print(col)\n",
    "        print(df[col].unique())\n",
    "        print(\"*\"*100)\n"
   ]
  },
  {
   "cell_type": "code",
   "execution_count": 51,
   "metadata": {},
   "outputs": [
    {
     "name": "stderr",
     "output_type": "stream",
     "text": [
      "C:\\Users\\Tafique Hossain Khan\\AppData\\Local\\Temp\\ipykernel_11752\\3756352681.py:1: FutureWarning: A value is trying to be set on a copy of a DataFrame or Series through chained assignment using an inplace method.\n",
      "The behavior will change in pandas 3.0. This inplace method will never work because the intermediate object on which we are setting values always behaves as a copy.\n",
      "\n",
      "For example, when doing 'df[col].method(value, inplace=True)', try using 'df.method({col: value}, inplace=True)' or df[col] = df[col].method(value) instead, to perform the operation inplace on the original object.\n",
      "\n",
      "\n",
      "  df['front_camera'].fillna(df['front_camera'].mean(), inplace=True)\n"
     ]
    }
   ],
   "source": [
    "df['front_camera'].fillna(df['front_camera'].mean(), inplace=True)"
   ]
  },
  {
   "cell_type": "code",
   "execution_count": 52,
   "metadata": {},
   "outputs": [
    {
     "name": "stdout",
     "output_type": "stream",
     "text": [
      "<class 'pandas.core.frame.DataFrame'>\n",
      "Index: 1429 entries, 0 to 1432\n",
      "Data columns (total 12 columns):\n",
      " #   Column                  Non-Null Count  Dtype  \n",
      "---  ------                  --------------  -----  \n",
      " 0   price                   1429 non-null   int64  \n",
      " 1   dispaly_res_type        1429 non-null   object \n",
      " 2   os                      1429 non-null   object \n",
      " 3   processor_brand         1429 non-null   object \n",
      " 4   connectivity_feature    1429 non-null   Int32  \n",
      " 5   ram                     1429 non-null   int64  \n",
      " 6   internal_storgar        1429 non-null   int64  \n",
      " 7   mobile_brand            1429 non-null   object \n",
      " 8   dispaly_size_in_inches  1429 non-null   Int64  \n",
      " 9   back_camera             1429 non-null   Float64\n",
      " 10  front_camera            1429 non-null   Float64\n",
      " 11  Battery_Category        1429 non-null   object \n",
      "dtypes: Float64(2), Int32(1), Int64(1), int64(3), object(5)\n",
      "memory usage: 145.1+ KB\n"
     ]
    }
   ],
   "source": [
    "df.info()"
   ]
  },
  {
   "cell_type": "code",
   "execution_count": 91,
   "metadata": {},
   "outputs": [
    {
     "data": {
      "text/plain": [
       "array([128, 256,  64,  32,  16,   8, 512], dtype=int64)"
      ]
     },
     "execution_count": 91,
     "metadata": {},
     "output_type": "execute_result"
    }
   ],
   "source": [
    "df['ram'].unique()"
   ]
  },
  {
   "cell_type": "markdown",
   "metadata": {},
   "source": [
    "# EDA"
   ]
  },
  {
   "cell_type": "code",
   "execution_count": 53,
   "metadata": {},
   "outputs": [
    {
     "data": {
      "text/plain": [
       "<Axes: xlabel='os', ylabel='Count'>"
      ]
     },
     "execution_count": 53,
     "metadata": {},
     "output_type": "execute_result"
    },
    {
     "data": {
      "image/png": "[encoded data removed]",
      "text/plain": [
       "<Figure size 640x480 with 1 Axes>"
      ]
     },
     "metadata": {},
     "output_type": "display_data"
    }
   ],
   "source": [
    "sns.histplot(df['os'],)"
   ]
  },
  {
   "cell_type": "code",
   "execution_count": 54,
   "metadata": {},
   "outputs": [
    {
     "data": {
      "text/plain": [
       "<matplotlib.collections.PathCollection at 0x23c849a48e0>"
      ]
     },
     "execution_count": 54,
     "metadata": {},
     "output_type": "execute_result"
    },
    {
     "data": {
      "image/png": "[encoded data removed]",
      "text/plain": [
       "<Figure size 640x480 with 1 Axes>"
      ]
     },
     "metadata": {},
     "output_type": "display_data"
    }
   ],
   "source": [
    "plt.scatter(x=df['os'],y=df['price'])"
   ]
  },
  {
   "cell_type": "markdown",
   "metadata": {},
   "source": [
    "# model buiding"
   ]
  },
  {
   "cell_type": "code",
   "execution_count": 55,
   "metadata": {},
   "outputs": [],
   "source": [
    "from sklearn.preprocessing import OneHotEncoder\n",
    "from sklearn.model_selection import train_test_split\n",
    "from sklearn.impute import SimpleImputer\n",
    "from sklearn.pipeline import Pipeline\n",
    "from sklearn.compose import ColumnTransformer"
   ]
  },
  {
   "cell_type": "code",
   "execution_count": 56,
   "metadata": {},
   "outputs": [
    {
     "data": {
      "text/html": [
       "<div>\n",
       "<style scoped>\n",
       "    .dataframe tbody tr th:only-of-type {\n",
       "        vertical-align: middle;\n",
       "    }\n",
       "\n",
       "    .dataframe tbody tr th {\n",
       "        vertical-align: top;\n",
       "    }\n",
       "\n",
       "    .dataframe thead th {\n",
       "        text-align: right;\n",
       "    }\n",
       "</style>\n",
       "<table border=\"1\" class=\"dataframe\">\n",
       "  <thead>\n",
       "    <tr style=\"text-align: right;\">\n",
       "      <th></th>\n",
       "      <th>price</th>\n",
       "      <th>dispaly_res_type</th>\n",
       "      <th>os</th>\n",
       "      <th>processor_brand</th>\n",
       "      <th>connectivity_feature</th>\n",
       "      <th>ram</th>\n",
       "      <th>internal_storgar</th>\n",
       "      <th>mobile_brand</th>\n",
       "      <th>dispaly_size_in_inches</th>\n",
       "      <th>back_camera</th>\n",
       "      <th>front_camera</th>\n",
       "      <th>Battery_Category</th>\n",
       "    </tr>\n",
       "  </thead>\n",
       "  <tbody>\n",
       "    <tr>\n",
       "      <th>919</th>\n",
       "      <td>16450</td>\n",
       "      <td>Full HD</td>\n",
       "      <td>Android 12</td>\n",
       "      <td>Snapdragon</td>\n",
       "      <td>5</td>\n",
       "      <td>6</td>\n",
       "      <td>128</td>\n",
       "      <td>REDMI</td>\n",
       "      <td>6</td>\n",
       "      <td>48.0</td>\n",
       "      <td>13.0</td>\n",
       "      <td>4000-5000</td>\n",
       "    </tr>\n",
       "  </tbody>\n",
       "</table>\n",
       "</div>"
      ],
      "text/plain": [
       "     price dispaly_res_type          os processor_brand  connectivity_feature  \\\n",
       "919  16450          Full HD  Android 12      Snapdragon                     5   \n",
       "\n",
       "     ram  internal_storgar mobile_brand  dispaly_size_in_inches  back_camera  \\\n",
       "919    6               128        REDMI                       6         48.0   \n",
       "\n",
       "     front_camera Battery_Category  \n",
       "919          13.0        4000-5000  "
      ]
     },
     "execution_count": 56,
     "metadata": {},
     "output_type": "execute_result"
    }
   ],
   "source": [
    "df.sample()"
   ]
  },
  {
   "cell_type": "code",
   "execution_count": 57,
   "metadata": {},
   "outputs": [],
   "source": [
    "X = df.drop(columns=['price'],axis=0)\n",
    "y = df['price']"
   ]
  },
  {
   "cell_type": "code",
   "execution_count": 58,
   "metadata": {},
   "outputs": [],
   "source": [
    "X_train,X_test,y_train,y_test = train_test_split(X,y,test_size=0.30,random_state=42)"
   ]
  },
  {
   "cell_type": "code",
   "execution_count": 59,
   "metadata": {},
   "outputs": [
    {
     "data": {
      "text/plain": [
       "((1000, 11), (429, 11))"
      ]
     },
     "execution_count": 59,
     "metadata": {},
     "output_type": "execute_result"
    }
   ],
   "source": [
    "X_train.shape,X_test.shape"
   ]
  },
  {
   "cell_type": "code",
   "execution_count": 60,
   "metadata": {},
   "outputs": [
    {
     "data": {
      "text/plain": [
       "Index(['dispaly_res_type', 'os', 'processor_brand', 'mobile_brand',\n",
       "       'Battery_Category'],\n",
       "      dtype='object')"
      ]
     },
     "execution_count": 60,
     "metadata": {},
     "output_type": "execute_result"
    }
   ],
   "source": [
    "cat_col = df.select_dtypes(include=['object']).columns\n",
    "cat_col"
   ]
  },
  {
   "cell_type": "code",
   "execution_count": 61,
   "metadata": {},
   "outputs": [
    {
     "name": "stdout",
     "output_type": "stream",
     "text": [
      "0 -> price\n",
      "1 -> dispaly_res_type\n",
      "2 -> os\n",
      "3 -> processor_brand\n",
      "4 -> connectivity_feature\n",
      "5 -> ram\n",
      "6 -> internal_storgar\n",
      "7 -> mobile_brand\n",
      "8 -> dispaly_size_in_inches\n",
      "9 -> back_camera\n",
      "10 -> front_camera\n",
      "11 -> Battery_Category\n"
     ]
    }
   ],
   "source": [
    "for i in range(len(df.columns)):\n",
    "    \n",
    "        print(i,'->',df.columns[i])"
   ]
  },
  {
   "cell_type": "code",
   "execution_count": 62,
   "metadata": {},
   "outputs": [],
   "source": [
    "cat_col\n",
    "count = []\n",
    "for i in cat_col:\n",
    "    count.append(df[i].unique())"
   ]
  },
  {
   "cell_type": "code",
   "execution_count": 63,
   "metadata": {},
   "outputs": [],
   "source": [
    "length =[]\n",
    "for c in count:\n",
    "    length.append(len(c))\n",
    "\n",
    "\n"
   ]
  },
  {
   "cell_type": "code",
   "execution_count": 64,
   "metadata": {},
   "outputs": [
    {
     "data": {
      "text/plain": [
       "[6, 6, 3, 11, 4]"
      ]
     },
     "execution_count": 64,
     "metadata": {},
     "output_type": "execute_result"
    }
   ],
   "source": [
    "length"
   ]
  },
  {
   "cell_type": "code",
   "execution_count": 65,
   "metadata": {},
   "outputs": [
    {
     "data": {
      "text/plain": [
       "30"
      ]
     },
     "execution_count": 65,
     "metadata": {},
     "output_type": "execute_result"
    }
   ],
   "source": [
    "sum(length)"
   ]
  },
  {
   "cell_type": "code",
   "execution_count": 66,
   "metadata": {},
   "outputs": [],
   "source": [
    "cat_pip = Pipeline([\n",
    "    ('ohe',OneHotEncoder(drop='first'))\n",
    "])\n"
   ]
  },
  {
   "cell_type": "code",
   "execution_count": 67,
   "metadata": {},
   "outputs": [],
   "source": [
    "preprocessor = ColumnTransformer([\n",
    "    ('cat',cat_pip,cat_col),\n",
    "    \n",
    "],remainder='passthrough')"
   ]
  },
  {
   "cell_type": "code",
   "execution_count": 68,
   "metadata": {},
   "outputs": [
    {
     "name": "stdout",
     "output_type": "stream",
     "text": [
      "<class 'pandas.core.frame.DataFrame'>\n",
      "Index: 1429 entries, 0 to 1432\n",
      "Data columns (total 12 columns):\n",
      " #   Column                  Non-Null Count  Dtype  \n",
      "---  ------                  --------------  -----  \n",
      " 0   price                   1429 non-null   int64  \n",
      " 1   dispaly_res_type        1429 non-null   object \n",
      " 2   os                      1429 non-null   object \n",
      " 3   processor_brand         1429 non-null   object \n",
      " 4   connectivity_feature    1429 non-null   Int32  \n",
      " 5   ram                     1429 non-null   int64  \n",
      " 6   internal_storgar        1429 non-null   int64  \n",
      " 7   mobile_brand            1429 non-null   object \n",
      " 8   dispaly_size_in_inches  1429 non-null   Int64  \n",
      " 9   back_camera             1429 non-null   Float64\n",
      " 10  front_camera            1429 non-null   Float64\n",
      " 11  Battery_Category        1429 non-null   object \n",
      "dtypes: Float64(2), Int32(1), Int64(1), int64(3), object(5)\n",
      "memory usage: 145.1+ KB\n"
     ]
    }
   ],
   "source": [
    "df.info()"
   ]
  },
  {
   "cell_type": "markdown",
   "metadata": {},
   "source": [
    "'dispaly_res_type', 'os', 'processor_brand', 'mobile_brand'"
   ]
  },
  {
   "cell_type": "code",
   "execution_count": 69,
   "metadata": {},
   "outputs": [
    {
     "data": {
      "text/plain": [
       "Index(['dispaly_res_type', 'os', 'processor_brand', 'mobile_brand',\n",
       "       'Battery_Category'],\n",
       "      dtype='object')"
      ]
     },
     "execution_count": 69,
     "metadata": {},
     "output_type": "execute_result"
    }
   ],
   "source": [
    "cat_col"
   ]
  },
  {
   "cell_type": "code",
   "execution_count": 70,
   "metadata": {},
   "outputs": [
    {
     "data": {
      "text/plain": [
       "Index(['dispaly_res_type', 'os', 'processor_brand', 'connectivity_feature',\n",
       "       'ram', 'internal_storgar', 'mobile_brand', 'dispaly_size_in_inches',\n",
       "       'back_camera', 'front_camera', 'Battery_Category'],\n",
       "      dtype='object')"
      ]
     },
     "execution_count": 70,
     "metadata": {},
     "output_type": "execute_result"
    }
   ],
   "source": [
    "X_train.columns"
   ]
  },
  {
   "cell_type": "code",
   "execution_count": 71,
   "metadata": {},
   "outputs": [
    {
     "data": {
      "text/plain": [
       "<bound method ColumnTransformer.transform of ColumnTransformer(remainder='passthrough',\n",
       "                  transformers=[('cat',\n",
       "                                 Pipeline(steps=[('ohe',\n",
       "                                                  OneHotEncoder(drop='first'))]),\n",
       "                                 Index(['dispaly_res_type', 'os', 'processor_brand', 'mobile_brand',\n",
       "       'Battery_Category'],\n",
       "      dtype='object'))])>"
      ]
     },
     "execution_count": 71,
     "metadata": {},
     "output_type": "execute_result"
    }
   ],
   "source": [
    "preprocessor.transform"
   ]
  },
  {
   "cell_type": "code",
   "execution_count": 72,
   "metadata": {},
   "outputs": [],
   "source": [
    "X_train_encoded = pd.DataFrame(preprocessor.fit_transform(X_train),columns=preprocessor.get_feature_names_out())"
   ]
  },
  {
   "cell_type": "code",
   "execution_count": null,
   "metadata": {},
   "outputs": [],
   "source": []
  },
  {
   "cell_type": "code",
   "execution_count": 73,
   "metadata": {},
   "outputs": [],
   "source": [
    "pd.set_option('display.max_columns', None)"
   ]
  },
  {
   "cell_type": "code",
   "execution_count": 74,
   "metadata": {},
   "outputs": [
    {
     "data": {
      "text/plain": [
       "(1000, 31)"
      ]
     },
     "execution_count": 74,
     "metadata": {},
     "output_type": "execute_result"
    }
   ],
   "source": [
    "X_train_encoded.shape"
   ]
  },
  {
   "cell_type": "code",
   "execution_count": 75,
   "metadata": {},
   "outputs": [
    {
     "data": {
      "text/html": [
       "<div>\n",
       "<style scoped>\n",
       "    .dataframe tbody tr th:only-of-type {\n",
       "        vertical-align: middle;\n",
       "    }\n",
       "\n",
       "    .dataframe tbody tr th {\n",
       "        vertical-align: top;\n",
       "    }\n",
       "\n",
       "    .dataframe thead th {\n",
       "        text-align: right;\n",
       "    }\n",
       "</style>\n",
       "<table border=\"1\" class=\"dataframe\">\n",
       "  <thead>\n",
       "    <tr style=\"text-align: right;\">\n",
       "      <th></th>\n",
       "      <th>cat__dispaly_res_type_Full HD+</th>\n",
       "      <th>cat__dispaly_res_type_Full HD+ AMOLED Display</th>\n",
       "      <th>cat__dispaly_res_type_HD</th>\n",
       "      <th>cat__dispaly_res_type_HD+</th>\n",
       "      <th>cat__dispaly_res_type_other</th>\n",
       "      <th>cat__os_Android 11</th>\n",
       "      <th>cat__os_Android 12</th>\n",
       "      <th>cat__os_Android 13</th>\n",
       "      <th>cat__os_Android 14</th>\n",
       "      <th>cat__os_other</th>\n",
       "      <th>cat__processor_brand_Snapdragon</th>\n",
       "      <th>cat__processor_brand_other</th>\n",
       "      <th>cat__mobile_brand_Infinix</th>\n",
       "      <th>cat__mobile_brand_Motorola</th>\n",
       "      <th>cat__mobile_brand_OPPO</th>\n",
       "      <th>cat__mobile_brand_POCO</th>\n",
       "      <th>cat__mobile_brand_REDMI</th>\n",
       "      <th>cat__mobile_brand_Redmi</th>\n",
       "      <th>cat__mobile_brand_SAMSUNG</th>\n",
       "      <th>cat__mobile_brand_other</th>\n",
       "      <th>cat__mobile_brand_realme</th>\n",
       "      <th>cat__mobile_brand_vivo</th>\n",
       "      <th>cat__Battery_Category_4000-5000</th>\n",
       "      <th>cat__Battery_Category_5000-6000</th>\n",
       "      <th>cat__Battery_Category_&lt;3000</th>\n",
       "      <th>remainder__connectivity_feature</th>\n",
       "      <th>remainder__ram</th>\n",
       "      <th>remainder__internal_storgar</th>\n",
       "      <th>remainder__dispaly_size_in_inches</th>\n",
       "      <th>remainder__back_camera</th>\n",
       "      <th>remainder__front_camera</th>\n",
       "    </tr>\n",
       "  </thead>\n",
       "  <tbody>\n",
       "    <tr>\n",
       "      <th>0</th>\n",
       "      <td>1.0</td>\n",
       "      <td>0.0</td>\n",
       "      <td>0.0</td>\n",
       "      <td>0.0</td>\n",
       "      <td>0.0</td>\n",
       "      <td>0.0</td>\n",
       "      <td>1.0</td>\n",
       "      <td>0.0</td>\n",
       "      <td>0.0</td>\n",
       "      <td>0.0</td>\n",
       "      <td>0.0</td>\n",
       "      <td>0.0</td>\n",
       "      <td>0.0</td>\n",
       "      <td>0.0</td>\n",
       "      <td>0.0</td>\n",
       "      <td>1.0</td>\n",
       "      <td>0.0</td>\n",
       "      <td>0.0</td>\n",
       "      <td>0.0</td>\n",
       "      <td>0.0</td>\n",
       "      <td>0.0</td>\n",
       "      <td>0.0</td>\n",
       "      <td>1.0</td>\n",
       "      <td>0.0</td>\n",
       "      <td>0.0</td>\n",
       "      <td>5</td>\n",
       "      <td>4</td>\n",
       "      <td>64</td>\n",
       "      <td>6</td>\n",
       "      <td>50.0</td>\n",
       "      <td>8.0</td>\n",
       "    </tr>\n",
       "    <tr>\n",
       "      <th>1</th>\n",
       "      <td>1.0</td>\n",
       "      <td>0.0</td>\n",
       "      <td>0.0</td>\n",
       "      <td>0.0</td>\n",
       "      <td>0.0</td>\n",
       "      <td>0.0</td>\n",
       "      <td>1.0</td>\n",
       "      <td>0.0</td>\n",
       "      <td>0.0</td>\n",
       "      <td>0.0</td>\n",
       "      <td>0.0</td>\n",
       "      <td>0.0</td>\n",
       "      <td>0.0</td>\n",
       "      <td>0.0</td>\n",
       "      <td>0.0</td>\n",
       "      <td>0.0</td>\n",
       "      <td>0.0</td>\n",
       "      <td>0.0</td>\n",
       "      <td>0.0</td>\n",
       "      <td>0.0</td>\n",
       "      <td>1.0</td>\n",
       "      <td>0.0</td>\n",
       "      <td>1.0</td>\n",
       "      <td>0.0</td>\n",
       "      <td>0.0</td>\n",
       "      <td>5</td>\n",
       "      <td>8</td>\n",
       "      <td>128</td>\n",
       "      <td>6</td>\n",
       "      <td>50.0</td>\n",
       "      <td>16.0</td>\n",
       "    </tr>\n",
       "    <tr>\n",
       "      <th>2</th>\n",
       "      <td>1.0</td>\n",
       "      <td>0.0</td>\n",
       "      <td>0.0</td>\n",
       "      <td>0.0</td>\n",
       "      <td>0.0</td>\n",
       "      <td>0.0</td>\n",
       "      <td>1.0</td>\n",
       "      <td>0.0</td>\n",
       "      <td>0.0</td>\n",
       "      <td>0.0</td>\n",
       "      <td>0.0</td>\n",
       "      <td>0.0</td>\n",
       "      <td>0.0</td>\n",
       "      <td>0.0</td>\n",
       "      <td>0.0</td>\n",
       "      <td>0.0</td>\n",
       "      <td>0.0</td>\n",
       "      <td>0.0</td>\n",
       "      <td>0.0</td>\n",
       "      <td>0.0</td>\n",
       "      <td>0.0</td>\n",
       "      <td>1.0</td>\n",
       "      <td>1.0</td>\n",
       "      <td>0.0</td>\n",
       "      <td>0.0</td>\n",
       "      <td>5</td>\n",
       "      <td>8</td>\n",
       "      <td>128</td>\n",
       "      <td>6</td>\n",
       "      <td>108.0</td>\n",
       "      <td>14.093101</td>\n",
       "    </tr>\n",
       "    <tr>\n",
       "      <th>3</th>\n",
       "      <td>1.0</td>\n",
       "      <td>0.0</td>\n",
       "      <td>0.0</td>\n",
       "      <td>0.0</td>\n",
       "      <td>0.0</td>\n",
       "      <td>0.0</td>\n",
       "      <td>0.0</td>\n",
       "      <td>0.0</td>\n",
       "      <td>0.0</td>\n",
       "      <td>0.0</td>\n",
       "      <td>0.0</td>\n",
       "      <td>0.0</td>\n",
       "      <td>0.0</td>\n",
       "      <td>0.0</td>\n",
       "      <td>0.0</td>\n",
       "      <td>1.0</td>\n",
       "      <td>0.0</td>\n",
       "      <td>0.0</td>\n",
       "      <td>0.0</td>\n",
       "      <td>0.0</td>\n",
       "      <td>0.0</td>\n",
       "      <td>0.0</td>\n",
       "      <td>1.0</td>\n",
       "      <td>0.0</td>\n",
       "      <td>0.0</td>\n",
       "      <td>4</td>\n",
       "      <td>6</td>\n",
       "      <td>128</td>\n",
       "      <td>6</td>\n",
       "      <td>13.0</td>\n",
       "      <td>8.0</td>\n",
       "    </tr>\n",
       "    <tr>\n",
       "      <th>4</th>\n",
       "      <td>0.0</td>\n",
       "      <td>0.0</td>\n",
       "      <td>0.0</td>\n",
       "      <td>1.0</td>\n",
       "      <td>0.0</td>\n",
       "      <td>0.0</td>\n",
       "      <td>0.0</td>\n",
       "      <td>0.0</td>\n",
       "      <td>0.0</td>\n",
       "      <td>1.0</td>\n",
       "      <td>1.0</td>\n",
       "      <td>0.0</td>\n",
       "      <td>0.0</td>\n",
       "      <td>0.0</td>\n",
       "      <td>0.0</td>\n",
       "      <td>0.0</td>\n",
       "      <td>0.0</td>\n",
       "      <td>1.0</td>\n",
       "      <td>0.0</td>\n",
       "      <td>0.0</td>\n",
       "      <td>0.0</td>\n",
       "      <td>0.0</td>\n",
       "      <td>0.0</td>\n",
       "      <td>0.0</td>\n",
       "      <td>0.0</td>\n",
       "      <td>4</td>\n",
       "      <td>2</td>\n",
       "      <td>32</td>\n",
       "      <td>5</td>\n",
       "      <td>12.0</td>\n",
       "      <td>5.0</td>\n",
       "    </tr>\n",
       "  </tbody>\n",
       "</table>\n",
       "</div>"
      ],
      "text/plain": [
       "  cat__dispaly_res_type_Full HD+  \\\n",
       "0                            1.0   \n",
       "1                            1.0   \n",
       "2                            1.0   \n",
       "3                            1.0   \n",
       "4                            0.0   \n",
       "\n",
       "  cat__dispaly_res_type_Full HD+ AMOLED Display cat__dispaly_res_type_HD  \\\n",
       "0                                           0.0                      0.0   \n",
       "1                                           0.0                      0.0   \n",
       "2                                           0.0                      0.0   \n",
       "3                                           0.0                      0.0   \n",
       "4                                           0.0                      0.0   \n",
       "\n",
       "  cat__dispaly_res_type_HD+ cat__dispaly_res_type_other cat__os_Android 11  \\\n",
       "0                       0.0                         0.0                0.0   \n",
       "1                       0.0                         0.0                0.0   \n",
       "2                       0.0                         0.0                0.0   \n",
       "3                       0.0                         0.0                0.0   \n",
       "4                       1.0                         0.0                0.0   \n",
       "\n",
       "  cat__os_Android 12 cat__os_Android 13 cat__os_Android 14 cat__os_other  \\\n",
       "0                1.0                0.0                0.0           0.0   \n",
       "1                1.0                0.0                0.0           0.0   \n",
       "2                1.0                0.0                0.0           0.0   \n",
       "3                0.0                0.0                0.0           0.0   \n",
       "4                0.0                0.0                0.0           1.0   \n",
       "\n",
       "  cat__processor_brand_Snapdragon cat__processor_brand_other  \\\n",
       "0                             0.0                        0.0   \n",
       "1                             0.0                        0.0   \n",
       "2                             0.0                        0.0   \n",
       "3                             0.0                        0.0   \n",
       "4                             1.0                        0.0   \n",
       "\n",
       "  cat__mobile_brand_Infinix cat__mobile_brand_Motorola cat__mobile_brand_OPPO  \\\n",
       "0                       0.0                        0.0                    0.0   \n",
       "1                       0.0                        0.0                    0.0   \n",
       "2                       0.0                        0.0                    0.0   \n",
       "3                       0.0                        0.0                    0.0   \n",
       "4                       0.0                        0.0                    0.0   \n",
       "\n",
       "  cat__mobile_brand_POCO cat__mobile_brand_REDMI cat__mobile_brand_Redmi  \\\n",
       "0                    1.0                     0.0                     0.0   \n",
       "1                    0.0                     0.0                     0.0   \n",
       "2                    0.0                     0.0                     0.0   \n",
       "3                    1.0                     0.0                     0.0   \n",
       "4                    0.0                     0.0                     1.0   \n",
       "\n",
       "  cat__mobile_brand_SAMSUNG cat__mobile_brand_other cat__mobile_brand_realme  \\\n",
       "0                       0.0                     0.0                      0.0   \n",
       "1                       0.0                     0.0                      1.0   \n",
       "2                       0.0                     0.0                      0.0   \n",
       "3                       0.0                     0.0                      0.0   \n",
       "4                       0.0                     0.0                      0.0   \n",
       "\n",
       "  cat__mobile_brand_vivo cat__Battery_Category_4000-5000  \\\n",
       "0                    0.0                             1.0   \n",
       "1                    0.0                             1.0   \n",
       "2                    1.0                             1.0   \n",
       "3                    0.0                             1.0   \n",
       "4                    0.0                             0.0   \n",
       "\n",
       "  cat__Battery_Category_5000-6000 cat__Battery_Category_<3000  \\\n",
       "0                             0.0                         0.0   \n",
       "1                             0.0                         0.0   \n",
       "2                             0.0                         0.0   \n",
       "3                             0.0                         0.0   \n",
       "4                             0.0                         0.0   \n",
       "\n",
       "  remainder__connectivity_feature remainder__ram remainder__internal_storgar  \\\n",
       "0                               5              4                          64   \n",
       "1                               5              8                         128   \n",
       "2                               5              8                         128   \n",
       "3                               4              6                         128   \n",
       "4                               4              2                          32   \n",
       "\n",
       "  remainder__dispaly_size_in_inches remainder__back_camera  \\\n",
       "0                                 6                   50.0   \n",
       "1                                 6                   50.0   \n",
       "2                                 6                  108.0   \n",
       "3                                 6                   13.0   \n",
       "4                                 5                   12.0   \n",
       "\n",
       "  remainder__front_camera  \n",
       "0                     8.0  \n",
       "1                    16.0  \n",
       "2               14.093101  \n",
       "3                     8.0  \n",
       "4                     5.0  "
      ]
     },
     "execution_count": 75,
     "metadata": {},
     "output_type": "execute_result"
    }
   ],
   "source": [
    "X_train_encoded.head()"
   ]
  },
  {
   "cell_type": "code",
   "execution_count": 76,
   "metadata": {},
   "outputs": [
    {
     "data": {
      "text/plain": [
       "processor_brand\n",
       "Mediatek      710\n",
       "Snapdragon    498\n",
       "other         221\n",
       "Name: count, dtype: int64"
      ]
     },
     "execution_count": 76,
     "metadata": {},
     "output_type": "execute_result"
    }
   ],
   "source": [
    "df['processor_brand'].value_counts()"
   ]
  },
  {
   "cell_type": "code",
   "execution_count": 77,
   "metadata": {},
   "outputs": [],
   "source": [
    "X_test_encoded = pd.DataFrame(preprocessor.transform(X_test),columns=preprocessor.get_feature_names_out())"
   ]
  },
  {
   "cell_type": "code",
   "execution_count": 78,
   "metadata": {},
   "outputs": [
    {
     "data": {
      "text/html": [
       "<div>\n",
       "<style scoped>\n",
       "    .dataframe tbody tr th:only-of-type {\n",
       "        vertical-align: middle;\n",
       "    }\n",
       "\n",
       "    .dataframe tbody tr th {\n",
       "        vertical-align: top;\n",
       "    }\n",
       "\n",
       "    .dataframe thead th {\n",
       "        text-align: right;\n",
       "    }\n",
       "</style>\n",
       "<table border=\"1\" class=\"dataframe\">\n",
       "  <thead>\n",
       "    <tr style=\"text-align: right;\">\n",
       "      <th></th>\n",
       "      <th>cat__dispaly_res_type_Full HD+</th>\n",
       "      <th>cat__dispaly_res_type_Full HD+ AMOLED Display</th>\n",
       "      <th>cat__dispaly_res_type_HD</th>\n",
       "      <th>cat__dispaly_res_type_HD+</th>\n",
       "      <th>cat__dispaly_res_type_other</th>\n",
       "      <th>cat__os_Android 11</th>\n",
       "      <th>cat__os_Android 12</th>\n",
       "      <th>cat__os_Android 13</th>\n",
       "      <th>cat__os_Android 14</th>\n",
       "      <th>cat__os_other</th>\n",
       "      <th>cat__processor_brand_Snapdragon</th>\n",
       "      <th>cat__processor_brand_other</th>\n",
       "      <th>cat__mobile_brand_Infinix</th>\n",
       "      <th>cat__mobile_brand_Motorola</th>\n",
       "      <th>cat__mobile_brand_OPPO</th>\n",
       "      <th>cat__mobile_brand_POCO</th>\n",
       "      <th>cat__mobile_brand_REDMI</th>\n",
       "      <th>cat__mobile_brand_Redmi</th>\n",
       "      <th>cat__mobile_brand_SAMSUNG</th>\n",
       "      <th>cat__mobile_brand_other</th>\n",
       "      <th>cat__mobile_brand_realme</th>\n",
       "      <th>cat__mobile_brand_vivo</th>\n",
       "      <th>cat__Battery_Category_4000-5000</th>\n",
       "      <th>cat__Battery_Category_5000-6000</th>\n",
       "      <th>cat__Battery_Category_&lt;3000</th>\n",
       "      <th>remainder__connectivity_feature</th>\n",
       "      <th>remainder__ram</th>\n",
       "      <th>remainder__internal_storgar</th>\n",
       "      <th>remainder__dispaly_size_in_inches</th>\n",
       "      <th>remainder__back_camera</th>\n",
       "      <th>remainder__front_camera</th>\n",
       "    </tr>\n",
       "  </thead>\n",
       "  <tbody>\n",
       "    <tr>\n",
       "      <th>0</th>\n",
       "      <td>0.0</td>\n",
       "      <td>0.0</td>\n",
       "      <td>0.0</td>\n",
       "      <td>1.0</td>\n",
       "      <td>0.0</td>\n",
       "      <td>0.0</td>\n",
       "      <td>0.0</td>\n",
       "      <td>0.0</td>\n",
       "      <td>0.0</td>\n",
       "      <td>0.0</td>\n",
       "      <td>0.0</td>\n",
       "      <td>0.0</td>\n",
       "      <td>1.0</td>\n",
       "      <td>0.0</td>\n",
       "      <td>0.0</td>\n",
       "      <td>0.0</td>\n",
       "      <td>0.0</td>\n",
       "      <td>0.0</td>\n",
       "      <td>0.0</td>\n",
       "      <td>0.0</td>\n",
       "      <td>0.0</td>\n",
       "      <td>0.0</td>\n",
       "      <td>1.0</td>\n",
       "      <td>0.0</td>\n",
       "      <td>0.0</td>\n",
       "      <td>4</td>\n",
       "      <td>2</td>\n",
       "      <td>32</td>\n",
       "      <td>6</td>\n",
       "      <td>8.0</td>\n",
       "      <td>5.0</td>\n",
       "    </tr>\n",
       "  </tbody>\n",
       "</table>\n",
       "</div>"
      ],
      "text/plain": [
       "  cat__dispaly_res_type_Full HD+  \\\n",
       "0                            0.0   \n",
       "\n",
       "  cat__dispaly_res_type_Full HD+ AMOLED Display cat__dispaly_res_type_HD  \\\n",
       "0                                           0.0                      0.0   \n",
       "\n",
       "  cat__dispaly_res_type_HD+ cat__dispaly_res_type_other cat__os_Android 11  \\\n",
       "0                       1.0                         0.0                0.0   \n",
       "\n",
       "  cat__os_Android 12 cat__os_Android 13 cat__os_Android 14 cat__os_other  \\\n",
       "0                0.0                0.0                0.0           0.0   \n",
       "\n",
       "  cat__processor_brand_Snapdragon cat__processor_brand_other  \\\n",
       "0                             0.0                        0.0   \n",
       "\n",
       "  cat__mobile_brand_Infinix cat__mobile_brand_Motorola cat__mobile_brand_OPPO  \\\n",
       "0                       1.0                        0.0                    0.0   \n",
       "\n",
       "  cat__mobile_brand_POCO cat__mobile_brand_REDMI cat__mobile_brand_Redmi  \\\n",
       "0                    0.0                     0.0                     0.0   \n",
       "\n",
       "  cat__mobile_brand_SAMSUNG cat__mobile_brand_other cat__mobile_brand_realme  \\\n",
       "0                       0.0                     0.0                      0.0   \n",
       "\n",
       "  cat__mobile_brand_vivo cat__Battery_Category_4000-5000  \\\n",
       "0                    0.0                             1.0   \n",
       "\n",
       "  cat__Battery_Category_5000-6000 cat__Battery_Category_<3000  \\\n",
       "0                             0.0                         0.0   \n",
       "\n",
       "  remainder__connectivity_feature remainder__ram remainder__internal_storgar  \\\n",
       "0                               4              2                          32   \n",
       "\n",
       "  remainder__dispaly_size_in_inches remainder__back_camera  \\\n",
       "0                                 6                    8.0   \n",
       "\n",
       "  remainder__front_camera  \n",
       "0                     5.0  "
      ]
     },
     "execution_count": 78,
     "metadata": {},
     "output_type": "execute_result"
    }
   ],
   "source": [
    "X_test_encoded.head(1)"
   ]
  },
  {
   "cell_type": "code",
   "execution_count": 79,
   "metadata": {},
   "outputs": [
    {
     "data": {
      "text/plain": [
       "(1000, 31)"
      ]
     },
     "execution_count": 79,
     "metadata": {},
     "output_type": "execute_result"
    }
   ],
   "source": [
    "X_train_encoded.shape"
   ]
  },
  {
   "cell_type": "code",
   "execution_count": 80,
   "metadata": {},
   "outputs": [],
   "source": [
    "from sklearn.linear_model import LinearRegression\n",
    "from sklearn.tree import DecisionTreeRegressor\n",
    "from sklearn.ensemble import RandomForestRegressor, GradientBoostingRegressor\n",
    "from sklearn.svm import SVR\n",
    "from sklearn.neighbors import KNeighborsRegressor\n",
    "\n",
    "from sklearn.metrics import mean_squared_error, mean_absolute_error, r2_score\n",
    "from sklearn.model_selection import cross_val_score\n"
   ]
  },
  {
   "cell_type": "code",
   "execution_count": 81,
   "metadata": {},
   "outputs": [],
   "source": [
    "models = {\n",
    "'Linear Regression': LinearRegression(),\n",
    "'Decision Tree Regressor': DecisionTreeRegressor(),\n",
    "'Random Forest Regressor': RandomForestRegressor(),\n",
    "'Gradient Boosting Regressor': GradientBoostingRegressor(),\n",
    "#'Support Vector Regressor': SVR(),\n",
    "'K-Neighbors Regressor': KNeighborsRegressor()\n",
    "}\n"
   ]
  },
  {
   "cell_type": "code",
   "execution_count": 82,
   "metadata": {},
   "outputs": [
    {
     "name": "stdout",
     "output_type": "stream",
     "text": [
      "0.653350813193456\n",
      "0.8833530999906184\n",
      "0.8693420998348816\n",
      "0.8364488477463905\n",
      "0.6150744379727651\n"
     ]
    }
   ],
   "source": [
    "for model in models.values():\n",
    "    model.fit(X_train_encoded,y_train)\n",
    "    y_pred = model.predict(X_test_encoded)\n",
    "    r2 = r2_score(y_test,y_pred)\n",
    "    print(r2)"
   ]
  },
  {
   "cell_type": "code",
   "execution_count": 83,
   "metadata": {},
   "outputs": [
    {
     "data": {
      "text/html": [
       "<style>#sk-container-id-1 {\n",
       "  /* Definition of color scheme common for light and dark mode */\n",
       "  --sklearn-color-text: black;\n",
       "  --sklearn-color-line: gray;\n",
       "  /* Definition of color scheme for unfitted estimators */\n",
       "  --sklearn-color-unfitted-level-0: #fff5e6;\n",
       "  --sklearn-color-unfitted-level-1: #f6e4d2;\n",
       "  --sklearn-color-unfitted-level-2: #ffe0b3;\n",
       "  --sklearn-color-unfitted-level-3: chocolate;\n",
       "  /* Definition of color scheme for fitted estimators */\n",
       "  --sklearn-color-fitted-level-0: #f0f8ff;\n",
       "  --sklearn-color-fitted-level-1: #d4ebff;\n",
       "  --sklearn-color-fitted-level-2: #b3dbfd;\n",
       "  --sklearn-color-fitted-level-3: cornflowerblue;\n",
       "\n",
       "  /* Specific color for light theme */\n",
       "  --sklearn-color-text-on-default-background: var(--sg-text-color, var(--theme-code-foreground, var(--jp-content-font-color1, black)));\n",
       "  --sklearn-color-background: var(--sg-background-color, var(--theme-background, var(--jp-layout-color0, white)));\n",
       "  --sklearn-color-border-box: var(--sg-text-color, var(--theme-code-foreground, var(--jp-content-font-color1, black)));\n",
       "  --sklearn-color-icon: #696969;\n",
       "\n",
       "  @media (prefers-color-scheme: dark) {\n",
       "    /* Redefinition of color scheme for dark theme */\n",
       "    --sklearn-color-text-on-default-background: var(--sg-text-color, var(--theme-code-foreground, var(--jp-content-font-color1, white)));\n",
       "    --sklearn-color-background: var(--sg-background-color, var(--theme-background, var(--jp-layout-color0, #111)));\n",
       "    --sklearn-color-border-box: var(--sg-text-color, var(--theme-code-foreground, var(--jp-content-font-color1, white)));\n",
       "    --sklearn-color-icon: #878787;\n",
       "  }\n",
       "}\n",
       "\n",
       "#sk-container-id-1 {\n",
       "  color: var(--sklearn-color-text);\n",
       "}\n",
       "\n",
       "#sk-container-id-1 pre {\n",
       "  padding: 0;\n",
       "}\n",
       "\n",
       "#sk-container-id-1 input.sk-hidden--visually {\n",
       "  border: 0;\n",
       "  clip: rect(1px 1px 1px 1px);\n",
       "  clip: rect(1px, 1px, 1px, 1px);\n",
       "  height: 1px;\n",
       "  margin: -1px;\n",
       "  overflow: hidden;\n",
       "  padding: 0;\n",
       "  position: absolute;\n",
       "  width: 1px;\n",
       "}\n",
       "\n",
       "#sk-container-id-1 div.sk-dashed-wrapped {\n",
       "  border: 1px dashed var(--sklearn-color-line);\n",
       "  margin: 0 0.4em 0.5em 0.4em;\n",
       "  box-sizing: border-box;\n",
       "  padding-bottom: 0.4em;\n",
       "  background-color: var(--sklearn-color-background);\n",
       "}\n",
       "\n",
       "#sk-container-id-1 div.sk-container {\n",
       "  /* jupyter's `normalize.less` sets `[hidden] { display: none; }`\n",
       "     but bootstrap.min.css set `[hidden] { display: none !important; }`\n",
       "     so we also need the `!important` here to be able to override the\n",
       "     default hidden behavior on the sphinx rendered scikit-learn.org.\n",
       "     See: https://github.com/scikit-learn/scikit-learn/issues/21755 */\n",
       "  display: inline-block !important;\n",
       "  position: relative;\n",
       "}\n",
       "\n",
       "#sk-container-id-1 div.sk-text-repr-fallback {\n",
       "  display: none;\n",
       "}\n",
       "\n",
       "div.sk-parallel-item,\n",
       "div.sk-serial,\n",
       "div.sk-item {\n",
       "  /* draw centered vertical line to link estimators */\n",
       "  background-image: linear-gradient(var(--sklearn-color-text-on-default-background), var(--sklearn-color-text-on-default-background));\n",
       "  background-size: 2px 100%;\n",
       "  background-repeat: no-repeat;\n",
       "  background-position: center center;\n",
       "}\n",
       "\n",
       "/* Parallel-specific style estimator block */\n",
       "\n",
       "#sk-container-id-1 div.sk-parallel-item::after {\n",
       "  content: \"\";\n",
       "  width: 100%;\n",
       "  border-bottom: 2px solid var(--sklearn-color-text-on-default-background);\n",
       "  flex-grow: 1;\n",
       "}\n",
       "\n",
       "#sk-container-id-1 div.sk-parallel {\n",
       "  display: flex;\n",
       "  align-items: stretch;\n",
       "  justify-content: center;\n",
       "  background-color: var(--sklearn-color-background);\n",
       "  position: relative;\n",
       "}\n",
       "\n",
       "#sk-container-id-1 div.sk-parallel-item {\n",
       "  display: flex;\n",
       "  flex-direction: column;\n",
       "}\n",
       "\n",
       "#sk-container-id-1 div.sk-parallel-item:first-child::after {\n",
       "  align-self: flex-end;\n",
       "  width: 50%;\n",
       "}\n",
       "\n",
       "#sk-container-id-1 div.sk-parallel-item:last-child::after {\n",
       "  align-self: flex-start;\n",
       "  width: 50%;\n",
       "}\n",
       "\n",
       "#sk-container-id-1 div.sk-parallel-item:only-child::after {\n",
       "  width: 0;\n",
       "}\n",
       "\n",
       "/* Serial-specific style estimator block */\n",
       "\n",
       "#sk-container-id-1 div.sk-serial {\n",
       "  display: flex;\n",
       "  flex-direction: column;\n",
       "  align-items: center;\n",
       "  background-color: var(--sklearn-color-background);\n",
       "  padding-right: 1em;\n",
       "  padding-left: 1em;\n",
       "}\n",
       "\n",
       "\n",
       "/* Toggleable style: style used for estimator/Pipeline/ColumnTransformer box that is\n",
       "clickable and can be expanded/collapsed.\n",
       "- Pipeline and ColumnTransformer use this feature and define the default style\n",
       "- Estimators will overwrite some part of the style using the `sk-estimator` class\n",
       "*/\n",
       "\n",
       "/* Pipeline and ColumnTransformer style (default) */\n",
       "\n",
       "#sk-container-id-1 div.sk-toggleable {\n",
       "  /* Default theme specific background. It is overwritten whether we have a\n",
       "  specific estimator or a Pipeline/ColumnTransformer */\n",
       "  background-color: var(--sklearn-color-background);\n",
       "}\n",
       "\n",
       "/* Toggleable label */\n",
       "#sk-container-id-1 label.sk-toggleable__label {\n",
       "  cursor: pointer;\n",
       "  display: block;\n",
       "  width: 100%;\n",
       "  margin-bottom: 0;\n",
       "  padding: 0.5em;\n",
       "  box-sizing: border-box;\n",
       "  text-align: center;\n",
       "}\n",
       "\n",
       "#sk-container-id-1 label.sk-toggleable__label-arrow:before {\n",
       "  /* Arrow on the left of the label */\n",
       "  content: \"▸\";\n",
       "  float: left;\n",
       "  margin-right: 0.25em;\n",
       "  color: var(--sklearn-color-icon);\n",
       "}\n",
       "\n",
       "#sk-container-id-1 label.sk-toggleable__label-arrow:hover:before {\n",
       "  color: var(--sklearn-color-text);\n",
       "}\n",
       "\n",
       "/* Toggleable content - dropdown */\n",
       "\n",
       "#sk-container-id-1 div.sk-toggleable__content {\n",
       "  max-height: 0;\n",
       "  max-width: 0;\n",
       "  overflow: hidden;\n",
       "  text-align: left;\n",
       "  /* unfitted */\n",
       "  background-color: var(--sklearn-color-unfitted-level-0);\n",
       "}\n",
       "\n",
       "#sk-container-id-1 div.sk-toggleable__content.fitted {\n",
       "  /* fitted */\n",
       "  background-color: var(--sklearn-color-fitted-level-0);\n",
       "}\n",
       "\n",
       "#sk-container-id-1 div.sk-toggleable__content pre {\n",
       "  margin: 0.2em;\n",
       "  border-radius: 0.25em;\n",
       "  color: var(--sklearn-color-text);\n",
       "  /* unfitted */\n",
       "  background-color: var(--sklearn-color-unfitted-level-0);\n",
       "}\n",
       "\n",
       "#sk-container-id-1 div.sk-toggleable__content.fitted pre {\n",
       "  /* unfitted */\n",
       "  background-color: var(--sklearn-color-fitted-level-0);\n",
       "}\n",
       "\n",
       "#sk-container-id-1 input.sk-toggleable__control:checked~div.sk-toggleable__content {\n",
       "  /* Expand drop-down */\n",
       "  max-height: 200px;\n",
       "  max-width: 100%;\n",
       "  overflow: auto;\n",
       "}\n",
       "\n",
       "#sk-container-id-1 input.sk-toggleable__control:checked~label.sk-toggleable__label-arrow:before {\n",
       "  content: \"▾\";\n",
       "}\n",
       "\n",
       "/* Pipeline/ColumnTransformer-specific style */\n",
       "\n",
       "#sk-container-id-1 div.sk-label input.sk-toggleable__control:checked~label.sk-toggleable__label {\n",
       "  color: var(--sklearn-color-text);\n",
       "  background-color: var(--sklearn-color-unfitted-level-2);\n",
       "}\n",
       "\n",
       "#sk-container-id-1 div.sk-label.fitted input.sk-toggleable__control:checked~label.sk-toggleable__label {\n",
       "  background-color: var(--sklearn-color-fitted-level-2);\n",
       "}\n",
       "\n",
       "/* Estimator-specific style */\n",
       "\n",
       "/* Colorize estimator box */\n",
       "#sk-container-id-1 div.sk-estimator input.sk-toggleable__control:checked~label.sk-toggleable__label {\n",
       "  /* unfitted */\n",
       "  background-color: var(--sklearn-color-unfitted-level-2);\n",
       "}\n",
       "\n",
       "#sk-container-id-1 div.sk-estimator.fitted input.sk-toggleable__control:checked~label.sk-toggleable__label {\n",
       "  /* fitted */\n",
       "  background-color: var(--sklearn-color-fitted-level-2);\n",
       "}\n",
       "\n",
       "#sk-container-id-1 div.sk-label label.sk-toggleable__label,\n",
       "#sk-container-id-1 div.sk-label label {\n",
       "  /* The background is the default theme color */\n",
       "  color: var(--sklearn-color-text-on-default-background);\n",
       "}\n",
       "\n",
       "/* On hover, darken the color of the background */\n",
       "#sk-container-id-1 div.sk-label:hover label.sk-toggleable__label {\n",
       "  color: var(--sklearn-color-text);\n",
       "  background-color: var(--sklearn-color-unfitted-level-2);\n",
       "}\n",
       "\n",
       "/* Label box, darken color on hover, fitted */\n",
       "#sk-container-id-1 div.sk-label.fitted:hover label.sk-toggleable__label.fitted {\n",
       "  color: var(--sklearn-color-text);\n",
       "  background-color: var(--sklearn-color-fitted-level-2);\n",
       "}\n",
       "\n",
       "/* Estimator label */\n",
       "\n",
       "#sk-container-id-1 div.sk-label label {\n",
       "  font-family: monospace;\n",
       "  font-weight: bold;\n",
       "  display: inline-block;\n",
       "  line-height: 1.2em;\n",
       "}\n",
       "\n",
       "#sk-container-id-1 div.sk-label-container {\n",
       "  text-align: center;\n",
       "}\n",
       "\n",
       "/* Estimator-specific */\n",
       "#sk-container-id-1 div.sk-estimator {\n",
       "  font-family: monospace;\n",
       "  border: 1px dotted var(--sklearn-color-border-box);\n",
       "  border-radius: 0.25em;\n",
       "  box-sizing: border-box;\n",
       "  margin-bottom: 0.5em;\n",
       "  /* unfitted */\n",
       "  background-color: var(--sklearn-color-unfitted-level-0);\n",
       "}\n",
       "\n",
       "#sk-container-id-1 div.sk-estimator.fitted {\n",
       "  /* fitted */\n",
       "  background-color: var(--sklearn-color-fitted-level-0);\n",
       "}\n",
       "\n",
       "/* on hover */\n",
       "#sk-container-id-1 div.sk-estimator:hover {\n",
       "  /* unfitted */\n",
       "  background-color: var(--sklearn-color-unfitted-level-2);\n",
       "}\n",
       "\n",
       "#sk-container-id-1 div.sk-estimator.fitted:hover {\n",
       "  /* fitted */\n",
       "  background-color: var(--sklearn-color-fitted-level-2);\n",
       "}\n",
       "\n",
       "/* Specification for estimator info (e.g. \"i\" and \"?\") */\n",
       "\n",
       "/* Common style for \"i\" and \"?\" */\n",
       "\n",
       ".sk-estimator-doc-link,\n",
       "a:link.sk-estimator-doc-link,\n",
       "a:visited.sk-estimator-doc-link {\n",
       "  float: right;\n",
       "  font-size: smaller;\n",
       "  line-height: 1em;\n",
       "  font-family: monospace;\n",
       "  background-color: var(--sklearn-color-background);\n",
       "  border-radius: 1em;\n",
       "  height: 1em;\n",
       "  width: 1em;\n",
       "  text-decoration: none !important;\n",
       "  margin-left: 1ex;\n",
       "  /* unfitted */\n",
       "  border: var(--sklearn-color-unfitted-level-1) 1pt solid;\n",
       "  color: var(--sklearn-color-unfitted-level-1);\n",
       "}\n",
       "\n",
       ".sk-estimator-doc-link.fitted,\n",
       "a:link.sk-estimator-doc-link.fitted,\n",
       "a:visited.sk-estimator-doc-link.fitted {\n",
       "  /* fitted */\n",
       "  border: var(--sklearn-color-fitted-level-1) 1pt solid;\n",
       "  color: var(--sklearn-color-fitted-level-1);\n",
       "}\n",
       "\n",
       "/* On hover */\n",
       "div.sk-estimator:hover .sk-estimator-doc-link:hover,\n",
       ".sk-estimator-doc-link:hover,\n",
       "div.sk-label-container:hover .sk-estimator-doc-link:hover,\n",
       ".sk-estimator-doc-link:hover {\n",
       "  /* unfitted */\n",
       "  background-color: var(--sklearn-color-unfitted-level-3);\n",
       "  color: var(--sklearn-color-background);\n",
       "  text-decoration: none;\n",
       "}\n",
       "\n",
       "div.sk-estimator.fitted:hover .sk-estimator-doc-link.fitted:hover,\n",
       ".sk-estimator-doc-link.fitted:hover,\n",
       "div.sk-label-container:hover .sk-estimator-doc-link.fitted:hover,\n",
       ".sk-estimator-doc-link.fitted:hover {\n",
       "  /* fitted */\n",
       "  background-color: var(--sklearn-color-fitted-level-3);\n",
       "  color: var(--sklearn-color-background);\n",
       "  text-decoration: none;\n",
       "}\n",
       "\n",
       "/* Span, style for the box shown on hovering the info icon */\n",
       ".sk-estimator-doc-link span {\n",
       "  display: none;\n",
       "  z-index: 9999;\n",
       "  position: relative;\n",
       "  font-weight: normal;\n",
       "  right: .2ex;\n",
       "  padding: .5ex;\n",
       "  margin: .5ex;\n",
       "  width: min-content;\n",
       "  min-width: 20ex;\n",
       "  max-width: 50ex;\n",
       "  color: var(--sklearn-color-text);\n",
       "  box-shadow: 2pt 2pt 4pt #999;\n",
       "  /* unfitted */\n",
       "  background: var(--sklearn-color-unfitted-level-0);\n",
       "  border: .5pt solid var(--sklearn-color-unfitted-level-3);\n",
       "}\n",
       "\n",
       ".sk-estimator-doc-link.fitted span {\n",
       "  /* fitted */\n",
       "  background: var(--sklearn-color-fitted-level-0);\n",
       "  border: var(--sklearn-color-fitted-level-3);\n",
       "}\n",
       "\n",
       ".sk-estimator-doc-link:hover span {\n",
       "  display: block;\n",
       "}\n",
       "\n",
       "/* \"?\"-specific style due to the `<a>` HTML tag */\n",
       "\n",
       "#sk-container-id-1 a.estimator_doc_link {\n",
       "  float: right;\n",
       "  font-size: 1rem;\n",
       "  line-height: 1em;\n",
       "  font-family: monospace;\n",
       "  background-color: var(--sklearn-color-background);\n",
       "  border-radius: 1rem;\n",
       "  height: 1rem;\n",
       "  width: 1rem;\n",
       "  text-decoration: none;\n",
       "  /* unfitted */\n",
       "  color: var(--sklearn-color-unfitted-level-1);\n",
       "  border: var(--sklearn-color-unfitted-level-1) 1pt solid;\n",
       "}\n",
       "\n",
       "#sk-container-id-1 a.estimator_doc_link.fitted {\n",
       "  /* fitted */\n",
       "  border: var(--sklearn-color-fitted-level-1) 1pt solid;\n",
       "  color: var(--sklearn-color-fitted-level-1);\n",
       "}\n",
       "\n",
       "/* On hover */\n",
       "#sk-container-id-1 a.estimator_doc_link:hover {\n",
       "  /* unfitted */\n",
       "  background-color: var(--sklearn-color-unfitted-level-3);\n",
       "  color: var(--sklearn-color-background);\n",
       "  text-decoration: none;\n",
       "}\n",
       "\n",
       "#sk-container-id-1 a.estimator_doc_link.fitted:hover {\n",
       "  /* fitted */\n",
       "  background-color: var(--sklearn-color-fitted-level-3);\n",
       "}\n",
       "</style><div id=\"sk-container-id-1\" class=\"sk-top-container\"><div class=\"sk-text-repr-fallback\"><pre>DecisionTreeRegressor()</pre><b>In a Jupyter environment, please rerun this cell to show the HTML representation or trust the notebook. <br />On GitHub, the HTML representation is unable to render, please try loading this page with nbviewer.org.</b></div><div class=\"sk-container\" hidden><div class=\"sk-item\"><div class=\"sk-estimator fitted sk-toggleable\"><input class=\"sk-toggleable__control sk-hidden--visually\" id=\"sk-estimator-id-1\" type=\"checkbox\" checked><label for=\"sk-estimator-id-1\" class=\"sk-toggleable__label fitted sk-toggleable__label-arrow fitted\">&nbsp;&nbsp;DecisionTreeRegressor<a class=\"sk-estimator-doc-link fitted\" rel=\"noreferrer\" target=\"_blank\" href=\"https://scikit-learn.org/1.4/modules/generated/sklearn.tree.DecisionTreeRegressor.html\">?<span>Documentation for DecisionTreeRegressor</span></a><span class=\"sk-estimator-doc-link fitted\">i<span>Fitted</span></span></label><div class=\"sk-toggleable__content fitted\"><pre>DecisionTreeRegressor()</pre></div> </div></div></div></div>"
      ],
      "text/plain": [
       "DecisionTreeRegressor()"
      ]
     },
     "execution_count": 83,
     "metadata": {},
     "output_type": "execute_result"
    }
   ],
   "source": [
    "dc = DecisionTreeRegressor()\n",
    "dc.fit(X_train_encoded,y_train)"
   ]
  },
  {
   "cell_type": "code",
   "execution_count": 84,
   "metadata": {},
   "outputs": [
    {
     "name": "stdout",
     "output_type": "stream",
     "text": [
      "0.8859487657076465\n"
     ]
    }
   ],
   "source": [
    "y_pred = dc.predict(X_test_encoded)\n",
    "r2 = r2_score(y_test,y_pred)\n",
    "print(r2)"
   ]
  },
  {
   "cell_type": "code",
   "execution_count": 85,
   "metadata": {},
   "outputs": [
    {
     "data": {
      "text/html": [
       "<div>\n",
       "<style scoped>\n",
       "    .dataframe tbody tr th:only-of-type {\n",
       "        vertical-align: middle;\n",
       "    }\n",
       "\n",
       "    .dataframe tbody tr th {\n",
       "        vertical-align: top;\n",
       "    }\n",
       "\n",
       "    .dataframe thead th {\n",
       "        text-align: right;\n",
       "    }\n",
       "</style>\n",
       "<table border=\"1\" class=\"dataframe\">\n",
       "  <thead>\n",
       "    <tr style=\"text-align: right;\">\n",
       "      <th></th>\n",
       "      <th>price</th>\n",
       "      <th>dispaly_res_type</th>\n",
       "      <th>os</th>\n",
       "      <th>processor_brand</th>\n",
       "      <th>connectivity_feature</th>\n",
       "      <th>ram</th>\n",
       "      <th>internal_storgar</th>\n",
       "      <th>mobile_brand</th>\n",
       "      <th>dispaly_size_in_inches</th>\n",
       "      <th>back_camera</th>\n",
       "      <th>front_camera</th>\n",
       "      <th>Battery_Category</th>\n",
       "    </tr>\n",
       "  </thead>\n",
       "  <tbody>\n",
       "    <tr>\n",
       "      <th>114</th>\n",
       "      <td>7499</td>\n",
       "      <td>HD+</td>\n",
       "      <td>Android 10</td>\n",
       "      <td>Mediatek</td>\n",
       "      <td>4</td>\n",
       "      <td>2</td>\n",
       "      <td>32</td>\n",
       "      <td>Infinix</td>\n",
       "      <td>6</td>\n",
       "      <td>13.0</td>\n",
       "      <td>8.0</td>\n",
       "      <td>5000-6000</td>\n",
       "    </tr>\n",
       "  </tbody>\n",
       "</table>\n",
       "</div>"
      ],
      "text/plain": [
       "     price dispaly_res_type          os processor_brand  connectivity_feature  \\\n",
       "114   7499              HD+  Android 10        Mediatek                     4   \n",
       "\n",
       "     ram  internal_storgar mobile_brand  dispaly_size_in_inches  back_camera  \\\n",
       "114    2                32      Infinix                       6         13.0   \n",
       "\n",
       "     front_camera Battery_Category  \n",
       "114           8.0        5000-6000  "
      ]
     },
     "execution_count": 85,
     "metadata": {},
     "output_type": "execute_result"
    }
   ],
   "source": [
    "df.sample()"
   ]
  },
  {
   "cell_type": "code",
   "execution_count": 86,
   "metadata": {},
   "outputs": [
    {
     "data": {
      "text/plain": [
       "['Full HD+ AMOLED Display',\n",
       " 'Android 12',\n",
       " 'Snapdragon',\n",
       " 4,\n",
       " 8,\n",
       " 128,\n",
       " 'vivo',\n",
       " 6,\n",
       " 50.0,\n",
       " 16.0,\n",
       " -1000]"
      ]
     },
     "execution_count": 86,
     "metadata": {},
     "output_type": "execute_result"
    }
   ],
   "source": [
    "['Full HD+ AMOLED Display',\t'Android 12',\t'Snapdragon',\t4,\t8,\t128\t,'vivo',\t6,\t50.0,\t16.0,\t4000-5000]"
   ]
  },
  {
   "cell_type": "code",
   "execution_count": 87,
   "metadata": {},
   "outputs": [
    {
     "name": "stdout",
     "output_type": "stream",
     "text": [
      "<class 'pandas.core.frame.DataFrame'>\n",
      "Index: 1429 entries, 0 to 1432\n",
      "Data columns (total 11 columns):\n",
      " #   Column                  Non-Null Count  Dtype  \n",
      "---  ------                  --------------  -----  \n",
      " 0   dispaly_res_type        1429 non-null   object \n",
      " 1   os                      1429 non-null   object \n",
      " 2   processor_brand         1429 non-null   object \n",
      " 3   connectivity_feature    1429 non-null   Int32  \n",
      " 4   ram                     1429 non-null   int64  \n",
      " 5   internal_storgar        1429 non-null   int64  \n",
      " 6   mobile_brand            1429 non-null   object \n",
      " 7   dispaly_size_in_inches  1429 non-null   Int64  \n",
      " 8   back_camera             1429 non-null   Float64\n",
      " 9   front_camera            1429 non-null   Float64\n",
      " 10  Battery_Category        1429 non-null   object \n",
      "dtypes: Float64(2), Int32(1), Int64(1), int64(2), object(5)\n",
      "memory usage: 134.0+ KB\n"
     ]
    }
   ],
   "source": [
    "X.info()"
   ]
  },
  {
   "cell_type": "code",
   "execution_count": 88,
   "metadata": {},
   "outputs": [
    {
     "data": {
      "text/plain": [
       "array([16998.5])"
      ]
     },
     "execution_count": 88,
     "metadata": {},
     "output_type": "execute_result"
    }
   ],
   "source": [
    "custom_data = pd.DataFrame(\n",
    "    [['Full HD+ AMOLED Display',\t'Android 12',\t'Snapdragon',\t4,\t8,\t128\t,'vivo',\t6,\t50.0,\t16.0,\t'4000-5000']],\n",
    "    columns=X_train.columns\n",
    ")\n",
    "# Apply the same transformations to the custom data\n",
    "custom_data_encoded = pd.DataFrame(preprocessor.transform(custom_data), columns=preprocessor.get_feature_names_out())\n",
    "\n",
    "# Now you can use custom_data_encoded for prediction\n",
    "dc.predict(custom_data_encoded)"
   ]
  },
  {
   "cell_type": "code",
   "execution_count": 89,
   "metadata": {},
   "outputs": [
    {
     "data": {
      "text/html": [
       "<div>\n",
       "<style scoped>\n",
       "    .dataframe tbody tr th:only-of-type {\n",
       "        vertical-align: middle;\n",
       "    }\n",
       "\n",
       "    .dataframe tbody tr th {\n",
       "        vertical-align: top;\n",
       "    }\n",
       "\n",
       "    .dataframe thead th {\n",
       "        text-align: right;\n",
       "    }\n",
       "</style>\n",
       "<table border=\"1\" class=\"dataframe\">\n",
       "  <thead>\n",
       "    <tr style=\"text-align: right;\">\n",
       "      <th></th>\n",
       "      <th>price</th>\n",
       "      <th>dispaly_res_type</th>\n",
       "      <th>os</th>\n",
       "      <th>processor_brand</th>\n",
       "      <th>connectivity_feature</th>\n",
       "      <th>ram</th>\n",
       "      <th>internal_storgar</th>\n",
       "      <th>mobile_brand</th>\n",
       "      <th>dispaly_size_in_inches</th>\n",
       "      <th>back_camera</th>\n",
       "      <th>front_camera</th>\n",
       "      <th>Battery_Category</th>\n",
       "    </tr>\n",
       "  </thead>\n",
       "  <tbody>\n",
       "    <tr>\n",
       "      <th>1432</th>\n",
       "      <td>10999</td>\n",
       "      <td>HD+</td>\n",
       "      <td>Android 11</td>\n",
       "      <td>Snapdragon</td>\n",
       "      <td>4</td>\n",
       "      <td>4</td>\n",
       "      <td>64</td>\n",
       "      <td>REDMI</td>\n",
       "      <td>6</td>\n",
       "      <td>50.0</td>\n",
       "      <td>5.0</td>\n",
       "      <td>5000-6000</td>\n",
       "    </tr>\n",
       "  </tbody>\n",
       "</table>\n",
       "</div>"
      ],
      "text/plain": [
       "      price dispaly_res_type          os processor_brand  \\\n",
       "1432  10999              HD+  Android 11      Snapdragon   \n",
       "\n",
       "      connectivity_feature  ram  internal_storgar mobile_brand  \\\n",
       "1432                     4    4                64        REDMI   \n",
       "\n",
       "      dispaly_size_in_inches  back_camera  front_camera Battery_Category  \n",
       "1432                       6         50.0           5.0        5000-6000  "
      ]
     },
     "execution_count": 89,
     "metadata": {},
     "output_type": "execute_result"
    }
   ],
   "source": [
    "df.sample()"
   ]
  },
  {
   "cell_type": "code",
   "execution_count": null,
   "metadata": {},
   "outputs": [],
   "source": []
  }
 ],
 "metadata": {
  "kernelspec": {
   "display_name": "Python 3",
   "language": "python",
   "name": "python3"
  },
  "language_info": {
   "codemirror_mode": {
    "name": "ipython",
    "version": 3
   },
   "file_extension": ".py",
   "mimetype": "text/x-python",
   "name": "python",
   "nbconvert_exporter": "python",
   "pygments_lexer": "ipython3",
   "version": "3.10.0"
  }
 },
 "nbformat": 4,
 "nbformat_minor": 2
}
